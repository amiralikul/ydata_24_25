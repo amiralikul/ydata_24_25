{
 "cells": [
  {
   "cell_type": "markdown",
   "metadata": {
    "id": "yj46mvzjCjNp"
   },
   "source": [
    "# Notes\n",
    "\n",
    "Exam contains 6 problems, Most of them are of intermediate complexity and follow the material from class or graded assignments. Note, that no loops are allowed in this exam, and all the solutions containing loops will be graded as 0.\n",
    "\n",
    "For this exam you'll need [Titanic](https://www.kaggle.com/c/titanic) and [road accidents](https://www.kaggle.com/daveianhickey/2000-16-traffic-flow-england-scotland-wales) datasets."
   ]
  },
  {
   "cell_type": "code",
   "metadata": {
    "scrolled": true,
    "id": "uZbFMdeYCjNt",
    "ExecuteTime": {
     "end_time": "2024-12-20T16:58:52.858495Z",
     "start_time": "2024-12-20T16:58:52.472602Z"
    }
   },
   "source": [
    "%pylab inline\n",
    "plt.style.use(\"bmh\")"
   ],
   "outputs": [
    {
     "name": "stdout",
     "output_type": "stream",
     "text": [
      "%pylab is deprecated, use %matplotlib inline and import the required libraries.\n",
      "Populating the interactive namespace from numpy and matplotlib\n"
     ]
    }
   ],
   "execution_count": 1
  },
  {
   "cell_type": "code",
   "metadata": {
    "id": "6LnuSBaNCjNv",
    "ExecuteTime": {
     "end_time": "2024-12-20T16:58:52.927290Z",
     "start_time": "2024-12-20T16:58:52.925463Z"
    }
   },
   "source": "plt.rcParams[\"figure.figsize\"] = (6,6)\n",
   "outputs": [],
   "execution_count": 2
  },
  {
   "cell_type": "code",
   "metadata": {
    "scrolled": true,
    "id": "iIWhbEffCjNv",
    "ExecuteTime": {
     "end_time": "2024-12-20T16:58:54.285147Z",
     "start_time": "2024-12-20T16:58:52.968251Z"
    }
   },
   "source": [
    "import numpy as np\n",
    "import pandas as pd\n",
    "import torch"
   ],
   "outputs": [],
   "execution_count": 3
  },
  {
   "cell_type": "code",
   "metadata": {
    "tags": [
     "parameters"
    ],
    "id": "8R1uL5eyCjNw",
    "ExecuteTime": {
     "end_time": "2024-12-20T16:58:54.291601Z",
     "start_time": "2024-12-20T16:58:54.290077Z"
    }
   },
   "source": [
    "STUDENT = \"Amir Alikulov\"\n",
    "ASSIGNMENT = \"exam\"\n",
    "TEST = False"
   ],
   "outputs": [],
   "execution_count": 4
  },
  {
   "cell_type": "code",
   "metadata": {
    "id": "FqQ2bfQlCjNw",
    "ExecuteTime": {
     "end_time": "2024-12-20T16:58:54.300891Z",
     "start_time": "2024-12-20T16:58:54.299394Z"
    }
   },
   "source": [
    "if TEST:\n",
    "    import solutions\n",
    "    total_grade = 0\n",
    "    MAX_POINTS = 10"
   ],
   "outputs": [],
   "execution_count": 5
  },
  {
   "cell_type": "markdown",
   "metadata": {
    "id": "cic9wgo6CjNx"
   },
   "source": [
    "# NumPy"
   ]
  },
  {
   "cell_type": "markdown",
   "metadata": {
    "id": "nIUCUnD9CjNx"
   },
   "source": [
    "### 1. Filtering array (2 points).\n",
    "\n",
    "Clip array values according to the following:\n",
    "\n",
    "- given a two-dimensional array `arr` and threshold value `max_val`,\n",
    "- find those rows, for which row values sum is `> max_val`,\n",
    "- and replace largest value for each of those rows with `v` $\\rightarrow$ `v - <row sum> + max_val`.\n",
    "\n",
    "For example, consider the following array and threshold `max_val=8`:"
   ]
  },
  {
   "cell_type": "code",
   "metadata": {
    "id": "S39kHXlnCjNy",
    "ExecuteTime": {
     "end_time": "2024-12-20T16:58:54.786213Z",
     "start_time": "2024-12-20T16:58:54.784503Z"
    }
   },
   "source": [
    "a = np.array([[1, 5, 4], [-3, 2, 8]])\n",
    "\n"
   ],
   "outputs": [],
   "execution_count": 6
  },
  {
   "cell_type": "markdown",
   "metadata": {
    "id": "EgWCQRG2CjNz"
   },
   "source": [
    "Row sums are:"
   ]
  },
  {
   "cell_type": "code",
   "metadata": {
    "id": "QXCUEKNKCjNz",
    "ExecuteTime": {
     "end_time": "2024-12-20T16:58:55.775318Z",
     "start_time": "2024-12-20T16:58:55.772583Z"
    }
   },
   "source": [
    "a.sum(axis=1)"
   ],
   "outputs": [
    {
     "data": {
      "text/plain": [
       "array([10,  7])"
      ]
     },
     "execution_count": 7,
     "metadata": {},
     "output_type": "execute_result"
    }
   ],
   "execution_count": 7
  },
  {
   "cell_type": "markdown",
   "metadata": {
    "id": "dXmlc6M7CjN0"
   },
   "source": [
    "Since row sum for row `0` is `> max_val`, largest value in that row (`a[0, 1]`, which is `5`), must be replaced with: `5 - 10 + 8 = 3`, resulting in:"
   ]
  },
  {
   "cell_type": "code",
   "metadata": {
    "id": "2_vPGS84CjN0",
    "ExecuteTime": {
     "end_time": "2024-12-20T16:58:56.260789Z",
     "start_time": "2024-12-20T16:58:56.257111Z"
    }
   },
   "source": [
    "a_clipped = np.array([[1, 3, 4], [-3, 2, 8]])\n",
    "a_clipped"
   ],
   "outputs": [
    {
     "data": {
      "text/plain": [
       "array([[ 1,  3,  4],\n",
       "       [-3,  2,  8]])"
      ]
     },
     "execution_count": 8,
     "metadata": {},
     "output_type": "execute_result"
    }
   ],
   "execution_count": 8
  },
  {
   "cell_type": "markdown",
   "metadata": {
    "ExecuteTime": {
     "end_time": "2019-12-10T01:08:49.435119Z",
     "start_time": "2019-12-10T01:08:49.429350Z"
    },
    "id": "GEoWo2q4CjN0"
   },
   "source": [
    "#### Notes:\n",
    "\n",
    "- **do not change original array**,\n",
    "- in this problem you may need to use **boolean and fancy indexing**, as well as `arr.argmax(...)`,\n",
    "- you **cannot use loops**,\n",
    "- input array is of **any two-dimensional shape** (including `(N,1)` and `(1,N)`), filled with **random integers**,\n",
    "- there may be no rows, which satisfy threshold condition, and in that case resulting array must be identical to input array."
   ]
  },
  {
   "cell_type": "code",
   "metadata": {
    "id": "4d2v6qYlCjN1",
    "ExecuteTime": {
     "end_time": "2024-12-20T16:58:56.583855Z",
     "start_time": "2024-12-20T16:58:56.581394Z"
    }
   },
   "source": [
    "def clip_array(arr, max_val):\n",
    "    \"\"\"Clip array based on `max_val`.\"\"\"\n",
    "    arr_copy = arr.copy()\n",
    "    row_sums = arr.sum(axis=1)\n",
    "    rows_mask = row_sums > max_val\n",
    "    max_indices = arr.argmax(axis=1)\n",
    "    arr_copy[rows_mask, max_indices[rows_mask]] = arr[rows_mask, max_indices[rows_mask]] - row_sums[rows_mask] + max_val\n",
    "\n",
    "    return arr_copy"
   ],
   "outputs": [],
   "execution_count": 9
  },
  {
   "cell_type": "code",
   "metadata": {
    "id": "AoUjeno2CjN1",
    "ExecuteTime": {
     "end_time": "2024-12-20T16:58:56.765935Z",
     "start_time": "2024-12-20T16:58:56.763503Z"
    }
   },
   "source": [
    "PROBLEM_ID = 1\n",
    "\n",
    "if TEST:\n",
    "    total_grade += solutions.check(STUDENT, PROBLEM_ID, clip_array)"
   ],
   "outputs": [],
   "execution_count": 10
  },
  {
   "metadata": {
    "id": "gnCh0n9fCjN1"
   },
   "cell_type": "markdown",
   "source": [
    "### 2. Calculate area (1 point).\n",
    "\n",
    "In this problem you will construct a naive Monte-Carlo simulator. Provided with a 2D bounding box, you must calculate it's area:\n",
    "\n",
    "- a bounding box is specified by maximum and minimum `x` and `y`, i.e. a bounding box is a **rectangle** between `minx` and `maxx` over `x`-axis and between `miny` and `maxy` over `y`-axis,\n",
    "- all of `minx`, `maxx`, `miny`, `maxy` are `>=0` and `<=1`,\n",
    "- you can sample **at most** `n_samples` points on 2D place,\n",
    "- ratio of number of points inside a bounding box to total number of points is an **estimate of bounding box area**,\n",
    "- estimate is considered valid, if it's **no more than 10% off of actual area value**,\n",
    "- `n_samples` is chosen in such a way, that **10% error is achievable nearly always**, i.e. chances of getting more then 10% error with correct computation are negligibly small.\n",
    "\n",
    "For example, a bounding box is `minx=0.25`, `maxx=0.5`, `miny=0.1`, `maxy=0.6`. Actual area is `0.125`. Suppose, that we sample `10000` points in unit square $x \\in [0, 1],\\,y \\in [0, 1]$ and 1215 of them are inside the bounding box. Then, an estimate for the bounding box area is `0.1215` (with error of about 2.8%). Image below illustrates this example.\n",
    "\n",
    "![Monte-Carlo integration example](mc.png)"
   ]
  },
  {
   "cell_type": "code",
   "metadata": {
    "id": "tYWP0nyqCjN2",
    "ExecuteTime": {
     "end_time": "2024-12-12T19:40:42.908558Z",
     "start_time": "2024-12-12T19:40:42.889176Z"
    }
   },
   "source": [
    "\n",
    "def calc_area(minx, maxx, miny, maxy, n_samples):\n",
    "    \"\"\"Calculate area of bounding box.\"\"\"\n",
    "\n",
    "    x = np.random.uniform(0, 1, n_samples)\n",
    "    y = np.random.uniform(0, 1, n_samples)\n",
    "\n",
    "    mask = (x >= minx) & (x <= maxx) & (y >= miny) & (y <= maxy)\n",
    "    return mask.sum() / n_samples"
   ],
   "outputs": [
    {
     "name": "stdout",
     "output_type": "stream",
     "text": [
      "0.126\n"
     ]
    }
   ],
   "execution_count": 39
  },
  {
   "cell_type": "code",
   "metadata": {
    "id": "BlFbTObJCjN2",
    "ExecuteTime": {
     "end_time": "2024-12-12T19:27:46.531488Z",
     "start_time": "2024-12-12T19:27:46.528527Z"
    }
   },
   "source": [
    "PROBLEM_ID = 2\n",
    "\n",
    "if TEST:\n",
    "    total_grade += solutions.check(STUDENT, PROBLEM_ID, calc_area)"
   ],
   "outputs": [],
   "execution_count": 21
  },
  {
   "cell_type": "markdown",
   "metadata": {
    "id": "ucg44E9FCjN2"
   },
   "source": [
    "### 3. Find outliers (3 points).\n",
    "\n",
    "Given an array of shape `(N,2)`, filter all the rows, which are more than `thr` away from other rows. Distance metrics is Euclidean, i.e. distance between rows `i` and `j` is (in pseudocode):\n",
    "\n",
    "```\n",
    "distance(i, j) = sqrt(square(arr[i, 0] - arr[j, 0]) + square(arr[i, 1] - arr[j, 1]))\n",
    "```\n",
    "\n",
    "Distance of row `i` from other rows is:\n",
    "\n",
    "```\n",
    "distance(i) = mean(distance(i, j)), j!=i\n",
    "```\n",
    "\n",
    "Rows, which have `distance(i) > thr` must be filtered. In this problem you **cannot use loops**. Instead, use broadcasting (recall recurrence matrix problem in GA-2 and extend it to two-dimensional case).\n",
    "\n",
    "As an example, consider 1000 samples from standard normal distribution for `x` (axis 1) and `y` (axis 0) and threshold of 2:\n",
    "\n",
    "![Outliers filtering](outliers.png)"
   ]
  },
  {
   "cell_type": "code",
   "execution_count": null,
   "metadata": {
    "ExecuteTime": {
     "end_time": "2019-12-09T15:31:55.071291Z",
     "start_time": "2019-12-09T15:31:55.066198Z"
    },
    "id": "ue0gV1InCjN3"
   },
   "outputs": [],
   "source": [
    "def find_outliers(arr, thr):\n",
    "    \"\"\"Find outliers.\"\"\"\n",
    "    a = arr[:, np.newaxis, :]\n",
    "    b = arr[np.newaxis, :, :]\n",
    "    diff = a - b\n",
    "    distances = np.sqrt(np.sum(diff**2, axis=2))\n",
    "    mean_distances = np.sum(distances, axis=1) / (len(arr) - 1)\n",
    "    return arr[mean_distances <= thr]\n"
   ]
  },
  {
   "cell_type": "code",
   "execution_count": null,
   "metadata": {
    "ExecuteTime": {
     "end_time": "2019-12-09T15:32:00.914340Z",
     "start_time": "2019-12-09T15:32:00.906396Z"
    },
    "id": "TTOFX47VCjN3"
   },
   "outputs": [],
   "source": [
    "PROBLEM_ID = 3\n",
    "\n",
    "if TEST:\n",
    "    total_grade += solutions.check(STUDENT, PROBLEM_ID, find_outliers)"
   ]
  },
  {
   "cell_type": "markdown",
   "metadata": {
    "id": "kmP7dBYbCjN3"
   },
   "source": [
    "# PyTorch"
   ]
  },
  {
   "cell_type": "markdown",
   "metadata": {
    "id": "tUHje--ECjN4"
   },
   "source": [
    "### 4. SImple derivative (1 point).\n",
    "\n",
    "Given some value of `x0`, calculate a derivative of sigmoid function at that point. Input is a single floating point value. Output must also be a single floating point value (not a tensor!) equal to derivative of $\\sigma(x)$ at `x0`.\n",
    "\n",
    "Do not use the exact formula for the derivative, but use PyTorch `.backward()`."
   ]
  },
  {
   "cell_type": "code",
   "metadata": {
    "id": "i91H3h1uCjN4",
    "ExecuteTime": {
     "end_time": "2024-12-20T17:15:00.276571Z",
     "start_time": "2024-12-20T17:15:00.266657Z"
    }
   },
   "source": [
    "def d_sigmoid(x0):\n",
    "    \"\"\"Derivative of sigmoid.\"\"\"\n",
    "    x = torch.tensor(float(x0), requires_grad=True)\n",
    "    y = torch.sigmoid(x)\n",
    "    y.backward()\n",
    "    return float(x.grad)"
   ],
   "outputs": [],
   "execution_count": 11
  },
  {
   "cell_type": "code",
   "metadata": {
    "id": "iQKVUYstCjN4",
    "ExecuteTime": {
     "end_time": "2024-12-20T17:15:00.425707Z",
     "start_time": "2024-12-20T17:15:00.423171Z"
    }
   },
   "source": [
    "PROBLEM_ID = 4\n",
    "\n",
    "if TEST:\n",
    "    total_grade += solutions.check(STUDENT, PROBLEM_ID, d_sigmoid)"
   ],
   "outputs": [],
   "execution_count": 12
  },
  {
   "cell_type": "markdown",
   "metadata": {
    "id": "0GWm821_CjN4"
   },
   "source": [
    "# Pandas"
   ]
  },
  {
   "cell_type": "markdown",
   "metadata": {
    "id": "qikCGNnUCjN4"
   },
   "source": [
    "### 5. Ratio of males travelling alone per class (1 point).\n",
    "\n",
    "Given the Titanic dataset, calculate ratio of males travelling alove (`SibSp==0` and `Parch==0`) per class. In other words, calculate number of males travelling alone in each class, divided by number of passengers in that class.\n",
    "\n",
    "Input is indexed with `PassengerId` and is a concatenation of train and test sets. Output must be a series, indexed by class, containing the requested ratios."
   ]
  },
  {
   "cell_type": "code",
   "execution_count": null,
   "metadata": {
    "ExecuteTime": {
     "end_time": "2019-11-25T08:26:56.688466Z",
     "start_time": "2019-11-25T08:26:56.684610Z"
    },
    "id": "KneroI8yCjN5"
   },
   "outputs": [],
   "source": [
    "def lone_males(df):\n",
    "    \"\"\"Calculate ratio of males travelling alone per class.\"\"\"\n",
    "\n",
    "    df_alone_males = df.loc[(df.SibSp == 0) & (df.Parch == 0) & (df.Sex == 'male')]\n",
    "    return df_alone_males.groupby('Pclass').size() / df.groupby('Pclass').size()\n",
    "\n"
   ]
  },
  {
   "cell_type": "code",
   "execution_count": null,
   "metadata": {
    "ExecuteTime": {
     "end_time": "2019-11-25T08:27:11.838257Z",
     "start_time": "2019-11-25T08:27:11.720830Z"
    },
    "id": "74wi2mQGCjN5"
   },
   "outputs": [],
   "source": [
    "PROBLEM_ID = 5\n",
    "\n",
    "if TEST:\n",
    "    total_grade += solutions.check(STUDENT, PROBLEM_ID, lone_males)"
   ]
  },
  {
   "cell_type": "markdown",
   "metadata": {
    "id": "Wr4SQKEzCjN5"
   },
   "source": [
    "### 6. Worst days on UK roads in 2005 (2 points).\n",
    "\n",
    "Calculate Top-5 days with the largest number of severe accidents (`Accident_Severity < 3`).\n",
    "\n",
    "Input is a **dataframe**, containing all the accidents in 2005 and the following columns: `date_time` (constructed in the same way, as in optional time series notebook) and `Accident_Severity`. Index is a default integer index. Result must be a list (or tuple) of dates (as a `pd.Timestamp`) with 5 elements."
   ]
  },
  {
   "cell_type": "code",
   "execution_count": null,
   "metadata": {
    "ExecuteTime": {
     "end_time": "2019-12-10T03:08:04.058718Z",
     "start_time": "2019-12-10T03:08:04.055676Z"
    },
    "id": "W1p93qYYCjN5"
   },
   "outputs": [],
   "source": [
    "def worst_days(df):\n",
    "    \"\"\"Calculate Top 5 most severe days.\"\"\"\n",
    "    df['date_time'] = pd.to_datetime(df['date_time'])\n",
    "    df['date'] = df['date_time'].dt.date\n",
    "    top_5_days = df[df['Accident_Severity'] < 3].groupby('date').size().nlargest(5)\n",
    "\n",
    "    return [pd.Timestamp(d) for d in top_5_days.index]\n"
   ]
  },
  {
   "cell_type": "code",
   "execution_count": null,
   "metadata": {
    "ExecuteTime": {
     "end_time": "2019-11-25T08:27:11.838257Z",
     "start_time": "2019-11-25T08:27:11.720830Z"
    },
    "id": "1q5Bm6A8CjN5"
   },
   "outputs": [],
   "source": [
    "PROBLEM_ID = 6\n",
    "\n",
    "if TEST:\n",
    "    total_grade += solutions.check(STUDENT, PROBLEM_ID, worst_days)"
   ]
  },
  {
   "cell_type": "code",
   "execution_count": null,
   "metadata": {
    "id": "S4cGx0aPCjN5"
   },
   "outputs": [],
   "source": [
    "if TEST:\n",
    "    print(f\"{STUDENT}: {int(100 * total_grade / MAX_POINTS)}\")"
   ]
  }
 ],
 "metadata": {
  "@webio": {
   "lastCommId": null,
   "lastKernelId": null
  },
  "celltoolbar": "Tags",
  "kernelspec": {
   "display_name": "Python 3",
   "language": "python",
   "name": "python3"
  },
  "language_info": {
   "codemirror_mode": {
    "name": "ipython",
    "version": 3
   },
   "file_extension": ".py",
   "mimetype": "text/x-python",
   "name": "python",
   "nbconvert_exporter": "python",
   "pygments_lexer": "ipython3",
   "version": "3.8.12"
  },
  "colab": {
   "provenance": []
  }
 },
 "nbformat": 4,
 "nbformat_minor": 0
}
