{
 "cells": [
  {
   "cell_type": "markdown",
   "metadata": {
    "id": "yj46mvzjCjNp"
   },
   "source": [
    "# Notes\n",
    "\n",
    "Exam contains 6 problems, Most of them are of intermediate complexity and follow the material from class or graded assignments. Note, that no loops are allowed in this exam, and all the solutions containing loops will be graded as 0.\n",
    "\n",
    "For this exam you'll need [Titanic](https://www.kaggle.com/c/titanic) and [road accidents](https://www.kaggle.com/daveianhickey/2000-16-traffic-flow-england-scotland-wales) datasets."
   ]
  },
  {
   "cell_type": "code",
   "metadata": {
    "scrolled": true,
    "id": "uZbFMdeYCjNt",
    "ExecuteTime": {
     "end_time": "2024-12-20T15:07:17.717882Z",
     "start_time": "2024-12-20T15:07:17.656747Z"
    }
   },
   "source": [
    "%pylab inline\n",
    "plt.style.use(\"bmh\")"
   ],
   "outputs": [
    {
     "name": "stdout",
     "output_type": "stream",
     "text": [
      "%pylab is deprecated, use %matplotlib inline and import the required libraries.\n",
      "Populating the interactive namespace from numpy and matplotlib\n"
     ]
    }
   ],
   "execution_count": 3
  },
  {
   "cell_type": "code",
   "metadata": {
    "id": "6LnuSBaNCjNv",
    "ExecuteTime": {
     "end_time": "2024-12-20T15:07:17.831496Z",
     "start_time": "2024-12-20T15:07:17.829461Z"
    }
   },
   "source": [
    "plt.rcParams[\"figure.figsize\"] = (6,6)"
   ],
   "outputs": [],
   "execution_count": 4
  },
  {
   "cell_type": "code",
   "metadata": {
    "scrolled": true,
    "id": "iIWhbEffCjNv",
    "ExecuteTime": {
     "end_time": "2024-12-20T15:07:21.651476Z",
     "start_time": "2024-12-20T15:07:17.968203Z"
    }
   },
   "source": [
    "import numpy as np\n",
    "import pandas as pd\n",
    "import torch"
   ],
   "outputs": [],
   "execution_count": 5
  },
  {
   "cell_type": "code",
   "metadata": {
    "tags": [
     "parameters"
    ],
    "id": "8R1uL5eyCjNw",
    "ExecuteTime": {
     "end_time": "2024-12-20T15:07:21.662304Z",
     "start_time": "2024-12-20T15:07:21.660078Z"
    }
   },
   "source": [
    "STUDENT = \"Amir Alikulov\"\n",
    "ASSIGNMENT = \"exam\"\n",
    "TEST = False"
   ],
   "outputs": [],
   "execution_count": 6
  },
  {
   "cell_type": "code",
   "metadata": {
    "id": "FqQ2bfQlCjNw",
    "ExecuteTime": {
     "end_time": "2024-12-20T15:07:21.672195Z",
     "start_time": "2024-12-20T15:07:21.670503Z"
    }
   },
   "source": [
    "if TEST:\n",
    "    import solutions\n",
    "    total_grade = 0\n",
    "    MAX_POINTS = 10"
   ],
   "outputs": [],
   "execution_count": 7
  },
  {
   "cell_type": "markdown",
   "metadata": {
    "id": "cic9wgo6CjNx"
   },
   "source": [
    "# NumPy"
   ]
  },
  {
   "cell_type": "markdown",
   "metadata": {
    "id": "nIUCUnD9CjNx"
   },
   "source": [
    "### 1. Filtering array (2 points).\n",
    "\n",
    "Clip array values according to the following:\n",
    "\n",
    "- given a two-dimensional array `arr` and threshold value `max_val`,\n",
    "- find those rows, for which row values sum is `> max_val`,\n",
    "- and replace largest value for each of those rows with `v` $\\rightarrow$ `v - <row sum> + max_val`.\n",
    "\n",
    "For example, consider the following array and threshold `max_val=8`:"
   ]
  },
  {
   "cell_type": "code",
   "metadata": {
    "id": "S39kHXlnCjNy",
    "ExecuteTime": {
     "end_time": "2024-12-20T15:07:21.688758Z",
     "start_time": "2024-12-20T15:07:21.684109Z"
    }
   },
   "source": [
    "a = np.array([[1, 5, 4], [-3, 2, 8]])\n",
    "\n",
    "# largest_sum_row_index = np.argmax(a.sum(axis=1))\n",
    "\n",
    "a_copy = a.copy()\n",
    "row_sum = a_copy.sum(axis=1)\n",
    "row_mask = row_sum > 1\n",
    "print(row_mask)\n",
    "a_copy[row_mask]\n",
    "np.argmax(a_copy[row_sum > 1], axis=1)\n",
    "\n",
    "\n"
   ],
   "outputs": [
    {
     "name": "stdout",
     "output_type": "stream",
     "text": [
      "[ True  True]\n"
     ]
    },
    {
     "data": {
      "text/plain": [
       "array([1, 2])"
      ]
     },
     "execution_count": 8,
     "metadata": {},
     "output_type": "execute_result"
    }
   ],
   "execution_count": 8
  },
  {
   "cell_type": "markdown",
   "metadata": {
    "id": "EgWCQRG2CjNz"
   },
   "source": [
    "Row sums are:"
   ]
  },
  {
   "cell_type": "code",
   "metadata": {
    "id": "QXCUEKNKCjNz",
    "ExecuteTime": {
     "end_time": "2024-12-20T15:07:21.717275Z",
     "start_time": "2024-12-20T15:07:21.712577Z"
    }
   },
   "source": [
    "a.sum(axis=1)"
   ],
   "outputs": [
    {
     "data": {
      "text/plain": [
       "array([10,  7])"
      ]
     },
     "execution_count": 9,
     "metadata": {},
     "output_type": "execute_result"
    }
   ],
   "execution_count": 9
  },
  {
   "cell_type": "markdown",
   "metadata": {
    "id": "dXmlc6M7CjN0"
   },
   "source": [
    "Since row sum for row `0` is `> max_val`, largest value in that row (`a[0, 1]`, which is `5`), must be replaced with: `5 - 10 + 8 = 3`, resulting in:"
   ]
  },
  {
   "cell_type": "code",
   "metadata": {
    "id": "2_vPGS84CjN0",
    "ExecuteTime": {
     "end_time": "2024-12-20T15:07:21.759052Z",
     "start_time": "2024-12-20T15:07:21.756145Z"
    }
   },
   "source": [
    "a_clipped = np.array([[1, 3, 4], [-3, 2, 8]])\n",
    "a_clipped"
   ],
   "outputs": [
    {
     "data": {
      "text/plain": [
       "array([[ 1,  3,  4],\n",
       "       [-3,  2,  8]])"
      ]
     },
     "execution_count": 10,
     "metadata": {},
     "output_type": "execute_result"
    }
   ],
   "execution_count": 10
  },
  {
   "cell_type": "markdown",
   "metadata": {
    "ExecuteTime": {
     "end_time": "2019-12-10T01:08:49.435119Z",
     "start_time": "2019-12-10T01:08:49.429350Z"
    },
    "id": "GEoWo2q4CjN0"
   },
   "source": [
    "#### Notes:\n",
    "\n",
    "- **do not change original array**,\n",
    "- in this problem you may need to use **boolean and fancy indexing**, as well as `arr.argmax(...)`,\n",
    "- you **cannot use loops**,\n",
    "- input array is of **any two-dimensional shape** (including `(N,1)` and `(1,N)`), filled with **random integers**,\n",
    "- there may be no rows, which satisfy threshold condition, and in that case resulting array must be identical to input array."
   ]
  },
  {
   "cell_type": "code",
   "metadata": {
    "id": "4d2v6qYlCjN1",
    "ExecuteTime": {
     "end_time": "2024-12-20T15:07:21.794190Z",
     "start_time": "2024-12-20T15:07:21.790714Z"
    }
   },
   "source": [
    "def clip_array(arr, max_val):\n",
    "    \"\"\"Clip array based on `max_val`.\"\"\"\n",
    "\n",
    "    arr_copy = arr.copy()\n",
    "    row_sums = arr.sum(axis=1)\n",
    "    rows_to_modify = row_sums > max_val\n",
    "    max_indices = arr.argmax(axis=1)\n",
    "    arr_copy[rows_to_modify, max_indices[rows_to_modify]] = arr[rows_to_modify, max_indices[rows_to_modify]] - row_sums[rows_to_modify] + max_val\n",
    "\n",
    "    return arr_copy\n",
    "\n",
    "clip_array(a, 8)"
   ],
   "outputs": [
    {
     "data": {
      "text/plain": [
       "array([[ 1,  3,  4],\n",
       "       [-3,  2,  8]])"
      ]
     },
     "execution_count": 11,
     "metadata": {},
     "output_type": "execute_result"
    }
   ],
   "execution_count": 11
  },
  {
   "cell_type": "code",
   "metadata": {
    "id": "AoUjeno2CjN1",
    "ExecuteTime": {
     "end_time": "2024-12-20T15:07:21.977948Z",
     "start_time": "2024-12-20T15:07:21.975795Z"
    }
   },
   "source": [
    "PROBLEM_ID = 1\n",
    "\n",
    "if TEST:\n",
    "    total_grade += solutions.check(STUDENT, PROBLEM_ID, clip_array)"
   ],
   "outputs": [],
   "execution_count": 12
  },
  {
   "cell_type": "markdown",
   "metadata": {
    "id": "gnCh0n9fCjN1"
   },
   "source": [
    "### 2. Calculate area (1 point).\n",
    "\n",
    "In this problem you will construct a naive Monte-Carlo simulator. Provided with a 2D bounding box, you must calculate it's area:\n",
    "\n",
    "- a bounding box is specified by maximum and minimum `x` and `y`, i.e. a bounding box is a **rectangle** between `minx` and `maxx` over `x`-axis and between `miny` and `maxy` over `y`-axis,\n",
    "- all of `minx`, `maxx`, `miny`, `maxy` are `>=0` and `<=1`,\n",
    "- you can sample **at most** `n_samples` points on 2D place,\n",
    "- ratio of number of points inside a bounding box to total number of points is an **estimate of bounding box area**,\n",
    "- estimate is considered valid, if it's **no more than 10% off of actual area value**,\n",
    "- `n_samples` is chosen in such a way, that **10% error is achievable nearly always**, i.e. chances of getting more then 10% error with correct computation are negligibly small.\n",
    "\n",
    "For example, a bounding box is `minx=0.25`, `maxx=0.5`, `miny=0.1`, `maxy=0.6`. Actual area is `0.125`. Suppose, that we sample `10000` points in unit square $x \\in [0, 1],\\,y \\in [0, 1]$ and 1215 of them are inside the bounding box. Then, an estimate for the bounding box area is `0.1215` (with error of about 2.8%). Image below illustrates this example.\n",
    "\n",
    "![Monte-Carlo integration example](mc.png)"
   ]
  },
  {
   "cell_type": "code",
   "execution_count": null,
   "metadata": {
    "ExecuteTime": {
     "end_time": "2019-12-10T02:37:16.154223Z",
     "start_time": "2019-12-10T02:37:16.144904Z"
    },
    "id": "tYWP0nyqCjN2"
   },
   "outputs": [],
   "source": [
    "def calc_area(minx, maxx, miny, maxy, n_samples):\n",
    "    \"\"\"Calculate area of bounding box.\"\"\"\n",
    "\n",
    "    pass"
   ]
  },
  {
   "cell_type": "code",
   "execution_count": null,
   "metadata": {
    "ExecuteTime": {
     "end_time": "2019-11-13T23:25:50.106449Z",
     "start_time": "2019-11-13T23:25:50.095086Z"
    },
    "id": "BlFbTObJCjN2"
   },
   "outputs": [],
   "source": [
    "PROBLEM_ID = 2\n",
    "\n",
    "if TEST:\n",
    "    total_grade += solutions.check(STUDENT, PROBLEM_ID, calc_area)"
   ]
  },
  {
   "cell_type": "markdown",
   "metadata": {
    "id": "ucg44E9FCjN2"
   },
   "source": [
    "### 3. Find outliers (3 points).\n",
    "\n",
    "Given an array of shape `(N,2)`, filter all the rows, which are more than `thr` away from other rows. Distance metrics is Euclidean, i.e. distance between rows `i` and `j` is (in pseudocode):\n",
    "\n",
    "```\n",
    "distance(i, j) = sqrt(square(arr[i, 0] - arr[j, 0]) + square(arr[i, 1] - arr[j, 1]))\n",
    "```\n",
    "\n",
    "Distance of row `i` from other rows is:\n",
    "\n",
    "```\n",
    "distance(i) = mean(distance(i, j)), j!=i\n",
    "```\n",
    "\n",
    "Rows, which have `distance(i) > thr` must be filtered. In this problem you **cannot use loops**. Instead, use broadcasting (recall recurrence matrix problem in GA-2 and extend it to two-dimensional case).\n",
    "\n",
    "As an example, consider 1000 samples from standard normal distribution for `x` (axis 1) and `y` (axis 0) and threshold of 2:\n",
    "\n",
    "![Outliers filtering](outliers.png)"
   ]
  },
  {
   "cell_type": "code",
   "metadata": {
    "id": "ue0gV1InCjN3",
    "ExecuteTime": {
     "end_time": "2024-12-20T16:45:28.632779Z",
     "start_time": "2024-12-20T16:45:28.620510Z"
    }
   },
   "source": [
    "#arr. thr\n",
    "\n",
    "arr = np.array([[1, 2], [3, 4], [5, 6], [7, 8], [9, 10], [11, 12], [13, 14], [15, 16], [17, 18], [19, 20]])\n",
    "\n",
    "a = arr[:, np.newaxis, :]  # Shape: (N,1,2)\n",
    "b = arr[np.newaxis, :, :]  # Shape: (1,N,2)\n",
    "\n",
    "# Calculate squared differences for all pairs of points\n",
    "# This gives us an (N,N,2) array of differences\n",
    "diff = a - b\n",
    "\n",
    "\n",
    "distances = np.sqrt(np.sum(diff**2, axis=2))\n",
    "mean_distances = np.sum(distances, axis=1) / (len(arr) - 1)\n",
    "\n",
    "\n",
    "\n"
   ],
   "outputs": [
    {
     "data": {
      "text/plain": [
       "array([[ 0.        ,  2.82842712,  5.65685425,  8.48528137, 11.3137085 ,\n",
       "        14.14213562, 16.97056275, 19.79898987, 22.627417  , 25.45584412],\n",
       "       [ 2.82842712,  0.        ,  2.82842712,  5.65685425,  8.48528137,\n",
       "        11.3137085 , 14.14213562, 16.97056275, 19.79898987, 22.627417  ],\n",
       "       [ 5.65685425,  2.82842712,  0.        ,  2.82842712,  5.65685425,\n",
       "         8.48528137, 11.3137085 , 14.14213562, 16.97056275, 19.79898987],\n",
       "       [ 8.48528137,  5.65685425,  2.82842712,  0.        ,  2.82842712,\n",
       "         5.65685425,  8.48528137, 11.3137085 , 14.14213562, 16.97056275],\n",
       "       [11.3137085 ,  8.48528137,  5.65685425,  2.82842712,  0.        ,\n",
       "         2.82842712,  5.65685425,  8.48528137, 11.3137085 , 14.14213562],\n",
       "       [14.14213562, 11.3137085 ,  8.48528137,  5.65685425,  2.82842712,\n",
       "         0.        ,  2.82842712,  5.65685425,  8.48528137, 11.3137085 ],\n",
       "       [16.97056275, 14.14213562, 11.3137085 ,  8.48528137,  5.65685425,\n",
       "         2.82842712,  0.        ,  2.82842712,  5.65685425,  8.48528137],\n",
       "       [19.79898987, 16.97056275, 14.14213562, 11.3137085 ,  8.48528137,\n",
       "         5.65685425,  2.82842712,  0.        ,  2.82842712,  5.65685425],\n",
       "       [22.627417  , 19.79898987, 16.97056275, 14.14213562, 11.3137085 ,\n",
       "         8.48528137,  5.65685425,  2.82842712,  0.        ,  2.82842712],\n",
       "       [25.45584412, 22.627417  , 19.79898987, 16.97056275, 14.14213562,\n",
       "        11.3137085 ,  8.48528137,  5.65685425,  2.82842712,  0.        ]])"
      ]
     },
     "execution_count": 47,
     "metadata": {},
     "output_type": "execute_result"
    }
   ],
   "execution_count": 47
  },
  {
   "metadata": {
    "ExecuteTime": {
     "end_time": "2024-12-20T16:54:19.492992Z",
     "start_time": "2024-12-20T16:54:19.488899Z"
    }
   },
   "cell_type": "code",
   "source": "np.mean([2.828427,5.656854,8.485281,11.313708,14.142136,16.970563,19.798990,22.627417,25.455844])",
   "outputs": [
    {
     "data": {
      "text/plain": [
       "14.142135555555555"
      ]
     },
     "execution_count": 51,
     "metadata": {},
     "output_type": "execute_result"
    }
   ],
   "execution_count": 51
  },
  {
   "metadata": {
    "ExecuteTime": {
     "end_time": "2024-12-20T16:55:10.393681Z",
     "start_time": "2024-12-20T16:55:10.385116Z"
    }
   },
   "cell_type": "code",
   "source": [
    "mean_distances = np.sum(distances, axis=1) / (len(arr) - 1)\n",
    "mean_distances"
   ],
   "outputs": [
    {
     "data": {
      "text/plain": [
       "array([14.14213562, 11.62797818,  9.7423601 ,  8.48528137,  7.85674201,\n",
       "        7.85674201,  8.48528137,  9.7423601 , 11.62797818, 14.14213562])"
      ]
     },
     "execution_count": 52,
     "metadata": {},
     "output_type": "execute_result"
    }
   ],
   "execution_count": 52
  },
  {
   "cell_type": "code",
   "metadata": {
    "id": "TTOFX47VCjN3",
    "ExecuteTime": {
     "end_time": "2024-12-20T16:56:14.562612Z",
     "start_time": "2024-12-20T16:56:14.558407Z"
    }
   },
   "source": "arr[mean_distances < 10]",
   "outputs": [
    {
     "data": {
      "text/plain": [
       "array([[ 5,  6],\n",
       "       [ 7,  8],\n",
       "       [ 9, 10],\n",
       "       [11, 12],\n",
       "       [13, 14],\n",
       "       [15, 16]])"
      ]
     },
     "execution_count": 56,
     "metadata": {},
     "output_type": "execute_result"
    }
   ],
   "execution_count": 56
  },
  {
   "cell_type": "markdown",
   "metadata": {
    "id": "kmP7dBYbCjN3"
   },
   "source": [
    "# PyTorch"
   ]
  },
  {
   "cell_type": "markdown",
   "metadata": {
    "id": "tUHje--ECjN4"
   },
   "source": [
    "### 4. SImple derivative (1 point).\n",
    "\n",
    "Given some value of `x0`, calculate a derivative of sigmoid function at that point. Input is a single floating point value. Output must also be a single floating point value (not a tensor!) equal to derivative of $\\sigma(x)$ at `x0`.\n",
    "\n",
    "Do not use the exact formula for the derivative, but use PyTorch `.backward()`."
   ]
  },
  {
   "cell_type": "code",
   "execution_count": null,
   "metadata": {
    "ExecuteTime": {
     "end_time": "2019-11-13T23:15:11.348224Z",
     "start_time": "2019-11-13T23:15:11.334569Z"
    },
    "id": "i91H3h1uCjN4"
   },
   "outputs": [],
   "source": [
    "def d_sigmoid(x0):\n",
    "    \"\"\"Derivative of sigmoid.\"\"\"\n",
    "    pass"
   ]
  },
  {
   "cell_type": "code",
   "execution_count": null,
   "metadata": {
    "ExecuteTime": {
     "end_time": "2019-11-13T23:25:50.106449Z",
     "start_time": "2019-11-13T23:25:50.095086Z"
    },
    "id": "iQKVUYstCjN4"
   },
   "outputs": [],
   "source": [
    "PROBLEM_ID = 4\n",
    "\n",
    "if TEST:\n",
    "    total_grade += solutions.check(STUDENT, PROBLEM_ID, d_sigmoid)"
   ]
  },
  {
   "cell_type": "markdown",
   "metadata": {
    "id": "0GWm821_CjN4"
   },
   "source": [
    "# Pandas"
   ]
  },
  {
   "cell_type": "markdown",
   "metadata": {
    "id": "qikCGNnUCjN4"
   },
   "source": [
    "### 5. Ratio of males travelling alone per class (1 point).\n",
    "\n",
    "Given the Titanic dataset, calculate ratio of males travelling alove (`SibSp==0` and `Parch==0`) per class. In other words, calculate number of males travelling alone in each class, divided by number of passengers in that class.\n",
    "\n",
    "Input is indexed with `PassengerId` and is a concatenation of train and test sets. Output must be a series, indexed by class, containing the requested ratios."
   ]
  },
  {
   "cell_type": "code",
   "metadata": {
    "id": "KneroI8yCjN5",
    "ExecuteTime": {
     "end_time": "2024-12-20T18:26:08.236302Z",
     "start_time": "2024-12-20T18:26:08.220923Z"
    }
   },
   "source": [
    "#import datasets and combine them\n",
    "test = pd.read_csv(\"test.csv\")\n",
    "train = pd.read_csv(\"train.csv\")\n",
    "df = pd.concat([train, test], sort=False)\n",
    "\n",
    "\n",
    "df_alone_males = df.loc[(df.SibSp == 0) & (df.Parch == 0) & (df.Sex == 'male')]\n",
    "return df_alone_males.groupby('Pclass').size() / df.groupby('Pclass').size()"
   ],
   "outputs": [
    {
     "data": {
      "text/plain": [
       "Pclass\n",
       "1    0.334365\n",
       "2    0.418773\n",
       "3    0.524683\n",
       "dtype: float64"
      ]
     },
     "execution_count": 75,
     "metadata": {},
     "output_type": "execute_result"
    }
   ],
   "execution_count": 75
  },
  {
   "metadata": {
    "ExecuteTime": {
     "end_time": "2024-12-20T18:25:45.766361Z",
     "start_time": "2024-12-20T18:25:45.744872Z"
    }
   },
   "cell_type": "code",
   "source": [
    "import pandas as pd\n",
    "\n",
    "# Read the Titanic datasets\n",
    "test = pd.read_csv(\"test.csv\")\n",
    "train = pd.read_csv(\"train.csv\")\n",
    "\n",
    "# Combine train and test sets\n",
    "df = pd.concat([train, test], sort=False)\n",
    "\n",
    "# Filter for males traveling alone (SibSp == 0, Parch == 0, and Sex == 'male')\n",
    "df_males_alone = df[(df['SibSp'] == 0) & (df['Parch'] == 0) & (df['Sex'] == 'male')]\n",
    "\n",
    "# Compute number of males traveling alone in each class\n",
    "count_males_alone = df_males_alone.groupby('Pclass').size()\n",
    "\n",
    "# Compute total number of passengers in each class\n",
    "count_per_class = df.groupby('Pclass').size()\n",
    "\n",
    "# Calculate the ratio\n",
    "ratio = count_males_alone / count_per_class\n",
    "\n",
    "# ratio is a series indexed by class, containing the requested ratios\n",
    "ratio\n"
   ],
   "outputs": [
    {
     "data": {
      "text/plain": [
       "Pclass\n",
       "1    0.334365\n",
       "2    0.418773\n",
       "3    0.524683\n",
       "dtype: float64"
      ]
     },
     "execution_count": 74,
     "metadata": {},
     "output_type": "execute_result"
    }
   ],
   "execution_count": 74
  },
  {
   "cell_type": "code",
   "metadata": {
    "id": "74wi2mQGCjN5",
    "ExecuteTime": {
     "end_time": "2024-12-20T18:09:03.900414Z",
     "start_time": "2024-12-20T18:09:03.898188Z"
    }
   },
   "source": [
    "PROBLEM_ID = 5\n",
    "\n",
    "if TEST:\n",
    "    total_grade += solutions.check(STUDENT, PROBLEM_ID, lone_males)"
   ],
   "outputs": [],
   "execution_count": 59
  },
  {
   "cell_type": "markdown",
   "metadata": {
    "id": "Wr4SQKEzCjN5"
   },
   "source": [
    "### 6. Worst days on UK roads in 2005 (2 points).\n",
    "\n",
    "Calculate Top-5 days with the largest number of severe accidents (`Accident_Severity < 3`).\n",
    "\n",
    "Input is a **dataframe**, containing all the accidents in 2005 and the following columns: `date_time` (constructed in the same way, as in optional time series notebook) and `Accident_Severity`. Index is a default integer index. Result must be a list (or tuple) of dates (as a `pd.Timestamp`) with 5 elements."
   ]
  },
  {
   "cell_type": "code",
   "metadata": {
    "id": "W1p93qYYCjN5",
    "ExecuteTime": {
     "end_time": "2024-12-20T19:24:11.489294Z",
     "start_time": "2024-12-20T19:24:11.371303Z"
    }
   },
   "source": [
    "import pandas as pd\n",
    "\n",
    "df = pd.read_csv('accidents_2005.csv')\n",
    "df['date_time'] = pd.to_datetime(df['date_time'])\n",
    "df['date'] = df['date_time'].dt.date\n",
    "top_5_days = df[df['Accident_Severity'] < 3].groupby('date').size().nlargest(5)\n",
    "\n",
    "print([pd.Timestamp(d) for d in top_5_days.index])\n"
   ],
   "outputs": [
    {
     "name": "stdout",
     "output_type": "stream",
     "text": [
      "[Timestamp('2005-05-14 00:00:00'), Timestamp('2005-06-18 00:00:00'), Timestamp('2005-09-16 00:00:00'), Timestamp('2005-11-04 00:00:00'), Timestamp('2005-12-23 00:00:00')]\n"
     ]
    }
   ],
   "execution_count": 121
  },
  {
   "cell_type": "code",
   "execution_count": null,
   "metadata": {
    "ExecuteTime": {
     "end_time": "2019-11-25T08:27:11.838257Z",
     "start_time": "2019-11-25T08:27:11.720830Z"
    },
    "id": "1q5Bm6A8CjN5"
   },
   "outputs": [],
   "source": [
    "PROBLEM_ID = 6\n",
    "\n",
    "if TEST:\n",
    "    total_grade += solutions.check(STUDENT, PROBLEM_ID, worst_days)"
   ]
  },
  {
   "cell_type": "code",
   "execution_count": null,
   "metadata": {
    "id": "S4cGx0aPCjN5"
   },
   "outputs": [],
   "source": [
    "if TEST:\n",
    "    print(f\"{STUDENT}: {int(100 * total_grade / MAX_POINTS)}\")"
   ]
  }
 ],
 "metadata": {
  "@webio": {
   "lastCommId": null,
   "lastKernelId": null
  },
  "celltoolbar": "Tags",
  "kernelspec": {
   "display_name": "Python 3",
   "language": "python",
   "name": "python3"
  },
  "language_info": {
   "codemirror_mode": {
    "name": "ipython",
    "version": 3
   },
   "file_extension": ".py",
   "mimetype": "text/x-python",
   "name": "python",
   "nbconvert_exporter": "python",
   "pygments_lexer": "ipython3",
   "version": "3.8.12"
  },
  "colab": {
   "provenance": []
  }
 },
 "nbformat": 4,
 "nbformat_minor": 0
}
