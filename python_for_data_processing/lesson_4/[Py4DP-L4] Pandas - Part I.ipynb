{
 "cells": [
  {
   "cell_type": "markdown",
   "metadata": {
    "id": "FsD7IFyhAqdj"
   },
   "source": [
    "# `pandas`"
   ]
  },
  {
   "cell_type": "code",
   "metadata": {
    "id": "q9ZoFlnIAqdp",
    "ExecuteTime": {
     "end_time": "2024-11-22T18:46:15.055636Z",
     "start_time": "2024-11-22T18:46:14.587150Z"
    }
   },
   "source": [
    "%pylab inline\n",
    "plt.style.use('ggplot')"
   ],
   "outputs": [
    {
     "name": "stdout",
     "output_type": "stream",
     "text": [
      "%pylab is deprecated, use %matplotlib inline and import the required libraries.\n",
      "Populating the interactive namespace from numpy and matplotlib\n"
     ]
    }
   ],
   "execution_count": 1
  },
  {
   "cell_type": "markdown",
   "metadata": {
    "id": "p2Sep3EuAqds"
   },
   "source": [
    "Note the import convention:"
   ]
  },
  {
   "cell_type": "code",
   "metadata": {
    "id": "TFWevjFlAqdt",
    "ExecuteTime": {
     "end_time": "2024-11-22T18:46:15.464500Z",
     "start_time": "2024-11-22T18:46:15.174196Z"
    }
   },
   "source": [
    "import numpy as np\n",
    "import pandas as pd"
   ],
   "outputs": [],
   "execution_count": 2
  },
  {
   "cell_type": "code",
   "metadata": {
    "id": "Ha-qNkB4Aqdu",
    "ExecuteTime": {
     "end_time": "2024-11-22T18:46:15.499385Z",
     "start_time": "2024-11-22T18:46:15.497581Z"
    }
   },
   "source": [
    "np.random.seed(983456)"
   ],
   "outputs": [],
   "execution_count": 3
  },
  {
   "cell_type": "markdown",
   "metadata": {
    "id": "3W7QmK1bAqdu"
   },
   "source": [
    "## Creating `pd.Series`"
   ]
  },
  {
   "cell_type": "markdown",
   "metadata": {
    "id": "HgwD_RTlAqdv"
   },
   "source": [
    "When creating Pandas `Series` you can provide values only:"
   ]
  },
  {
   "cell_type": "code",
   "metadata": {
    "id": "VneaY4JUAqdv",
    "ExecuteTime": {
     "end_time": "2024-11-22T18:46:15.797305Z",
     "start_time": "2024-11-22T18:46:15.792749Z"
    }
   },
   "source": [
    "s = pd.Series(np.random.randn(10))\n",
    "s"
   ],
   "outputs": [
    {
     "data": {
      "text/plain": [
       "0   -1.187327\n",
       "1    0.382796\n",
       "2   -0.681736\n",
       "3   -3.534783\n",
       "4    0.304866\n",
       "5   -0.899330\n",
       "6    1.194968\n",
       "7   -0.446314\n",
       "8    2.598223\n",
       "9   -0.795144\n",
       "dtype: float64"
      ]
     },
     "execution_count": 4,
     "metadata": {},
     "output_type": "execute_result"
    }
   ],
   "execution_count": 4
  },
  {
   "cell_type": "markdown",
   "metadata": {
    "id": "F5Hi5FDUAqdw"
   },
   "source": [
    "Values and series name:"
   ]
  },
  {
   "cell_type": "code",
   "metadata": {
    "id": "1WLr8oYkAqdx",
    "ExecuteTime": {
     "end_time": "2024-11-22T18:46:16.175936Z",
     "start_time": "2024-11-22T18:46:16.172929Z"
    }
   },
   "source": [
    "s = pd.Series(np.random.randn(10), name=\"random_series\")\n",
    "s"
   ],
   "outputs": [
    {
     "data": {
      "text/plain": [
       "0    2.433533\n",
       "1   -0.677715\n",
       "2    0.871098\n",
       "3    0.128585\n",
       "4   -1.042224\n",
       "5    0.228245\n",
       "6   -0.361624\n",
       "7    0.447801\n",
       "8    2.045056\n",
       "9   -1.291771\n",
       "Name: random_series, dtype: float64"
      ]
     },
     "execution_count": 5,
     "metadata": {},
     "output_type": "execute_result"
    }
   ],
   "execution_count": 5
  },
  {
   "cell_type": "markdown",
   "metadata": {
    "id": "yx7NwU0XAqdy"
   },
   "source": [
    "Values, index and series name:"
   ]
  },
  {
   "cell_type": "code",
   "metadata": {
    "id": "n9UW0xlNAqdy",
    "ExecuteTime": {
     "end_time": "2024-11-22T18:46:16.509972Z",
     "start_time": "2024-11-22T18:46:16.505740Z"
    }
   },
   "source": [
    "s = pd.Series(np.random.randn(10), name=\"random_series\",\n",
    "              index=np.random.randint(23, size=(10,)))\n",
    "s"
   ],
   "outputs": [
    {
     "data": {
      "text/plain": [
       "10    0.496488\n",
       "2     0.516279\n",
       "20   -1.497689\n",
       "0    -0.256733\n",
       "1     0.149244\n",
       "14   -2.084936\n",
       "16    0.117294\n",
       "19    1.779378\n",
       "3     0.820993\n",
       "3    -0.090797\n",
       "Name: random_series, dtype: float64"
      ]
     },
     "execution_count": 6,
     "metadata": {},
     "output_type": "execute_result"
    }
   ],
   "execution_count": 6
  },
  {
   "cell_type": "code",
   "metadata": {
    "id": "mdSQJznXAqdz",
    "ExecuteTime": {
     "end_time": "2024-11-22T18:46:16.730418Z",
     "start_time": "2024-11-22T18:46:16.727812Z"
    }
   },
   "source": [
    "s.index"
   ],
   "outputs": [
    {
     "data": {
      "text/plain": [
       "Index([10, 2, 20, 0, 1, 14, 16, 19, 3, 3], dtype='int64')"
      ]
     },
     "execution_count": 7,
     "metadata": {},
     "output_type": "execute_result"
    }
   ],
   "execution_count": 7
  },
  {
   "cell_type": "markdown",
   "metadata": {
    "id": "7Wb91rKHAqd0"
   },
   "source": [
    "Index can be created explicitly (and can have it's own name):"
   ]
  },
  {
   "cell_type": "code",
   "metadata": {
    "id": "OmGZWqPzAqd0",
    "ExecuteTime": {
     "end_time": "2024-11-22T18:46:17.066258Z",
     "start_time": "2024-11-22T18:46:17.060617Z"
    }
   },
   "source": [
    "s = pd.Series(np.random.randn(10), name=\"random_series\",\n",
    "              index=pd.Index(np.random.randint(23, size=(10,)), name=\"main_index\"))\n",
    "s"
   ],
   "outputs": [
    {
     "data": {
      "text/plain": [
       "main_index\n",
       "5    -1.062838\n",
       "10    0.704245\n",
       "0    -0.596709\n",
       "16   -0.244326\n",
       "21   -0.862128\n",
       "1    -0.532820\n",
       "11   -0.364554\n",
       "17   -2.594341\n",
       "19   -0.014463\n",
       "16   -0.012298\n",
       "Name: random_series, dtype: float64"
      ]
     },
     "execution_count": 8,
     "metadata": {},
     "output_type": "execute_result"
    }
   ],
   "execution_count": 8
  },
  {
   "cell_type": "code",
   "metadata": {
    "id": "tqMeE83uAqd0",
    "ExecuteTime": {
     "end_time": "2024-11-22T18:46:17.307313Z",
     "start_time": "2024-11-22T18:46:17.302838Z"
    }
   },
   "source": [
    "s.index"
   ],
   "outputs": [
    {
     "data": {
      "text/plain": [
       "Index([5, 10, 0, 16, 21, 1, 11, 17, 19, 16], dtype='int64', name='main_index')"
      ]
     },
     "execution_count": 9,
     "metadata": {},
     "output_type": "execute_result"
    }
   ],
   "execution_count": 9
  },
  {
   "cell_type": "markdown",
   "metadata": {
    "id": "SHPsMQNXAqd1"
   },
   "source": [
    "Series can be created from a dictionary as well"
   ]
  },
  {
   "cell_type": "code",
   "metadata": {
    "id": "wnx0A80-Aqd1",
    "ExecuteTime": {
     "end_time": "2024-11-22T18:46:17.595618Z",
     "start_time": "2024-11-22T18:46:17.592744Z"
    }
   },
   "source": [
    "s = pd.Series({'a':3, 'c':6, 'b':2}, name=\"dict_series\")\n",
    "s"
   ],
   "outputs": [
    {
     "data": {
      "text/plain": [
       "a    3\n",
       "c    6\n",
       "b    2\n",
       "Name: dict_series, dtype: int64"
      ]
     },
     "execution_count": 10,
     "metadata": {},
     "output_type": "execute_result"
    }
   ],
   "execution_count": 10
  },
  {
   "cell_type": "code",
   "metadata": {
    "id": "s0vodml2Aqd1",
    "ExecuteTime": {
     "end_time": "2024-11-22T18:46:17.811262Z",
     "start_time": "2024-11-22T18:46:17.808522Z"
    }
   },
   "source": [
    "s.index"
   ],
   "outputs": [
    {
     "data": {
      "text/plain": [
       "Index(['a', 'c', 'b'], dtype='object')"
      ]
     },
     "execution_count": 11,
     "metadata": {},
     "output_type": "execute_result"
    }
   ],
   "execution_count": 11
  },
  {
   "cell_type": "markdown",
   "metadata": {
    "id": "wDcM-wrCAqd2"
   },
   "source": [
    "## Creating `pd.DataFrame`"
   ]
  },
  {
   "cell_type": "markdown",
   "metadata": {
    "id": "Z2itS-iZAqd2"
   },
   "source": [
    "Agai, we can use just values and Pandas will create an index (both row and column) for us:"
   ]
  },
  {
   "cell_type": "code",
   "metadata": {
    "id": "tpDHvSH1Aqd2",
    "ExecuteTime": {
     "end_time": "2024-11-22T18:46:18.282659Z",
     "start_time": "2024-11-22T18:46:18.277998Z"
    }
   },
   "source": [
    "df = pd.DataFrame(np.arange(20).reshape((5,4)))\n",
    "df"
   ],
   "outputs": [
    {
     "data": {
      "text/plain": [
       "    0   1   2   3\n",
       "0   0   1   2   3\n",
       "1   4   5   6   7\n",
       "2   8   9  10  11\n",
       "3  12  13  14  15\n",
       "4  16  17  18  19"
      ],
      "text/html": [
       "<div>\n",
       "<style scoped>\n",
       "    .dataframe tbody tr th:only-of-type {\n",
       "        vertical-align: middle;\n",
       "    }\n",
       "\n",
       "    .dataframe tbody tr th {\n",
       "        vertical-align: top;\n",
       "    }\n",
       "\n",
       "    .dataframe thead th {\n",
       "        text-align: right;\n",
       "    }\n",
       "</style>\n",
       "<table border=\"1\" class=\"dataframe\">\n",
       "  <thead>\n",
       "    <tr style=\"text-align: right;\">\n",
       "      <th></th>\n",
       "      <th>0</th>\n",
       "      <th>1</th>\n",
       "      <th>2</th>\n",
       "      <th>3</th>\n",
       "    </tr>\n",
       "  </thead>\n",
       "  <tbody>\n",
       "    <tr>\n",
       "      <th>0</th>\n",
       "      <td>0</td>\n",
       "      <td>1</td>\n",
       "      <td>2</td>\n",
       "      <td>3</td>\n",
       "    </tr>\n",
       "    <tr>\n",
       "      <th>1</th>\n",
       "      <td>4</td>\n",
       "      <td>5</td>\n",
       "      <td>6</td>\n",
       "      <td>7</td>\n",
       "    </tr>\n",
       "    <tr>\n",
       "      <th>2</th>\n",
       "      <td>8</td>\n",
       "      <td>9</td>\n",
       "      <td>10</td>\n",
       "      <td>11</td>\n",
       "    </tr>\n",
       "    <tr>\n",
       "      <th>3</th>\n",
       "      <td>12</td>\n",
       "      <td>13</td>\n",
       "      <td>14</td>\n",
       "      <td>15</td>\n",
       "    </tr>\n",
       "    <tr>\n",
       "      <th>4</th>\n",
       "      <td>16</td>\n",
       "      <td>17</td>\n",
       "      <td>18</td>\n",
       "      <td>19</td>\n",
       "    </tr>\n",
       "  </tbody>\n",
       "</table>\n",
       "</div>"
      ]
     },
     "execution_count": 12,
     "metadata": {},
     "output_type": "execute_result"
    }
   ],
   "execution_count": 12
  },
  {
   "cell_type": "markdown",
   "metadata": {
    "id": "DpeSha82Aqd3"
   },
   "source": [
    "Easy way to access data types in a dataframe:"
   ]
  },
  {
   "cell_type": "code",
   "metadata": {
    "id": "5JrxRZahAqd3",
    "ExecuteTime": {
     "end_time": "2024-11-22T18:46:18.674679Z",
     "start_time": "2024-11-22T18:46:18.670949Z"
    }
   },
   "source": [
    "df.dtypes"
   ],
   "outputs": [
    {
     "data": {
      "text/plain": [
       "0    int64\n",
       "1    int64\n",
       "2    int64\n",
       "3    int64\n",
       "dtype: object"
      ]
     },
     "execution_count": 13,
     "metadata": {},
     "output_type": "execute_result"
    }
   ],
   "execution_count": 13
  },
  {
   "cell_type": "markdown",
   "metadata": {
    "id": "wM6QvEHjAqd3"
   },
   "source": [
    "We can provide column names:"
   ]
  },
  {
   "cell_type": "code",
   "metadata": {
    "id": "rMGRUOlIAqd4",
    "ExecuteTime": {
     "end_time": "2024-11-22T18:46:19.042847Z",
     "start_time": "2024-11-22T18:46:19.039378Z"
    }
   },
   "source": [
    "df = pd.DataFrame(np.arange(20).reshape((5,4)),\n",
    "                  columns=['a', 'b', 'c', 'd'])\n",
    "df"
   ],
   "outputs": [
    {
     "data": {
      "text/plain": [
       "    a   b   c   d\n",
       "0   0   1   2   3\n",
       "1   4   5   6   7\n",
       "2   8   9  10  11\n",
       "3  12  13  14  15\n",
       "4  16  17  18  19"
      ],
      "text/html": [
       "<div>\n",
       "<style scoped>\n",
       "    .dataframe tbody tr th:only-of-type {\n",
       "        vertical-align: middle;\n",
       "    }\n",
       "\n",
       "    .dataframe tbody tr th {\n",
       "        vertical-align: top;\n",
       "    }\n",
       "\n",
       "    .dataframe thead th {\n",
       "        text-align: right;\n",
       "    }\n",
       "</style>\n",
       "<table border=\"1\" class=\"dataframe\">\n",
       "  <thead>\n",
       "    <tr style=\"text-align: right;\">\n",
       "      <th></th>\n",
       "      <th>a</th>\n",
       "      <th>b</th>\n",
       "      <th>c</th>\n",
       "      <th>d</th>\n",
       "    </tr>\n",
       "  </thead>\n",
       "  <tbody>\n",
       "    <tr>\n",
       "      <th>0</th>\n",
       "      <td>0</td>\n",
       "      <td>1</td>\n",
       "      <td>2</td>\n",
       "      <td>3</td>\n",
       "    </tr>\n",
       "    <tr>\n",
       "      <th>1</th>\n",
       "      <td>4</td>\n",
       "      <td>5</td>\n",
       "      <td>6</td>\n",
       "      <td>7</td>\n",
       "    </tr>\n",
       "    <tr>\n",
       "      <th>2</th>\n",
       "      <td>8</td>\n",
       "      <td>9</td>\n",
       "      <td>10</td>\n",
       "      <td>11</td>\n",
       "    </tr>\n",
       "    <tr>\n",
       "      <th>3</th>\n",
       "      <td>12</td>\n",
       "      <td>13</td>\n",
       "      <td>14</td>\n",
       "      <td>15</td>\n",
       "    </tr>\n",
       "    <tr>\n",
       "      <th>4</th>\n",
       "      <td>16</td>\n",
       "      <td>17</td>\n",
       "      <td>18</td>\n",
       "      <td>19</td>\n",
       "    </tr>\n",
       "  </tbody>\n",
       "</table>\n",
       "</div>"
      ]
     },
     "execution_count": 14,
     "metadata": {},
     "output_type": "execute_result"
    }
   ],
   "execution_count": 14
  },
  {
   "cell_type": "markdown",
   "metadata": {
    "id": "AoErTpkcAqd4"
   },
   "source": [
    "Values, index and column names:"
   ]
  },
  {
   "cell_type": "code",
   "metadata": {
    "id": "SSd_Z3AHAqd4",
    "ExecuteTime": {
     "end_time": "2024-11-22T18:46:19.412632Z",
     "start_time": "2024-11-22T18:46:19.407266Z"
    }
   },
   "source": [
    "import string\n",
    "df = pd.DataFrame(np.arange(20).reshape((5,4)),\n",
    "                  columns=['a', 'b', 'c', 'd'],\n",
    "                  index=np.random.choice(list(string.ascii_lowercase), 5, replace=False))\n",
    "df"
   ],
   "outputs": [
    {
     "data": {
      "text/plain": [
       "    a   b   c   d\n",
       "e   0   1   2   3\n",
       "d   4   5   6   7\n",
       "p   8   9  10  11\n",
       "a  12  13  14  15\n",
       "h  16  17  18  19"
      ],
      "text/html": [
       "<div>\n",
       "<style scoped>\n",
       "    .dataframe tbody tr th:only-of-type {\n",
       "        vertical-align: middle;\n",
       "    }\n",
       "\n",
       "    .dataframe tbody tr th {\n",
       "        vertical-align: top;\n",
       "    }\n",
       "\n",
       "    .dataframe thead th {\n",
       "        text-align: right;\n",
       "    }\n",
       "</style>\n",
       "<table border=\"1\" class=\"dataframe\">\n",
       "  <thead>\n",
       "    <tr style=\"text-align: right;\">\n",
       "      <th></th>\n",
       "      <th>a</th>\n",
       "      <th>b</th>\n",
       "      <th>c</th>\n",
       "      <th>d</th>\n",
       "    </tr>\n",
       "  </thead>\n",
       "  <tbody>\n",
       "    <tr>\n",
       "      <th>e</th>\n",
       "      <td>0</td>\n",
       "      <td>1</td>\n",
       "      <td>2</td>\n",
       "      <td>3</td>\n",
       "    </tr>\n",
       "    <tr>\n",
       "      <th>d</th>\n",
       "      <td>4</td>\n",
       "      <td>5</td>\n",
       "      <td>6</td>\n",
       "      <td>7</td>\n",
       "    </tr>\n",
       "    <tr>\n",
       "      <th>p</th>\n",
       "      <td>8</td>\n",
       "      <td>9</td>\n",
       "      <td>10</td>\n",
       "      <td>11</td>\n",
       "    </tr>\n",
       "    <tr>\n",
       "      <th>a</th>\n",
       "      <td>12</td>\n",
       "      <td>13</td>\n",
       "      <td>14</td>\n",
       "      <td>15</td>\n",
       "    </tr>\n",
       "    <tr>\n",
       "      <th>h</th>\n",
       "      <td>16</td>\n",
       "      <td>17</td>\n",
       "      <td>18</td>\n",
       "      <td>19</td>\n",
       "    </tr>\n",
       "  </tbody>\n",
       "</table>\n",
       "</div>"
      ]
     },
     "execution_count": 15,
     "metadata": {},
     "output_type": "execute_result"
    }
   ],
   "execution_count": 15
  },
  {
   "cell_type": "code",
   "metadata": {
    "id": "cm-w71OKAqd4",
    "ExecuteTime": {
     "end_time": "2024-11-22T18:46:19.592139Z",
     "start_time": "2024-11-22T18:46:19.588784Z"
    }
   },
   "source": [
    "list(df.columns)"
   ],
   "outputs": [
    {
     "data": {
      "text/plain": [
       "['a', 'b', 'c', 'd']"
      ]
     },
     "execution_count": 16,
     "metadata": {},
     "output_type": "execute_result"
    }
   ],
   "execution_count": 16
  },
  {
   "cell_type": "code",
   "metadata": {
    "id": "CWDCcZpNAqd4",
    "ExecuteTime": {
     "end_time": "2024-11-22T18:46:19.799027Z",
     "start_time": "2024-11-22T18:46:19.796621Z"
    }
   },
   "source": [
    "df.index"
   ],
   "outputs": [
    {
     "data": {
      "text/plain": [
       "Index(['e', 'd', 'p', 'a', 'h'], dtype='object')"
      ]
     },
     "execution_count": 17,
     "metadata": {},
     "output_type": "execute_result"
    }
   ],
   "execution_count": 17
  },
  {
   "cell_type": "markdown",
   "metadata": {
    "id": "FUNZNBaeAqd5"
   },
   "source": [
    "Can you guess what does `df['a']` mean?"
   ]
  },
  {
   "cell_type": "code",
   "metadata": {
    "id": "qmkXW9h2Aqd5",
    "ExecuteTime": {
     "end_time": "2024-11-22T18:46:20.306147Z",
     "start_time": "2024-11-22T18:46:20.303270Z"
    }
   },
   "source": [
    "df['a']"
   ],
   "outputs": [
    {
     "data": {
      "text/plain": [
       "e     0\n",
       "d     4\n",
       "p     8\n",
       "a    12\n",
       "h    16\n",
       "Name: a, dtype: int64"
      ]
     },
     "execution_count": 18,
     "metadata": {},
     "output_type": "execute_result"
    }
   ],
   "execution_count": 18
  },
  {
   "cell_type": "code",
   "metadata": {
    "ExecuteTime": {
     "end_time": "2024-11-22T18:46:20.487733Z",
     "start_time": "2024-11-22T18:46:20.484494Z"
    }
   },
   "source": [
    "df.a"
   ],
   "outputs": [
    {
     "data": {
      "text/plain": [
       "e     0\n",
       "d     4\n",
       "p     8\n",
       "a    12\n",
       "h    16\n",
       "Name: a, dtype: int64"
      ]
     },
     "execution_count": 19,
     "metadata": {},
     "output_type": "execute_result"
    }
   ],
   "execution_count": 19
  },
  {
   "cell_type": "markdown",
   "metadata": {
    "id": "WNypypB_Aqd5"
   },
   "source": [
    "Can we access a row in the same way?"
   ]
  },
  {
   "cell_type": "code",
   "metadata": {
    "id": "OEeyH1R-Aqd5",
    "ExecuteTime": {
     "end_time": "2024-11-22T18:46:21.639305Z",
     "start_time": "2024-11-22T18:46:20.838678Z"
    }
   },
   "source": [
    "df['h']"
   ],
   "outputs": [
    {
     "ename": "KeyError",
     "evalue": "'h'",
     "output_type": "error",
     "traceback": [
      "\u001B[0;31m---------------------------------------------------------------------------\u001B[0m",
      "\u001B[0;31mKeyError\u001B[0m                                  Traceback (most recent call last)",
      "File \u001B[0;32m/opt/anaconda3/lib/python3.12/site-packages/pandas/core/indexes/base.py:3805\u001B[0m, in \u001B[0;36mIndex.get_loc\u001B[0;34m(self, key)\u001B[0m\n\u001B[1;32m   3804\u001B[0m \u001B[38;5;28;01mtry\u001B[39;00m:\n\u001B[0;32m-> 3805\u001B[0m     \u001B[38;5;28;01mreturn\u001B[39;00m \u001B[38;5;28mself\u001B[39m\u001B[38;5;241m.\u001B[39m_engine\u001B[38;5;241m.\u001B[39mget_loc(casted_key)\n\u001B[1;32m   3806\u001B[0m \u001B[38;5;28;01mexcept\u001B[39;00m \u001B[38;5;167;01mKeyError\u001B[39;00m \u001B[38;5;28;01mas\u001B[39;00m err:\n",
      "File \u001B[0;32mindex.pyx:167\u001B[0m, in \u001B[0;36mpandas._libs.index.IndexEngine.get_loc\u001B[0;34m()\u001B[0m\n",
      "File \u001B[0;32mindex.pyx:196\u001B[0m, in \u001B[0;36mpandas._libs.index.IndexEngine.get_loc\u001B[0;34m()\u001B[0m\n",
      "File \u001B[0;32mpandas/_libs/hashtable_class_helper.pxi:7081\u001B[0m, in \u001B[0;36mpandas._libs.hashtable.PyObjectHashTable.get_item\u001B[0;34m()\u001B[0m\n",
      "File \u001B[0;32mpandas/_libs/hashtable_class_helper.pxi:7089\u001B[0m, in \u001B[0;36mpandas._libs.hashtable.PyObjectHashTable.get_item\u001B[0;34m()\u001B[0m\n",
      "\u001B[0;31mKeyError\u001B[0m: 'h'",
      "\nThe above exception was the direct cause of the following exception:\n",
      "\u001B[0;31mKeyError\u001B[0m                                  Traceback (most recent call last)",
      "Cell \u001B[0;32mIn[20], line 1\u001B[0m\n\u001B[0;32m----> 1\u001B[0m df[\u001B[38;5;124m'\u001B[39m\u001B[38;5;124mh\u001B[39m\u001B[38;5;124m'\u001B[39m]\n",
      "File \u001B[0;32m/opt/anaconda3/lib/python3.12/site-packages/pandas/core/frame.py:4102\u001B[0m, in \u001B[0;36mDataFrame.__getitem__\u001B[0;34m(self, key)\u001B[0m\n\u001B[1;32m   4100\u001B[0m \u001B[38;5;28;01mif\u001B[39;00m \u001B[38;5;28mself\u001B[39m\u001B[38;5;241m.\u001B[39mcolumns\u001B[38;5;241m.\u001B[39mnlevels \u001B[38;5;241m>\u001B[39m \u001B[38;5;241m1\u001B[39m:\n\u001B[1;32m   4101\u001B[0m     \u001B[38;5;28;01mreturn\u001B[39;00m \u001B[38;5;28mself\u001B[39m\u001B[38;5;241m.\u001B[39m_getitem_multilevel(key)\n\u001B[0;32m-> 4102\u001B[0m indexer \u001B[38;5;241m=\u001B[39m \u001B[38;5;28mself\u001B[39m\u001B[38;5;241m.\u001B[39mcolumns\u001B[38;5;241m.\u001B[39mget_loc(key)\n\u001B[1;32m   4103\u001B[0m \u001B[38;5;28;01mif\u001B[39;00m is_integer(indexer):\n\u001B[1;32m   4104\u001B[0m     indexer \u001B[38;5;241m=\u001B[39m [indexer]\n",
      "File \u001B[0;32m/opt/anaconda3/lib/python3.12/site-packages/pandas/core/indexes/base.py:3812\u001B[0m, in \u001B[0;36mIndex.get_loc\u001B[0;34m(self, key)\u001B[0m\n\u001B[1;32m   3807\u001B[0m     \u001B[38;5;28;01mif\u001B[39;00m \u001B[38;5;28misinstance\u001B[39m(casted_key, \u001B[38;5;28mslice\u001B[39m) \u001B[38;5;129;01mor\u001B[39;00m (\n\u001B[1;32m   3808\u001B[0m         \u001B[38;5;28misinstance\u001B[39m(casted_key, abc\u001B[38;5;241m.\u001B[39mIterable)\n\u001B[1;32m   3809\u001B[0m         \u001B[38;5;129;01mand\u001B[39;00m \u001B[38;5;28many\u001B[39m(\u001B[38;5;28misinstance\u001B[39m(x, \u001B[38;5;28mslice\u001B[39m) \u001B[38;5;28;01mfor\u001B[39;00m x \u001B[38;5;129;01min\u001B[39;00m casted_key)\n\u001B[1;32m   3810\u001B[0m     ):\n\u001B[1;32m   3811\u001B[0m         \u001B[38;5;28;01mraise\u001B[39;00m InvalidIndexError(key)\n\u001B[0;32m-> 3812\u001B[0m     \u001B[38;5;28;01mraise\u001B[39;00m \u001B[38;5;167;01mKeyError\u001B[39;00m(key) \u001B[38;5;28;01mfrom\u001B[39;00m \u001B[38;5;21;01merr\u001B[39;00m\n\u001B[1;32m   3813\u001B[0m \u001B[38;5;28;01mexcept\u001B[39;00m \u001B[38;5;167;01mTypeError\u001B[39;00m:\n\u001B[1;32m   3814\u001B[0m     \u001B[38;5;66;03m# If we have a listlike key, _check_indexing_error will raise\u001B[39;00m\n\u001B[1;32m   3815\u001B[0m     \u001B[38;5;66;03m#  InvalidIndexError. Otherwise we fall through and re-raise\u001B[39;00m\n\u001B[1;32m   3816\u001B[0m     \u001B[38;5;66;03m#  the TypeError.\u001B[39;00m\n\u001B[1;32m   3817\u001B[0m     \u001B[38;5;28mself\u001B[39m\u001B[38;5;241m.\u001B[39m_check_indexing_error(key)\n",
      "\u001B[0;31mKeyError\u001B[0m: 'h'"
     ]
    }
   ],
   "execution_count": 20
  },
  {
   "cell_type": "markdown",
   "metadata": {
    "id": "dca3Ut-JAqd5"
   },
   "source": [
    "Each column is `pd.Series`:"
   ]
  },
  {
   "cell_type": "code",
   "execution_count": null,
   "metadata": {
    "ExecuteTime": {
     "end_time": "2024-11-22T18:46:21.723610Z",
     "start_time": "2019-11-22T07:57:21.098043Z"
    },
    "id": "YbUHrKHgAqd6"
   },
   "outputs": [],
   "source": [
    "type(df['a'])"
   ]
  },
  {
   "cell_type": "markdown",
   "metadata": {
    "id": "3Gips6HJAqd6"
   },
   "source": [
    "# Reading CSV files\n",
    "\n",
    "We will use [Titanic dataset](https://www.kaggle.com/c/titanic/data):"
   ]
  },
  {
   "cell_type": "code",
   "execution_count": null,
   "metadata": {
    "ExecuteTime": {
     "end_time": "2024-11-22T18:46:21.724429Z",
     "start_time": "2019-11-22T10:35:07.203405Z"
    },
    "id": "oVScrlb9Aqd6"
   },
   "outputs": [],
   "source": [
    "titanic_train = pd.read_csv('train.csv')"
   ]
  },
  {
   "cell_type": "markdown",
   "metadata": {
    "id": "adYSjt3QAqd7"
   },
   "source": [
    "By default, Pandas creates an integer row index and reads column names from `0-th` row of a CSV file:"
   ]
  },
  {
   "cell_type": "code",
   "metadata": {
    "id": "Re262S94Aqd7",
    "ExecuteTime": {
     "end_time": "2024-11-22T18:46:21.962098Z",
     "start_time": "2024-11-22T18:46:21.955084Z"
    }
   },
   "source": [
    "titanic_train"
   ],
   "outputs": [
    {
     "ename": "NameError",
     "evalue": "name 'titanic_train' is not defined",
     "output_type": "error",
     "traceback": [
      "\u001B[0;31m---------------------------------------------------------------------------\u001B[0m",
      "\u001B[0;31mNameError\u001B[0m                                 Traceback (most recent call last)",
      "Cell \u001B[0;32mIn[21], line 1\u001B[0m\n\u001B[0;32m----> 1\u001B[0m titanic_train\n",
      "\u001B[0;31mNameError\u001B[0m: name 'titanic_train' is not defined"
     ]
    }
   ],
   "execution_count": 21
  },
  {
   "cell_type": "markdown",
   "metadata": {
    "id": "CKb3J9cKAqd7"
   },
   "source": [
    "Glimpse into a dataframe:"
   ]
  },
  {
   "cell_type": "code",
   "metadata": {
    "id": "34zbE4fvAqd7",
    "ExecuteTime": {
     "end_time": "2024-11-22T18:46:22.332570Z",
     "start_time": "2024-11-22T18:46:22.325216Z"
    }
   },
   "source": [
    "titanic_train.head(3)"
   ],
   "outputs": [
    {
     "ename": "NameError",
     "evalue": "name 'titanic_train' is not defined",
     "output_type": "error",
     "traceback": [
      "\u001B[0;31m---------------------------------------------------------------------------\u001B[0m",
      "\u001B[0;31mNameError\u001B[0m                                 Traceback (most recent call last)",
      "Cell \u001B[0;32mIn[22], line 1\u001B[0m\n\u001B[0;32m----> 1\u001B[0m titanic_train\u001B[38;5;241m.\u001B[39mhead(\u001B[38;5;241m3\u001B[39m)\n",
      "\u001B[0;31mNameError\u001B[0m: name 'titanic_train' is not defined"
     ]
    }
   ],
   "execution_count": 22
  },
  {
   "cell_type": "code",
   "metadata": {
    "id": "HzfqL9rnAqd7",
    "ExecuteTime": {
     "end_time": "2024-11-22T18:46:22.544587Z",
     "start_time": "2024-11-22T18:46:22.538166Z"
    }
   },
   "source": [
    "titanic_train.tail()"
   ],
   "outputs": [
    {
     "ename": "NameError",
     "evalue": "name 'titanic_train' is not defined",
     "output_type": "error",
     "traceback": [
      "\u001B[0;31m---------------------------------------------------------------------------\u001B[0m",
      "\u001B[0;31mNameError\u001B[0m                                 Traceback (most recent call last)",
      "Cell \u001B[0;32mIn[23], line 1\u001B[0m\n\u001B[0;32m----> 1\u001B[0m titanic_train\u001B[38;5;241m.\u001B[39mtail()\n",
      "\u001B[0;31mNameError\u001B[0m: name 'titanic_train' is not defined"
     ]
    }
   ],
   "execution_count": 23
  },
  {
   "cell_type": "code",
   "metadata": {
    "id": "PqVnsPOjAqd8",
    "ExecuteTime": {
     "end_time": "2024-11-22T18:46:22.765892Z",
     "start_time": "2024-11-22T18:46:22.758671Z"
    }
   },
   "source": [
    "titanic_train.info()"
   ],
   "outputs": [
    {
     "ename": "NameError",
     "evalue": "name 'titanic_train' is not defined",
     "output_type": "error",
     "traceback": [
      "\u001B[0;31m---------------------------------------------------------------------------\u001B[0m",
      "\u001B[0;31mNameError\u001B[0m                                 Traceback (most recent call last)",
      "Cell \u001B[0;32mIn[24], line 1\u001B[0m\n\u001B[0;32m----> 1\u001B[0m titanic_train\u001B[38;5;241m.\u001B[39minfo()\n",
      "\u001B[0;31mNameError\u001B[0m: name 'titanic_train' is not defined"
     ]
    }
   ],
   "execution_count": 24
  },
  {
   "cell_type": "code",
   "metadata": {
    "id": "ohpsd0TAAqd8",
    "ExecuteTime": {
     "end_time": "2024-11-22T18:46:23.000030Z",
     "start_time": "2024-11-22T18:46:22.991858Z"
    }
   },
   "source": [
    "titanic_train.describe()"
   ],
   "outputs": [
    {
     "ename": "NameError",
     "evalue": "name 'titanic_train' is not defined",
     "output_type": "error",
     "traceback": [
      "\u001B[0;31m---------------------------------------------------------------------------\u001B[0m",
      "\u001B[0;31mNameError\u001B[0m                                 Traceback (most recent call last)",
      "Cell \u001B[0;32mIn[25], line 1\u001B[0m\n\u001B[0;32m----> 1\u001B[0m titanic_train\u001B[38;5;241m.\u001B[39mdescribe()\n",
      "\u001B[0;31mNameError\u001B[0m: name 'titanic_train' is not defined"
     ]
    }
   ],
   "execution_count": 25
  },
  {
   "cell_type": "code",
   "metadata": {
    "id": "noHUhnh2Aqd9",
    "ExecuteTime": {
     "end_time": "2024-11-22T18:46:23.173780Z",
     "start_time": "2024-11-22T18:46:23.166629Z"
    }
   },
   "source": [
    "titanic_train"
   ],
   "outputs": [
    {
     "ename": "NameError",
     "evalue": "name 'titanic_train' is not defined",
     "output_type": "error",
     "traceback": [
      "\u001B[0;31m---------------------------------------------------------------------------\u001B[0m",
      "\u001B[0;31mNameError\u001B[0m                                 Traceback (most recent call last)",
      "Cell \u001B[0;32mIn[26], line 1\u001B[0m\n\u001B[0;32m----> 1\u001B[0m titanic_train\n",
      "\u001B[0;31mNameError\u001B[0m: name 'titanic_train' is not defined"
     ]
    }
   ],
   "execution_count": 26
  },
  {
   "cell_type": "markdown",
   "metadata": {
    "id": "NvPiKYiUAqd-"
   },
   "source": [
    "## Basic indexing of Pandas dataframes"
   ]
  },
  {
   "cell_type": "markdown",
   "metadata": {
    "id": "Ul982ah6Aqd-"
   },
   "source": [
    "We can set index column in `pd.read_csv`:"
   ]
  },
  {
   "cell_type": "code",
   "metadata": {
    "id": "6K8nRm4UAqd-",
    "ExecuteTime": {
     "end_time": "2024-11-22T18:46:23.631050Z",
     "start_time": "2024-11-22T18:46:23.621566Z"
    }
   },
   "source": [
    "titanic_train = pd.read_csv('train.csv', index_col='PassengerId')\n",
    "titanic_test = pd.read_csv('test.csv', index_col='PassengerId')"
   ],
   "outputs": [],
   "execution_count": 27
  },
  {
   "cell_type": "code",
   "metadata": {
    "ExecuteTime": {
     "end_time": "2024-11-22T18:46:23.794930Z",
     "start_time": "2024-11-22T18:46:23.789284Z"
    }
   },
   "source": [
    "titanic_train.head()"
   ],
   "outputs": [
    {
     "data": {
      "text/plain": [
       "             Survived  Pclass  \\\n",
       "PassengerId                     \n",
       "1                   0       3   \n",
       "2                   1       1   \n",
       "3                   1       3   \n",
       "4                   1       1   \n",
       "5                   0       3   \n",
       "\n",
       "                                                          Name     Sex   Age  \\\n",
       "PassengerId                                                                    \n",
       "1                                      Braund, Mr. Owen Harris    male  22.0   \n",
       "2            Cumings, Mrs. John Bradley (Florence Briggs Th...  female  38.0   \n",
       "3                                       Heikkinen, Miss. Laina  female  26.0   \n",
       "4                 Futrelle, Mrs. Jacques Heath (Lily May Peel)  female  35.0   \n",
       "5                                     Allen, Mr. William Henry    male  35.0   \n",
       "\n",
       "             SibSp  Parch            Ticket     Fare Cabin Embarked  \n",
       "PassengerId                                                          \n",
       "1                1      0         A/5 21171   7.2500   NaN        S  \n",
       "2                1      0          PC 17599  71.2833   C85        C  \n",
       "3                0      0  STON/O2. 3101282   7.9250   NaN        S  \n",
       "4                1      0            113803  53.1000  C123        S  \n",
       "5                0      0            373450   8.0500   NaN        S  "
      ],
      "text/html": [
       "<div>\n",
       "<style scoped>\n",
       "    .dataframe tbody tr th:only-of-type {\n",
       "        vertical-align: middle;\n",
       "    }\n",
       "\n",
       "    .dataframe tbody tr th {\n",
       "        vertical-align: top;\n",
       "    }\n",
       "\n",
       "    .dataframe thead th {\n",
       "        text-align: right;\n",
       "    }\n",
       "</style>\n",
       "<table border=\"1\" class=\"dataframe\">\n",
       "  <thead>\n",
       "    <tr style=\"text-align: right;\">\n",
       "      <th></th>\n",
       "      <th>Survived</th>\n",
       "      <th>Pclass</th>\n",
       "      <th>Name</th>\n",
       "      <th>Sex</th>\n",
       "      <th>Age</th>\n",
       "      <th>SibSp</th>\n",
       "      <th>Parch</th>\n",
       "      <th>Ticket</th>\n",
       "      <th>Fare</th>\n",
       "      <th>Cabin</th>\n",
       "      <th>Embarked</th>\n",
       "    </tr>\n",
       "    <tr>\n",
       "      <th>PassengerId</th>\n",
       "      <th></th>\n",
       "      <th></th>\n",
       "      <th></th>\n",
       "      <th></th>\n",
       "      <th></th>\n",
       "      <th></th>\n",
       "      <th></th>\n",
       "      <th></th>\n",
       "      <th></th>\n",
       "      <th></th>\n",
       "      <th></th>\n",
       "    </tr>\n",
       "  </thead>\n",
       "  <tbody>\n",
       "    <tr>\n",
       "      <th>1</th>\n",
       "      <td>0</td>\n",
       "      <td>3</td>\n",
       "      <td>Braund, Mr. Owen Harris</td>\n",
       "      <td>male</td>\n",
       "      <td>22.0</td>\n",
       "      <td>1</td>\n",
       "      <td>0</td>\n",
       "      <td>A/5 21171</td>\n",
       "      <td>7.2500</td>\n",
       "      <td>NaN</td>\n",
       "      <td>S</td>\n",
       "    </tr>\n",
       "    <tr>\n",
       "      <th>2</th>\n",
       "      <td>1</td>\n",
       "      <td>1</td>\n",
       "      <td>Cumings, Mrs. John Bradley (Florence Briggs Th...</td>\n",
       "      <td>female</td>\n",
       "      <td>38.0</td>\n",
       "      <td>1</td>\n",
       "      <td>0</td>\n",
       "      <td>PC 17599</td>\n",
       "      <td>71.2833</td>\n",
       "      <td>C85</td>\n",
       "      <td>C</td>\n",
       "    </tr>\n",
       "    <tr>\n",
       "      <th>3</th>\n",
       "      <td>1</td>\n",
       "      <td>3</td>\n",
       "      <td>Heikkinen, Miss. Laina</td>\n",
       "      <td>female</td>\n",
       "      <td>26.0</td>\n",
       "      <td>0</td>\n",
       "      <td>0</td>\n",
       "      <td>STON/O2. 3101282</td>\n",
       "      <td>7.9250</td>\n",
       "      <td>NaN</td>\n",
       "      <td>S</td>\n",
       "    </tr>\n",
       "    <tr>\n",
       "      <th>4</th>\n",
       "      <td>1</td>\n",
       "      <td>1</td>\n",
       "      <td>Futrelle, Mrs. Jacques Heath (Lily May Peel)</td>\n",
       "      <td>female</td>\n",
       "      <td>35.0</td>\n",
       "      <td>1</td>\n",
       "      <td>0</td>\n",
       "      <td>113803</td>\n",
       "      <td>53.1000</td>\n",
       "      <td>C123</td>\n",
       "      <td>S</td>\n",
       "    </tr>\n",
       "    <tr>\n",
       "      <th>5</th>\n",
       "      <td>0</td>\n",
       "      <td>3</td>\n",
       "      <td>Allen, Mr. William Henry</td>\n",
       "      <td>male</td>\n",
       "      <td>35.0</td>\n",
       "      <td>0</td>\n",
       "      <td>0</td>\n",
       "      <td>373450</td>\n",
       "      <td>8.0500</td>\n",
       "      <td>NaN</td>\n",
       "      <td>S</td>\n",
       "    </tr>\n",
       "  </tbody>\n",
       "</table>\n",
       "</div>"
      ]
     },
     "execution_count": 28,
     "metadata": {},
     "output_type": "execute_result"
    }
   ],
   "execution_count": 28
  },
  {
   "cell_type": "markdown",
   "metadata": {
    "id": "A6AdjVBsAqd-"
   },
   "source": [
    "Accessing a single column:"
   ]
  },
  {
   "cell_type": "code",
   "metadata": {
    "id": "FJUai5l4Aqd_",
    "ExecuteTime": {
     "end_time": "2024-11-22T18:46:24.162199Z",
     "start_time": "2024-11-22T18:46:24.157858Z"
    }
   },
   "source": [
    "titanic_train[\"Survived\"]"
   ],
   "outputs": [
    {
     "data": {
      "text/plain": [
       "PassengerId\n",
       "1      0\n",
       "2      1\n",
       "3      1\n",
       "4      1\n",
       "5      0\n",
       "      ..\n",
       "887    0\n",
       "888    1\n",
       "889    0\n",
       "890    1\n",
       "891    0\n",
       "Name: Survived, Length: 891, dtype: int64"
      ]
     },
     "execution_count": 29,
     "metadata": {},
     "output_type": "execute_result"
    }
   ],
   "execution_count": 29
  },
  {
   "cell_type": "markdown",
   "metadata": {
    "id": "rV5YiELQAqd_"
   },
   "source": [
    "A set of columns:"
   ]
  },
  {
   "cell_type": "code",
   "metadata": {
    "id": "2qZ-fhnSAqd_",
    "ExecuteTime": {
     "end_time": "2024-11-22T18:46:24.519579Z",
     "start_time": "2024-11-22T18:46:24.515245Z"
    }
   },
   "source": [
    "titanic_train[[\"Name\", \"Survived\"]]"
   ],
   "outputs": [
    {
     "data": {
      "text/plain": [
       "                                                          Name  Survived\n",
       "PassengerId                                                             \n",
       "1                                      Braund, Mr. Owen Harris         0\n",
       "2            Cumings, Mrs. John Bradley (Florence Briggs Th...         1\n",
       "3                                       Heikkinen, Miss. Laina         1\n",
       "4                 Futrelle, Mrs. Jacques Heath (Lily May Peel)         1\n",
       "5                                     Allen, Mr. William Henry         0\n",
       "...                                                        ...       ...\n",
       "887                                      Montvila, Rev. Juozas         0\n",
       "888                               Graham, Miss. Margaret Edith         1\n",
       "889                   Johnston, Miss. Catherine Helen \"Carrie\"         0\n",
       "890                                      Behr, Mr. Karl Howell         1\n",
       "891                                        Dooley, Mr. Patrick         0\n",
       "\n",
       "[891 rows x 2 columns]"
      ],
      "text/html": [
       "<div>\n",
       "<style scoped>\n",
       "    .dataframe tbody tr th:only-of-type {\n",
       "        vertical-align: middle;\n",
       "    }\n",
       "\n",
       "    .dataframe tbody tr th {\n",
       "        vertical-align: top;\n",
       "    }\n",
       "\n",
       "    .dataframe thead th {\n",
       "        text-align: right;\n",
       "    }\n",
       "</style>\n",
       "<table border=\"1\" class=\"dataframe\">\n",
       "  <thead>\n",
       "    <tr style=\"text-align: right;\">\n",
       "      <th></th>\n",
       "      <th>Name</th>\n",
       "      <th>Survived</th>\n",
       "    </tr>\n",
       "    <tr>\n",
       "      <th>PassengerId</th>\n",
       "      <th></th>\n",
       "      <th></th>\n",
       "    </tr>\n",
       "  </thead>\n",
       "  <tbody>\n",
       "    <tr>\n",
       "      <th>1</th>\n",
       "      <td>Braund, Mr. Owen Harris</td>\n",
       "      <td>0</td>\n",
       "    </tr>\n",
       "    <tr>\n",
       "      <th>2</th>\n",
       "      <td>Cumings, Mrs. John Bradley (Florence Briggs Th...</td>\n",
       "      <td>1</td>\n",
       "    </tr>\n",
       "    <tr>\n",
       "      <th>3</th>\n",
       "      <td>Heikkinen, Miss. Laina</td>\n",
       "      <td>1</td>\n",
       "    </tr>\n",
       "    <tr>\n",
       "      <th>4</th>\n",
       "      <td>Futrelle, Mrs. Jacques Heath (Lily May Peel)</td>\n",
       "      <td>1</td>\n",
       "    </tr>\n",
       "    <tr>\n",
       "      <th>5</th>\n",
       "      <td>Allen, Mr. William Henry</td>\n",
       "      <td>0</td>\n",
       "    </tr>\n",
       "    <tr>\n",
       "      <th>...</th>\n",
       "      <td>...</td>\n",
       "      <td>...</td>\n",
       "    </tr>\n",
       "    <tr>\n",
       "      <th>887</th>\n",
       "      <td>Montvila, Rev. Juozas</td>\n",
       "      <td>0</td>\n",
       "    </tr>\n",
       "    <tr>\n",
       "      <th>888</th>\n",
       "      <td>Graham, Miss. Margaret Edith</td>\n",
       "      <td>1</td>\n",
       "    </tr>\n",
       "    <tr>\n",
       "      <th>889</th>\n",
       "      <td>Johnston, Miss. Catherine Helen \"Carrie\"</td>\n",
       "      <td>0</td>\n",
       "    </tr>\n",
       "    <tr>\n",
       "      <th>890</th>\n",
       "      <td>Behr, Mr. Karl Howell</td>\n",
       "      <td>1</td>\n",
       "    </tr>\n",
       "    <tr>\n",
       "      <th>891</th>\n",
       "      <td>Dooley, Mr. Patrick</td>\n",
       "      <td>0</td>\n",
       "    </tr>\n",
       "  </tbody>\n",
       "</table>\n",
       "<p>891 rows × 2 columns</p>\n",
       "</div>"
      ]
     },
     "execution_count": 30,
     "metadata": {},
     "output_type": "execute_result"
    }
   ],
   "execution_count": 30
  },
  {
   "cell_type": "markdown",
   "metadata": {
    "id": "3aCPU1F7Aqd_"
   },
   "source": [
    "Just in case, column order is not important (usually):"
   ]
  },
  {
   "cell_type": "code",
   "metadata": {
    "id": "BEz0Y53sAqd_",
    "ExecuteTime": {
     "end_time": "2024-11-22T18:46:30.737805Z",
     "start_time": "2024-11-22T18:46:24.880903Z"
    }
   },
   "source": [
    "%timeit titanic_train[[\"Name\", \"Survived\"]]"
   ],
   "outputs": [
    {
     "name": "stdout",
     "output_type": "stream",
     "text": [
      "71.8 μs ± 1.75 μs per loop (mean ± std. dev. of 7 runs, 10,000 loops each)\n"
     ]
    }
   ],
   "execution_count": 31
  },
  {
   "cell_type": "code",
   "metadata": {
    "id": "3BmnJrqAAqeA",
    "ExecuteTime": {
     "end_time": "2024-11-22T18:46:36.738843Z",
     "start_time": "2024-11-22T18:46:30.783851Z"
    }
   },
   "source": [
    "%timeit titanic_train[[\"Survived\", \"Name\"]]"
   ],
   "outputs": [
    {
     "name": "stdout",
     "output_type": "stream",
     "text": [
      "73.6 μs ± 1.61 μs per loop (mean ± std. dev. of 7 runs, 10,000 loops each)\n"
     ]
    }
   ],
   "execution_count": 32
  },
  {
   "cell_type": "markdown",
   "metadata": {
    "id": "vaBf65O5AqeA"
   },
   "source": [
    "Integer indexing is also available with `[]` notation, but with some peculiarities:"
   ]
  },
  {
   "cell_type": "code",
   "metadata": {
    "id": "kDOHxLupAqeB",
    "ExecuteTime": {
     "end_time": "2024-11-22T18:46:36.773244Z",
     "start_time": "2024-11-22T18:46:36.768842Z"
    }
   },
   "source": [
    "titanic_train[2:4]"
   ],
   "outputs": [
    {
     "data": {
      "text/plain": [
       "             Survived  Pclass                                          Name  \\\n",
       "PassengerId                                                                   \n",
       "3                   1       3                        Heikkinen, Miss. Laina   \n",
       "4                   1       1  Futrelle, Mrs. Jacques Heath (Lily May Peel)   \n",
       "\n",
       "                Sex   Age  SibSp  Parch            Ticket    Fare Cabin  \\\n",
       "PassengerId                                                               \n",
       "3            female  26.0      0      0  STON/O2. 3101282   7.925   NaN   \n",
       "4            female  35.0      1      0            113803  53.100  C123   \n",
       "\n",
       "            Embarked  \n",
       "PassengerId           \n",
       "3                  S  \n",
       "4                  S  "
      ],
      "text/html": [
       "<div>\n",
       "<style scoped>\n",
       "    .dataframe tbody tr th:only-of-type {\n",
       "        vertical-align: middle;\n",
       "    }\n",
       "\n",
       "    .dataframe tbody tr th {\n",
       "        vertical-align: top;\n",
       "    }\n",
       "\n",
       "    .dataframe thead th {\n",
       "        text-align: right;\n",
       "    }\n",
       "</style>\n",
       "<table border=\"1\" class=\"dataframe\">\n",
       "  <thead>\n",
       "    <tr style=\"text-align: right;\">\n",
       "      <th></th>\n",
       "      <th>Survived</th>\n",
       "      <th>Pclass</th>\n",
       "      <th>Name</th>\n",
       "      <th>Sex</th>\n",
       "      <th>Age</th>\n",
       "      <th>SibSp</th>\n",
       "      <th>Parch</th>\n",
       "      <th>Ticket</th>\n",
       "      <th>Fare</th>\n",
       "      <th>Cabin</th>\n",
       "      <th>Embarked</th>\n",
       "    </tr>\n",
       "    <tr>\n",
       "      <th>PassengerId</th>\n",
       "      <th></th>\n",
       "      <th></th>\n",
       "      <th></th>\n",
       "      <th></th>\n",
       "      <th></th>\n",
       "      <th></th>\n",
       "      <th></th>\n",
       "      <th></th>\n",
       "      <th></th>\n",
       "      <th></th>\n",
       "      <th></th>\n",
       "    </tr>\n",
       "  </thead>\n",
       "  <tbody>\n",
       "    <tr>\n",
       "      <th>3</th>\n",
       "      <td>1</td>\n",
       "      <td>3</td>\n",
       "      <td>Heikkinen, Miss. Laina</td>\n",
       "      <td>female</td>\n",
       "      <td>26.0</td>\n",
       "      <td>0</td>\n",
       "      <td>0</td>\n",
       "      <td>STON/O2. 3101282</td>\n",
       "      <td>7.925</td>\n",
       "      <td>NaN</td>\n",
       "      <td>S</td>\n",
       "    </tr>\n",
       "    <tr>\n",
       "      <th>4</th>\n",
       "      <td>1</td>\n",
       "      <td>1</td>\n",
       "      <td>Futrelle, Mrs. Jacques Heath (Lily May Peel)</td>\n",
       "      <td>female</td>\n",
       "      <td>35.0</td>\n",
       "      <td>1</td>\n",
       "      <td>0</td>\n",
       "      <td>113803</td>\n",
       "      <td>53.100</td>\n",
       "      <td>C123</td>\n",
       "      <td>S</td>\n",
       "    </tr>\n",
       "  </tbody>\n",
       "</table>\n",
       "</div>"
      ]
     },
     "execution_count": 33,
     "metadata": {},
     "output_type": "execute_result"
    }
   ],
   "execution_count": 33
  },
  {
   "cell_type": "markdown",
   "metadata": {
    "id": "gZx4HajGAqeB"
   },
   "source": [
    "But:"
   ]
  },
  {
   "cell_type": "code",
   "metadata": {
    "id": "heJOFXzCAqeC",
    "ExecuteTime": {
     "end_time": "2024-11-22T18:46:36.862563Z",
     "start_time": "2024-11-22T18:46:36.842832Z"
    }
   },
   "source": [
    "titanic_train[2]"
   ],
   "outputs": [
    {
     "ename": "KeyError",
     "evalue": "2",
     "output_type": "error",
     "traceback": [
      "\u001B[0;31m---------------------------------------------------------------------------\u001B[0m",
      "\u001B[0;31mKeyError\u001B[0m                                  Traceback (most recent call last)",
      "File \u001B[0;32m/opt/anaconda3/lib/python3.12/site-packages/pandas/core/indexes/base.py:3805\u001B[0m, in \u001B[0;36mIndex.get_loc\u001B[0;34m(self, key)\u001B[0m\n\u001B[1;32m   3804\u001B[0m \u001B[38;5;28;01mtry\u001B[39;00m:\n\u001B[0;32m-> 3805\u001B[0m     \u001B[38;5;28;01mreturn\u001B[39;00m \u001B[38;5;28mself\u001B[39m\u001B[38;5;241m.\u001B[39m_engine\u001B[38;5;241m.\u001B[39mget_loc(casted_key)\n\u001B[1;32m   3806\u001B[0m \u001B[38;5;28;01mexcept\u001B[39;00m \u001B[38;5;167;01mKeyError\u001B[39;00m \u001B[38;5;28;01mas\u001B[39;00m err:\n",
      "File \u001B[0;32mindex.pyx:167\u001B[0m, in \u001B[0;36mpandas._libs.index.IndexEngine.get_loc\u001B[0;34m()\u001B[0m\n",
      "File \u001B[0;32mindex.pyx:196\u001B[0m, in \u001B[0;36mpandas._libs.index.IndexEngine.get_loc\u001B[0;34m()\u001B[0m\n",
      "File \u001B[0;32mpandas/_libs/hashtable_class_helper.pxi:7081\u001B[0m, in \u001B[0;36mpandas._libs.hashtable.PyObjectHashTable.get_item\u001B[0;34m()\u001B[0m\n",
      "File \u001B[0;32mpandas/_libs/hashtable_class_helper.pxi:7089\u001B[0m, in \u001B[0;36mpandas._libs.hashtable.PyObjectHashTable.get_item\u001B[0;34m()\u001B[0m\n",
      "\u001B[0;31mKeyError\u001B[0m: 2",
      "\nThe above exception was the direct cause of the following exception:\n",
      "\u001B[0;31mKeyError\u001B[0m                                  Traceback (most recent call last)",
      "Cell \u001B[0;32mIn[34], line 1\u001B[0m\n\u001B[0;32m----> 1\u001B[0m titanic_train[\u001B[38;5;241m2\u001B[39m]\n",
      "File \u001B[0;32m/opt/anaconda3/lib/python3.12/site-packages/pandas/core/frame.py:4102\u001B[0m, in \u001B[0;36mDataFrame.__getitem__\u001B[0;34m(self, key)\u001B[0m\n\u001B[1;32m   4100\u001B[0m \u001B[38;5;28;01mif\u001B[39;00m \u001B[38;5;28mself\u001B[39m\u001B[38;5;241m.\u001B[39mcolumns\u001B[38;5;241m.\u001B[39mnlevels \u001B[38;5;241m>\u001B[39m \u001B[38;5;241m1\u001B[39m:\n\u001B[1;32m   4101\u001B[0m     \u001B[38;5;28;01mreturn\u001B[39;00m \u001B[38;5;28mself\u001B[39m\u001B[38;5;241m.\u001B[39m_getitem_multilevel(key)\n\u001B[0;32m-> 4102\u001B[0m indexer \u001B[38;5;241m=\u001B[39m \u001B[38;5;28mself\u001B[39m\u001B[38;5;241m.\u001B[39mcolumns\u001B[38;5;241m.\u001B[39mget_loc(key)\n\u001B[1;32m   4103\u001B[0m \u001B[38;5;28;01mif\u001B[39;00m is_integer(indexer):\n\u001B[1;32m   4104\u001B[0m     indexer \u001B[38;5;241m=\u001B[39m [indexer]\n",
      "File \u001B[0;32m/opt/anaconda3/lib/python3.12/site-packages/pandas/core/indexes/base.py:3812\u001B[0m, in \u001B[0;36mIndex.get_loc\u001B[0;34m(self, key)\u001B[0m\n\u001B[1;32m   3807\u001B[0m     \u001B[38;5;28;01mif\u001B[39;00m \u001B[38;5;28misinstance\u001B[39m(casted_key, \u001B[38;5;28mslice\u001B[39m) \u001B[38;5;129;01mor\u001B[39;00m (\n\u001B[1;32m   3808\u001B[0m         \u001B[38;5;28misinstance\u001B[39m(casted_key, abc\u001B[38;5;241m.\u001B[39mIterable)\n\u001B[1;32m   3809\u001B[0m         \u001B[38;5;129;01mand\u001B[39;00m \u001B[38;5;28many\u001B[39m(\u001B[38;5;28misinstance\u001B[39m(x, \u001B[38;5;28mslice\u001B[39m) \u001B[38;5;28;01mfor\u001B[39;00m x \u001B[38;5;129;01min\u001B[39;00m casted_key)\n\u001B[1;32m   3810\u001B[0m     ):\n\u001B[1;32m   3811\u001B[0m         \u001B[38;5;28;01mraise\u001B[39;00m InvalidIndexError(key)\n\u001B[0;32m-> 3812\u001B[0m     \u001B[38;5;28;01mraise\u001B[39;00m \u001B[38;5;167;01mKeyError\u001B[39;00m(key) \u001B[38;5;28;01mfrom\u001B[39;00m \u001B[38;5;21;01merr\u001B[39;00m\n\u001B[1;32m   3813\u001B[0m \u001B[38;5;28;01mexcept\u001B[39;00m \u001B[38;5;167;01mTypeError\u001B[39;00m:\n\u001B[1;32m   3814\u001B[0m     \u001B[38;5;66;03m# If we have a listlike key, _check_indexing_error will raise\u001B[39;00m\n\u001B[1;32m   3815\u001B[0m     \u001B[38;5;66;03m#  InvalidIndexError. Otherwise we fall through and re-raise\u001B[39;00m\n\u001B[1;32m   3816\u001B[0m     \u001B[38;5;66;03m#  the TypeError.\u001B[39;00m\n\u001B[1;32m   3817\u001B[0m     \u001B[38;5;28mself\u001B[39m\u001B[38;5;241m.\u001B[39m_check_indexing_error(key)\n",
      "\u001B[0;31mKeyError\u001B[0m: 2"
     ]
    }
   ],
   "execution_count": 34
  },
  {
   "cell_type": "markdown",
   "metadata": {
    "id": "fU7SzWSaAqeC"
   },
   "source": [
    "`[]` may be ambiguous, and it's better to use it only for column access. If you want to use row labels, use `.loc`:"
   ]
  },
  {
   "cell_type": "code",
   "execution_count": null,
   "metadata": {
    "id": "FKDkkjaaAqeC"
   },
   "outputs": [],
   "source": [
    "titanic_train.loc[2]"
   ]
  },
  {
   "cell_type": "code",
   "execution_count": null,
   "metadata": {
    "id": "XbuI02MFAqeC"
   },
   "outputs": [],
   "source": [
    "titanic_train.head()"
   ]
  },
  {
   "cell_type": "markdown",
   "metadata": {
    "id": "5tS3JjYEAqeC"
   },
   "source": [
    "Note, that `titanic_train.loc[...]` is label-based, not positional, although row labels are integers. This is even more elaborated for non-monotonic indexes (both default one and `PassengerId` are unique and monotonic)."
   ]
  },
  {
   "cell_type": "markdown",
   "metadata": {
    "id": "mXnvz81tAqeD"
   },
   "source": [
    "Label-based slice (inclusive bounds):"
   ]
  },
  {
   "cell_type": "code",
   "execution_count": null,
   "metadata": {
    "id": "FrUDi3HmAqeD"
   },
   "outputs": [],
   "source": [
    "titanic_train.loc[2:4]"
   ]
  },
  {
   "cell_type": "markdown",
   "metadata": {
    "id": "VyuYR4r6AqeD"
   },
   "source": [
    "Positional slice (exclusive upper bound):"
   ]
  },
  {
   "cell_type": "code",
   "execution_count": null,
   "metadata": {
    "id": "SH4qxHb6AqeD"
   },
   "outputs": [],
   "source": [
    "titanic_train[2:4]"
   ]
  },
  {
   "cell_type": "markdown",
   "metadata": {
    "id": "pwBFNLD-AqeE"
   },
   "source": [
    "`.loc` indexing is very flexible and can combine row and column access in one run:"
   ]
  },
  {
   "cell_type": "code",
   "execution_count": null,
   "metadata": {
    "id": "OgT_aSBbAqeE"
   },
   "outputs": [],
   "source": [
    "titanic_train.loc[2:4, \"Age\"]"
   ]
  },
  {
   "cell_type": "code",
   "execution_count": null,
   "metadata": {
    "id": "522Jo6KVAqeE"
   },
   "outputs": [],
   "source": [
    "titanic_train.loc[2:4, [\"Age\"]]"
   ]
  },
  {
   "cell_type": "markdown",
   "metadata": {
    "id": "waUrHyLzAqeE"
   },
   "source": [
    "This one won't work:"
   ]
  },
  {
   "cell_type": "code",
   "execution_count": null,
   "metadata": {
    "id": "rWw_lW2MAqeF"
   },
   "outputs": [],
   "source": [
    "titanic_train[2:4, [\"Age\"]]"
   ]
  },
  {
   "cell_type": "code",
   "execution_count": null,
   "metadata": {
    "id": "ctRorsT4AqeF"
   },
   "outputs": [],
   "source": [
    "titanic_train.loc[2:10:2, [\"Age\"]]"
   ]
  },
  {
   "cell_type": "code",
   "execution_count": null,
   "metadata": {
    "id": "0brm_VrqAqeF"
   },
   "outputs": [],
   "source": [
    "titanic_train.loc[titanic_train[\"Age\"] < 5, [\"Name\", \"Pclass\"]]"
   ]
  },
  {
   "cell_type": "code",
   "execution_count": null,
   "metadata": {
    "id": "X6Dn2B_MAqeF"
   },
   "outputs": [],
   "source": [
    "titanic_train.loc[(titanic_train[\"Age\"] < 5) & (titanic_train.Pclass == 2), \"Name\"]"
   ]
  },
  {
   "cell_type": "markdown",
   "metadata": {
    "id": "VuZb6NPeAqeF"
   },
   "source": [
    "This won't work:"
   ]
  },
  {
   "cell_type": "code",
   "execution_count": null,
   "metadata": {
    "id": "Yd3DvlpzAqeF"
   },
   "outputs": [],
   "source": [
    "titanic_train.loc[titanic_train[\"Age\"] < 5 & titanic_train.Pclass == 2, \"Name\"]"
   ]
  },
  {
   "cell_type": "code",
   "execution_count": null,
   "metadata": {},
   "outputs": [],
   "source": [
    "titanic_train.head()"
   ]
  },
  {
   "cell_type": "code",
   "execution_count": null,
   "metadata": {
    "id": "0mFRrgk0AqeF"
   },
   "outputs": [],
   "source": [
    "5 & titanic_train.Pclass"
   ]
  },
  {
   "cell_type": "code",
   "execution_count": null,
   "metadata": {
    "id": "aDFJE8AuAqeG"
   },
   "outputs": [],
   "source": [
    "(titanic_train[\"Age\"] < 5).values"
   ]
  },
  {
   "cell_type": "markdown",
   "metadata": {
    "id": "Kzi8lQoZAqeG"
   },
   "source": [
    "`.iloc`, in contrast, is explicitly positional and can combine both row and column positions (and upper bounds are always exclusive):"
   ]
  },
  {
   "cell_type": "code",
   "execution_count": null,
   "metadata": {
    "id": "HQCQj_69AqeG"
   },
   "outputs": [],
   "source": [
    "titanic_train.iloc[:2, 3]  # Note resulting series name: Pandas preserves column name"
   ]
  },
  {
   "cell_type": "code",
   "execution_count": null,
   "metadata": {
    "id": "PNaK_H9jAqeG"
   },
   "outputs": [],
   "source": [
    "titanic_train.iloc[:2, 3:5]"
   ]
  },
  {
   "cell_type": "markdown",
   "metadata": {
    "id": "Z73MNXsjAqeG"
   },
   "source": [
    "You cannot mix positional and label-based indexing:"
   ]
  },
  {
   "cell_type": "code",
   "execution_count": null,
   "metadata": {
    "id": "iGkxUKjhAqeG"
   },
   "outputs": [],
   "source": [
    "titanic_train.iloc[:2, \"Name\"]"
   ]
  },
  {
   "cell_type": "markdown",
   "metadata": {
    "id": "U-lrJkwhAqeG"
   },
   "source": [
    "But you still can use filtering:"
   ]
  },
  {
   "cell_type": "code",
   "execution_count": null,
   "metadata": {
    "id": "pVAUUnPNAqeH"
   },
   "outputs": [],
   "source": [
    "titanic_train.iloc[(titanic_train.Age < 10).values, 2]  # titanic_train.iloc[titanic_train.Age < 10, 2] won't work"
   ]
  },
  {
   "cell_type": "markdown",
   "metadata": {
    "id": "nQ23Ya3dAqeH"
   },
   "source": [
    "## Performance"
   ]
  },
  {
   "cell_type": "markdown",
   "metadata": {
    "id": "kYbdyzEeAqeH"
   },
   "source": [
    "But how index is useful? (note the filtering notation)"
   ]
  },
  {
   "cell_type": "code",
   "execution_count": null,
   "metadata": {
    "id": "gghPKnvIAqeH"
   },
   "outputs": [],
   "source": [
    "titanic_train = pd.read_csv('train.csv')"
   ]
  },
  {
   "cell_type": "code",
   "execution_count": null,
   "metadata": {
    "ExecuteTime": {
     "end_time": "2024-11-22T18:46:36.962352Z",
     "start_time": "2019-11-22T10:35:40.370862Z"
    },
    "id": "4uma0lasAqeH"
   },
   "outputs": [],
   "source": [
    "%timeit titanic_train[titanic_train.PassengerId==400]"
   ]
  },
  {
   "cell_type": "code",
   "execution_count": null,
   "metadata": {
    "ExecuteTime": {
     "end_time": "2024-11-22T18:46:36.962426Z",
     "start_time": "2019-11-22T10:35:49.094692Z"
    },
    "id": "GXSp3-8TAqeH"
   },
   "outputs": [],
   "source": [
    "titanic_train = pd.read_csv('train.csv', index_col='PassengerId')"
   ]
  },
  {
   "cell_type": "code",
   "execution_count": null,
   "metadata": {
    "ExecuteTime": {
     "end_time": "2024-11-22T18:46:36.962481Z",
     "start_time": "2019-11-22T10:36:13.269503Z"
    },
    "id": "rVMEixtNAqeH"
   },
   "outputs": [],
   "source": [
    "%timeit titanic_train.loc[400]"
   ]
  },
  {
   "cell_type": "markdown",
   "metadata": {
    "id": "GPcudjLEAqeH"
   },
   "source": [
    "## Combining dataframes"
   ]
  },
  {
   "cell_type": "code",
   "execution_count": null,
   "metadata": {
    "id": "MU4FodoeAqeI"
   },
   "outputs": [],
   "source": [
    "pd.concat([titanic_train, titanic_test], ignore_index=True)"
   ]
  },
  {
   "cell_type": "markdown",
   "metadata": {
    "id": "PhFeFSCHAqeI"
   },
   "source": [
    "Note, how Pandas filled `Survived` column (which is not even present `titanic_test`!). Better way to combine dataframes when index has actual meaning:"
   ]
  },
  {
   "cell_type": "code",
   "execution_count": null,
   "metadata": {
    "ExecuteTime": {
     "end_time": "2024-11-22T18:46:36.962582Z",
     "start_time": "2019-11-22T10:37:12.742545Z"
    },
    "id": "VOD1y11FAqeI"
   },
   "outputs": [],
   "source": [
    "titanic = pd.concat([titanic_train, titanic_test])\n",
    "titanic"
   ]
  },
  {
   "cell_type": "code",
   "execution_count": null,
   "metadata": {
    "id": "VqFynZ8RAqeI"
   },
   "outputs": [],
   "source": [
    "titanic"
   ]
  },
  {
   "cell_type": "markdown",
   "metadata": {
    "id": "BIraTipdAqeI"
   },
   "source": [
    "# Indexing `pd.Series` in depth"
   ]
  },
  {
   "cell_type": "code",
   "execution_count": null,
   "metadata": {
    "ExecuteTime": {
     "end_time": "2024-11-22T18:46:36.962695Z",
     "start_time": "2019-11-22T08:09:09.955607Z"
    },
    "id": "yKXX48wiAqeI"
   },
   "outputs": [],
   "source": [
    "np.random.seed(983456)\n",
    "\n",
    "N_ELEMS = 20\n",
    "\n",
    "s = pd.Series(np.random.randint(20, size=(N_ELEMS,)),\n",
    "              index=list(string.ascii_lowercase)[:N_ELEMS],\n",
    "              name='randint_series')\n",
    "s"
   ]
  },
  {
   "cell_type": "markdown",
   "metadata": {
    "id": "FP_-iuHwAqeI"
   },
   "source": [
    "## Indexing with `[]`"
   ]
  },
  {
   "cell_type": "code",
   "execution_count": null,
   "metadata": {
    "ExecuteTime": {
     "end_time": "2024-11-22T18:46:36.962747Z",
     "start_time": "2019-11-19T11:45:14.953765Z"
    },
    "id": "J_QQU_IoAqeJ"
   },
   "outputs": [],
   "source": [
    "s"
   ]
  },
  {
   "cell_type": "code",
   "execution_count": null,
   "metadata": {
    "ExecuteTime": {
     "end_time": "2024-11-22T18:46:36.962798Z",
     "start_time": "2019-11-22T08:09:32.508686Z"
    },
    "id": "Y9zJNBslAqeL"
   },
   "outputs": [],
   "source": [
    "s[['i']]"
   ]
  },
  {
   "cell_type": "markdown",
   "metadata": {
    "id": "TQQbAvyXAqeL"
   },
   "source": [
    "Slicing works not the way you would expect it to work (both bounds are inclusive):"
   ]
  },
  {
   "cell_type": "code",
   "execution_count": null,
   "metadata": {
    "ExecuteTime": {
     "end_time": "2024-11-22T18:46:36.962851Z",
     "start_time": "2019-11-22T08:09:42.141736Z"
    },
    "id": "Muwk4MxmAqeL"
   },
   "outputs": [],
   "source": [
    "s['a':'f']"
   ]
  },
  {
   "cell_type": "markdown",
   "metadata": {
    "id": "Cz9-Yxi5AqeM"
   },
   "source": [
    "Indexing array work as well:"
   ]
  },
  {
   "cell_type": "code",
   "execution_count": null,
   "metadata": {
    "ExecuteTime": {
     "end_time": "2024-11-22T18:46:36.962914Z",
     "start_time": "2019-11-22T08:09:53.085061Z"
    },
    "id": "mr-E8Sz0AqeM"
   },
   "outputs": [],
   "source": [
    "s[['k', 'q', 'a', 'r']]"
   ]
  },
  {
   "cell_type": "code",
   "execution_count": null,
   "metadata": {
    "id": "a5XRRax5AqeM"
   },
   "outputs": [],
   "source": [
    "s.index"
   ]
  },
  {
   "cell_type": "markdown",
   "metadata": {
    "id": "yaFQH8fEAqeM"
   },
   "source": [
    "Note, that positional indexing works as well:"
   ]
  },
  {
   "cell_type": "code",
   "execution_count": null,
   "metadata": {
    "id": "s3-yf-MxAqeN"
   },
   "outputs": [],
   "source": [
    "s[0:5]"
   ]
  },
  {
   "cell_type": "code",
   "execution_count": null,
   "metadata": {
    "ExecuteTime": {
     "end_time": "2024-11-22T18:46:36.963059Z",
     "start_time": "2019-11-22T08:10:00.047847Z"
    },
    "id": "Tu5nwXOuAqeN"
   },
   "outputs": [],
   "source": [
    "s[5:3:-1]"
   ]
  },
  {
   "cell_type": "markdown",
   "metadata": {
    "id": "dVz4xMKeAqeO"
   },
   "source": [
    "## Indexing with `.loc`"
   ]
  },
  {
   "cell_type": "code",
   "execution_count": null,
   "metadata": {
    "ExecuteTime": {
     "end_time": "2024-11-22T18:46:36.963110Z",
     "start_time": "2019-11-22T08:11:11.149711Z"
    },
    "id": "Mz00weDXAqeO"
   },
   "outputs": [],
   "source": [
    "np.random.seed(983456)\n",
    "\n",
    "s_int_idx = pd.Series(np.random.randint(20, size=(N_ELEMS,)),\n",
    "                      index=np.random.choice(N_ELEMS, N_ELEMS, replace=False),\n",
    "                      name='randint_series')\n",
    "s_int_idx"
   ]
  },
  {
   "cell_type": "markdown",
   "metadata": {
    "id": "Wll1dXp2AqeP"
   },
   "source": [
    "We have integer index. What if we use slicing here? Will it go positional or use row index?"
   ]
  },
  {
   "cell_type": "code",
   "execution_count": null,
   "metadata": {
    "ExecuteTime": {
     "end_time": "2024-11-22T18:46:36.963179Z",
     "start_time": "2019-11-22T08:12:04.666362Z"
    },
    "id": "6XVuRJ-oAqeP"
   },
   "outputs": [],
   "source": [
    "s_int_idx[2:15]"
   ]
  },
  {
   "cell_type": "markdown",
   "metadata": {
    "id": "MMrJ2GNuAqeP"
   },
   "source": [
    "Surprising. But that's the way Pandas works and you'll love it over time (it's API is strongly tailored to most common operations making them more concise)."
   ]
  },
  {
   "cell_type": "code",
   "execution_count": null,
   "metadata": {
    "ExecuteTime": {
     "end_time": "2024-11-22T18:46:36.963235Z",
     "start_time": "2019-11-22T08:13:01.786540Z"
    },
    "id": "Sw4-3jtLAqeP"
   },
   "outputs": [],
   "source": [
    "s_int_idx[2]  # label"
   ]
  },
  {
   "cell_type": "code",
   "execution_count": null,
   "metadata": {
    "ExecuteTime": {
     "end_time": "2024-11-22T18:46:36.963286Z",
     "start_time": "2019-11-22T08:13:27.673310Z"
    },
    "id": "HY17taRPAqeP"
   },
   "outputs": [],
   "source": [
    "s_int_idx[2:5]  # position"
   ]
  },
  {
   "cell_type": "markdown",
   "metadata": {
    "id": "YDF_9GM7AqeQ"
   },
   "source": [
    "Boolean mask? Sure."
   ]
  },
  {
   "cell_type": "code",
   "execution_count": null,
   "metadata": {
    "ExecuteTime": {
     "end_time": "2024-11-22T18:46:36.963338Z",
     "start_time": "2019-11-22T08:13:56.005377Z"
    },
    "id": "8VaDC90tAqeQ"
   },
   "outputs": [],
   "source": [
    "s_int_idx[s_int_idx.index.isin(range(2,6))] # based on value of an index using a boolean mask"
   ]
  },
  {
   "cell_type": "code",
   "execution_count": null,
   "metadata": {
    "id": "_Ub7B0dhAqeQ"
   },
   "outputs": [],
   "source": [
    "s_int_idx"
   ]
  },
  {
   "cell_type": "markdown",
   "metadata": {
    "id": "EM5JhdP8AqeQ"
   },
   "source": [
    "Again, `[]` may often be ambiguous. Use `.loc` or `.iloc` to make your code readable and clean:"
   ]
  },
  {
   "cell_type": "code",
   "execution_count": null,
   "metadata": {
    "ExecuteTime": {
     "end_time": "2024-11-22T18:46:36.963431Z",
     "start_time": "2019-11-22T08:14:31.549832Z"
    },
    "id": "1g1Z5rbKAqeQ"
   },
   "outputs": [],
   "source": [
    "s_int_idx.loc[2:15]  # label"
   ]
  },
  {
   "cell_type": "code",
   "execution_count": null,
   "metadata": {
    "ExecuteTime": {
     "end_time": "2024-11-22T18:46:36.963482Z",
     "start_time": "2019-11-22T08:14:56.385716Z"
    },
    "id": "FX6OREaWAqeQ"
   },
   "outputs": [],
   "source": [
    "s_int_idx.iloc[2:15]  # position"
   ]
  },
  {
   "cell_type": "markdown",
   "metadata": {
    "id": "Ikvk2Iw3AqeQ"
   },
   "source": [
    "What if we take some random upper bound? It won't work generally:"
   ]
  },
  {
   "cell_type": "code",
   "execution_count": null,
   "metadata": {
    "ExecuteTime": {
     "end_time": "2024-11-22T18:46:36.963534Z",
     "start_time": "2019-11-22T08:15:49.967437Z"
    },
    "id": "oVXK5bTWAqeR"
   },
   "outputs": [],
   "source": [
    "s_int_idx.loc[2:456]"
   ]
  },
  {
   "cell_type": "markdown",
   "metadata": {
    "id": "0I5iJ44AAqeR"
   },
   "source": [
    "Because of this:"
   ]
  },
  {
   "cell_type": "code",
   "execution_count": null,
   "metadata": {
    "id": "RcfCqU9oAqeR"
   },
   "outputs": [],
   "source": [
    "s_int_idx.index.is_monotonic_increasing"
   ]
  },
  {
   "cell_type": "markdown",
   "metadata": {
    "id": "PQxHTq7_AqeR"
   },
   "source": [
    "But we can make it work (or rather you now know when it works and when it doesn't):"
   ]
  },
  {
   "cell_type": "code",
   "execution_count": null,
   "metadata": {
    "id": "Wlyjpg_lAqeR"
   },
   "outputs": [],
   "source": [
    "s_int_idx.sort_index().loc[2:234]"
   ]
  },
  {
   "cell_type": "markdown",
   "metadata": {
    "id": "70sl6-VRAqeR"
   },
   "source": [
    "Because:"
   ]
  },
  {
   "cell_type": "code",
   "execution_count": null,
   "metadata": {
    "id": "oV50Rk3iAqeS"
   },
   "outputs": [],
   "source": [
    "s_int_idx.sort_index().index.is_monotonic_increasing"
   ]
  },
  {
   "cell_type": "markdown",
   "metadata": {
    "id": "9ubfTAloAqeS"
   },
   "source": [
    "We'll see why this works a bit later. We can do complex filtering/masking/boolean indexing as well:"
   ]
  },
  {
   "cell_type": "code",
   "execution_count": null,
   "metadata": {
    "ExecuteTime": {
     "end_time": "2024-11-22T18:46:36.963736Z",
     "start_time": "2019-11-22T08:26:13.850033Z"
    },
    "id": "hLzGC1pTAqeS"
   },
   "outputs": [],
   "source": [
    "s_int_idx[s_int_idx.index!=11]"
   ]
  },
  {
   "cell_type": "code",
   "execution_count": null,
   "metadata": {
    "ExecuteTime": {
     "end_time": "2024-11-22T18:46:36.963804Z",
     "start_time": "2019-11-22T08:28:05.155895Z"
    },
    "id": "z3Wfb9wTAqeS"
   },
   "outputs": [],
   "source": [
    "s_int_idx[(s_int_idx>15) | (s_int_idx<5)]"
   ]
  },
  {
   "cell_type": "code",
   "execution_count": null,
   "metadata": {
    "ExecuteTime": {
     "end_time": "2024-11-22T18:46:36.963855Z",
     "start_time": "2019-11-22T08:28:55.358326Z"
    },
    "id": "C5Brku4WAqeS"
   },
   "outputs": [],
   "source": [
    "s_int_idx.loc[s_int_idx!=14]"
   ]
  },
  {
   "cell_type": "markdown",
   "metadata": {
    "id": "W6TDB0RfAqeS"
   },
   "source": [
    "# Indexing `pd.DataFrame`"
   ]
  },
  {
   "cell_type": "code",
   "execution_count": null,
   "metadata": {
    "ExecuteTime": {
     "end_time": "2024-11-22T18:46:36.963905Z",
     "start_time": "2019-11-22T08:48:11.707003Z"
    },
    "id": "ZLjkVxJ5AqeS"
   },
   "outputs": [],
   "source": [
    "np.random.seed(983456)\n",
    "\n",
    "df = pd.DataFrame(np.arange(20).reshape((5,4)),\n",
    "                  columns=['d', 'c', 'b', 'a'],\n",
    "                  index=np.random.choice(list(string.ascii_lowercase), 5, replace=False))\n",
    "df"
   ]
  },
  {
   "cell_type": "markdown",
   "metadata": {
    "id": "wsTZ0XQtAqeT"
   },
   "source": [
    "Ok, so `[]` (without `loc` or `iloc`) probably is positional?"
   ]
  },
  {
   "cell_type": "code",
   "execution_count": null,
   "metadata": {
    "ExecuteTime": {
     "end_time": "2024-11-22T18:46:36.963956Z",
     "start_time": "2019-11-22T08:48:23.822478Z"
    },
    "id": "U2oHLasiAqeT"
   },
   "outputs": [],
   "source": [
    "df[2:5]"
   ]
  },
  {
   "cell_type": "code",
   "execution_count": null,
   "metadata": {
    "ExecuteTime": {
     "end_time": "2024-11-22T18:46:36.964011Z",
     "start_time": "2019-11-22T08:49:05.310104Z"
    },
    "id": "Dwm3nP5NAqeT"
   },
   "outputs": [],
   "source": [
    "df['o'] # Nope, it doesn't work that way"
   ]
  },
  {
   "cell_type": "markdown",
   "metadata": {
    "id": "Oqt4smDSAqeT"
   },
   "source": [
    "But here's the thing: **the same** `[]` notation works differently if you're using column labels:"
   ]
  },
  {
   "cell_type": "code",
   "execution_count": null,
   "metadata": {
    "ExecuteTime": {
     "end_time": "2024-11-22T18:46:36.964061Z",
     "start_time": "2019-11-22T08:49:35.855448Z"
    },
    "id": "mGmLEXJJAqeT"
   },
   "outputs": [],
   "source": [
    "df['a']"
   ]
  },
  {
   "cell_type": "code",
   "execution_count": null,
   "metadata": {
    "id": "6beRL37SAqeT"
   },
   "outputs": [],
   "source": [
    "df"
   ]
  },
  {
   "cell_type": "markdown",
   "metadata": {
    "id": "Rt1_Q8qRAqeT"
   },
   "source": [
    "Note, that this one returns a dataframe:"
   ]
  },
  {
   "cell_type": "code",
   "execution_count": null,
   "metadata": {
    "ExecuteTime": {
     "end_time": "2024-11-22T18:46:36.964154Z",
     "start_time": "2019-11-22T08:49:51.817073Z"
    },
    "id": "LPitkuJvAqeT"
   },
   "outputs": [],
   "source": [
    "df[['b']]"
   ]
  },
  {
   "cell_type": "markdown",
   "metadata": {
    "id": "qaIF7JWVAqeU"
   },
   "source": [
    "... and this one returns `pd.Series`:"
   ]
  },
  {
   "cell_type": "code",
   "execution_count": null,
   "metadata": {
    "id": "IXk0s5hZAqeU"
   },
   "outputs": [],
   "source": [
    "df['b']"
   ]
  },
  {
   "cell_type": "code",
   "execution_count": null,
   "metadata": {
    "ExecuteTime": {
     "end_time": "2024-11-22T18:46:36.964247Z",
     "start_time": "2019-11-22T08:50:20.126476Z"
    },
    "id": "JyVW62m3AqeU"
   },
   "outputs": [],
   "source": [
    "df"
   ]
  },
  {
   "cell_type": "code",
   "execution_count": null,
   "metadata": {
    "ExecuteTime": {
     "end_time": "2024-11-22T18:46:36.964297Z",
     "start_time": "2019-11-22T08:50:20.858082Z"
    },
    "id": "CL887NCHAqeU"
   },
   "outputs": [],
   "source": [
    "df.columns"
   ]
  },
  {
   "cell_type": "code",
   "execution_count": null,
   "metadata": {},
   "outputs": [],
   "source": [
    "l = list(df.columns)\n",
    "l"
   ]
  },
  {
   "cell_type": "code",
   "execution_count": null,
   "metadata": {
    "id": "-qLg-H1HAqeU"
   },
   "outputs": [],
   "source": [
    "df.columns[2:]"
   ]
  },
  {
   "cell_type": "code",
   "execution_count": null,
   "metadata": {
    "ExecuteTime": {
     "end_time": "2024-11-22T18:46:36.964435Z",
     "start_time": "2019-11-22T08:50:46.765817Z"
    },
    "id": "Ff-tHZMFAqeU"
   },
   "outputs": [],
   "source": [
    "df[df.columns[2:]]"
   ]
  },
  {
   "cell_type": "code",
   "execution_count": null,
   "metadata": {
    "ExecuteTime": {
     "end_time": "2024-11-22T18:46:36.964491Z",
     "start_time": "2019-11-22T08:51:41.136839Z"
    },
    "id": "XxAGvf30AqeU"
   },
   "outputs": [],
   "source": [
    "df.iloc[:, 2:]"
   ]
  },
  {
   "cell_type": "code",
   "execution_count": null,
   "metadata": {
    "ExecuteTime": {
     "end_time": "2024-11-22T18:46:36.964545Z",
     "start_time": "2019-11-22T08:52:19.374679Z"
    },
    "id": "gyUDutaxAqeU"
   },
   "outputs": [],
   "source": [
    "df"
   ]
  },
  {
   "cell_type": "markdown",
   "metadata": {
    "id": "oVcNjewZAqeV"
   },
   "source": [
    "So, `[]` is positional. Is it?"
   ]
  },
  {
   "cell_type": "code",
   "execution_count": null,
   "metadata": {
    "ExecuteTime": {
     "end_time": "2024-11-22T18:46:36.964598Z",
     "start_time": "2019-11-22T08:53:18.730255Z"
    },
    "id": "6PtrxrXZAqeV"
   },
   "outputs": [],
   "source": [
    "df[:'g'] # Surprising!"
   ]
  },
  {
   "cell_type": "code",
   "execution_count": null,
   "metadata": {
    "ExecuteTime": {
     "end_time": "2024-11-22T18:46:36.964656Z",
     "start_time": "2019-11-22T08:55:40.237493Z"
    },
    "id": "oDJV1FYUAqeV"
   },
   "outputs": [],
   "source": [
    "df['a':'u'] # Not really surprising"
   ]
  },
  {
   "cell_type": "code",
   "execution_count": null,
   "metadata": {
    "ExecuteTime": {
     "end_time": "2024-11-22T18:46:36.964709Z",
     "start_time": "2019-11-22T08:55:28.433505Z"
    },
    "id": "PpcBmHo0AqeV"
   },
   "outputs": [],
   "source": [
    "df.sort_index()['a':'u']"
   ]
  },
  {
   "cell_type": "markdown",
   "metadata": {
    "id": "Oyg8_czgAqeV"
   },
   "source": [
    "But neither `a`, nor `u` are even in row index!"
   ]
  },
  {
   "cell_type": "code",
   "execution_count": null,
   "metadata": {
    "id": "3sG8UB0SAqeV"
   },
   "outputs": [],
   "source": [
    "df"
   ]
  },
  {
   "cell_type": "code",
   "execution_count": null,
   "metadata": {
    "ExecuteTime": {
     "end_time": "2024-11-22T18:46:36.964794Z",
     "start_time": "2019-11-22T08:56:32.881797Z"
    },
    "id": "ayILQyeTAqeV"
   },
   "outputs": [],
   "source": [
    "df['d':]"
   ]
  },
  {
   "cell_type": "code",
   "execution_count": null,
   "metadata": {},
   "outputs": [],
   "source": [
    "list(df.columns)['d':'b']"
   ]
  },
  {
   "cell_type": "code",
   "execution_count": null,
   "metadata": {
    "id": "9LkbCOPyAqeW"
   },
   "outputs": [],
   "source": [
    "df[\"x\":]"
   ]
  },
  {
   "cell_type": "markdown",
   "metadata": {
    "id": "FtyRKOPiAqeW"
   },
   "source": [
    "But:"
   ]
  },
  {
   "cell_type": "code",
   "execution_count": null,
   "metadata": {
    "ExecuteTime": {
     "end_time": "2024-11-22T18:46:36.964917Z",
     "start_time": "2019-11-22T08:56:36.466043Z"
    },
    "id": "W7LuoLz3AqeW"
   },
   "outputs": [],
   "source": [
    "df.sort_index()['e':]"
   ]
  },
  {
   "cell_type": "code",
   "execution_count": null,
   "metadata": {
    "ExecuteTime": {
     "end_time": "2024-11-22T18:46:36.964975Z",
     "start_time": "2019-11-22T08:58:20.838381Z"
    },
    "id": "NZ_jh0fyAqeW"
   },
   "outputs": [],
   "source": [
    "df"
   ]
  },
  {
   "cell_type": "code",
   "execution_count": null,
   "metadata": {
    "ExecuteTime": {
     "end_time": "2024-11-22T18:46:36.965033Z",
     "start_time": "2019-11-22T08:58:44.805843Z"
    },
    "id": "je3GHsNvAqeW"
   },
   "outputs": [],
   "source": [
    "df['k':'z'] # No, that won't work"
   ]
  },
  {
   "cell_type": "code",
   "execution_count": null,
   "metadata": {
    "ExecuteTime": {
     "end_time": "2024-11-22T18:46:36.965085Z",
     "start_time": "2019-11-22T08:59:25.436876Z"
    },
    "id": "M8UO8ZF3AqeX"
   },
   "outputs": [],
   "source": [
    "df.sort_index()['k':'zjyyf']"
   ]
  },
  {
   "cell_type": "markdown",
   "metadata": {
    "id": "QPCRaDUeAqeX"
   },
   "source": [
    "In reality, Pandas keeps track of ranking of index labels:"
   ]
  },
  {
   "cell_type": "code",
   "execution_count": null,
   "metadata": {
    "ExecuteTime": {
     "end_time": "2024-11-22T18:46:36.965131Z",
     "start_time": "2019-11-22T08:59:42.456295Z"
    },
    "id": "61XTWgZMAqeX"
   },
   "outputs": [],
   "source": [
    "df.index.to_series().rank()"
   ]
  },
  {
   "cell_type": "markdown",
   "metadata": {
    "id": "7Uw6dfoJAqeX"
   },
   "source": [
    "If index is monotonic, it allows for out-of-index indexing:"
   ]
  },
  {
   "cell_type": "code",
   "execution_count": null,
   "metadata": {
    "ExecuteTime": {
     "end_time": "2024-11-22T18:46:36.965181Z",
     "start_time": "2019-11-22T09:00:44.254239Z"
    },
    "id": "po5gvZEmAqeY"
   },
   "outputs": [],
   "source": [
    "df.sort_index().index.to_series().rank()"
   ]
  },
  {
   "cell_type": "code",
   "execution_count": null,
   "metadata": {
    "id": "DAldDaKMAqeY"
   },
   "outputs": [],
   "source": [
    "df.sort_index()['b':'m']  # Pandas can unambiguously set 'b' to be less than 'd' and 'm' to be between 'l' and 'o'"
   ]
  },
  {
   "cell_type": "code",
   "execution_count": null,
   "metadata": {
    "ExecuteTime": {
     "end_time": "2024-11-22T18:46:36.965264Z",
     "start_time": "2019-11-22T09:01:48.278322Z"
    },
    "id": "q-SdvMLpAqeY"
   },
   "outputs": [],
   "source": [
    "df"
   ]
  },
  {
   "cell_type": "code",
   "execution_count": null,
   "metadata": {
    "id": "7GJ_kdpmAqeY"
   },
   "outputs": [],
   "source": [
    "df.loc['o':'x', 'c'] = 5"
   ]
  },
  {
   "cell_type": "code",
   "execution_count": null,
   "metadata": {},
   "outputs": [],
   "source": [
    "df"
   ]
  },
  {
   "cell_type": "code",
   "execution_count": null,
   "metadata": {
    "ExecuteTime": {
     "end_time": "2024-11-22T18:46:36.965388Z",
     "start_time": "2019-11-22T09:02:00.316726Z"
    },
    "id": "SghuK7R_Aqed"
   },
   "outputs": [],
   "source": [
    "df_sub = df['o':'x']\n",
    "df_sub['c'] = 5 # Not a very good idea"
   ]
  },
  {
   "cell_type": "code",
   "execution_count": null,
   "metadata": {
    "ExecuteTime": {
     "end_time": "2024-11-22T18:46:36.965434Z",
     "start_time": "2019-11-22T09:02:40.903142Z"
    },
    "id": "vCmtSPCtAqee"
   },
   "outputs": [],
   "source": [
    "df[(df['a']>12) | (df['b']<3)]"
   ]
  },
  {
   "cell_type": "code",
   "execution_count": null,
   "metadata": {
    "ExecuteTime": {
     "end_time": "2024-11-22T18:46:36.965581Z",
     "start_time": "2019-11-22T09:03:24.772843Z"
    },
    "id": "Pqu8F_R6Aqee"
   },
   "outputs": [],
   "source": [
    "df"
   ]
  },
  {
   "cell_type": "markdown",
   "metadata": {
    "id": "rXH02x1cAqee"
   },
   "source": [
    "## Indexing with `.loc`\n",
    "\n",
    "General rule is (for readability and to exclude weird bugs):\n",
    "\n",
    "- use `[]` when accessing columns by label,\n",
    "- use `.loc` when accessing both rows and columns by label,\n",
    "- use `.iloc` for positional indexing."
   ]
  },
  {
   "cell_type": "code",
   "execution_count": null,
   "metadata": {
    "ExecuteTime": {
     "end_time": "2024-11-22T18:46:36.965765Z",
     "start_time": "2019-11-22T09:04:00.373083Z"
    },
    "id": "iTY3FwyGAqef"
   },
   "outputs": [],
   "source": [
    "df"
   ]
  },
  {
   "cell_type": "code",
   "execution_count": null,
   "metadata": {
    "ExecuteTime": {
     "end_time": "2024-11-22T18:46:36.965837Z",
     "start_time": "2019-11-22T09:04:19.021652Z"
    },
    "id": "OgGBwRaHAqei"
   },
   "outputs": [],
   "source": [
    "df.loc['o']"
   ]
  },
  {
   "cell_type": "code",
   "execution_count": null,
   "metadata": {
    "ExecuteTime": {
     "end_time": "2024-11-22T18:46:36.965896Z",
     "start_time": "2019-11-22T09:04:30.145622Z"
    },
    "id": "KrzJ0LJVAqek"
   },
   "outputs": [],
   "source": [
    "df.loc['o', 'b']"
   ]
  },
  {
   "cell_type": "code",
   "execution_count": null,
   "metadata": {
    "ExecuteTime": {
     "end_time": "2024-11-22T18:46:36.965951Z",
     "start_time": "2019-11-22T09:05:52.056477Z"
    },
    "id": "LOpE0Dg8Aqek"
   },
   "outputs": [],
   "source": [
    "df.loc['o':, 'b']"
   ]
  },
  {
   "cell_type": "code",
   "execution_count": null,
   "metadata": {
    "ExecuteTime": {
     "end_time": "2024-11-22T18:46:36.966003Z",
     "start_time": "2019-11-22T09:06:02.287952Z"
    },
    "id": "lxkXBhIVAqel"
   },
   "outputs": [],
   "source": [
    "df.loc['g':, 'b':]"
   ]
  },
  {
   "cell_type": "code",
   "execution_count": null,
   "metadata": {
    "ExecuteTime": {
     "end_time": "2024-11-22T18:46:36.966054Z",
     "start_time": "2019-11-22T09:06:19.388547Z"
    },
    "id": "5ZZoFF2YAqel"
   },
   "outputs": [],
   "source": [
    "df"
   ]
  },
  {
   "cell_type": "code",
   "execution_count": null,
   "metadata": {
    "ExecuteTime": {
     "end_time": "2024-11-22T18:46:36.966106Z",
     "start_time": "2019-11-22T09:07:25.531158Z"
    },
    "id": "j0ghcfojAqel"
   },
   "outputs": [],
   "source": [
    "df.loc['g':, 'c':'d'].shape"
   ]
  },
  {
   "cell_type": "code",
   "execution_count": null,
   "metadata": {},
   "outputs": [],
   "source": [
    "df.loc['g':, 'c':'d']"
   ]
  },
  {
   "cell_type": "code",
   "execution_count": null,
   "metadata": {
    "ExecuteTime": {
     "end_time": "2024-11-22T18:46:36.966207Z",
     "start_time": "2019-11-22T09:08:09.549513Z"
    },
    "id": "npGNuBmSAqel"
   },
   "outputs": [],
   "source": [
    "df"
   ]
  },
  {
   "cell_type": "markdown",
   "metadata": {
    "id": "-869tCqnAqem"
   },
   "source": [
    "Column index is still an index and works in a similar manner."
   ]
  },
  {
   "cell_type": "code",
   "execution_count": null,
   "metadata": {
    "ExecuteTime": {
     "end_time": "2024-11-22T18:46:36.966259Z",
     "start_time": "2019-11-22T09:08:10.605010Z"
    },
    "id": "mV3pu6waAqeo"
   },
   "outputs": [],
   "source": [
    "df.columns.to_series().rank()"
   ]
  },
  {
   "cell_type": "code",
   "execution_count": null,
   "metadata": {
    "ExecuteTime": {
     "end_time": "2024-11-22T18:46:36.966310Z",
     "start_time": "2019-11-22T09:10:09.699539Z"
    },
    "id": "SKRVrGCDAqeo"
   },
   "outputs": [],
   "source": [
    "df.loc['x':, 'a'::-2]"
   ]
  },
  {
   "cell_type": "code",
   "execution_count": null,
   "metadata": {
    "ExecuteTime": {
     "end_time": "2024-11-22T18:46:36.966361Z",
     "start_time": "2019-11-22T09:10:22.562860Z"
    },
    "id": "70_CbX3TAqep"
   },
   "outputs": [],
   "source": [
    "df.loc['x':, 'c':'d']"
   ]
  },
  {
   "cell_type": "code",
   "execution_count": null,
   "metadata": {
    "ExecuteTime": {
     "end_time": "2024-11-22T18:46:36.966413Z",
     "start_time": "2019-11-22T09:11:06.324828Z"
    },
    "id": "HflFCJodAqep"
   },
   "outputs": [],
   "source": [
    "df.sort_index(axis='columns').loc['x':, 'c':'d']"
   ]
  },
  {
   "cell_type": "code",
   "execution_count": null,
   "metadata": {
    "ExecuteTime": {
     "end_time": "2024-11-22T18:46:36.966465Z",
     "start_time": "2019-11-22T09:12:39.406933Z"
    },
    "id": "7SvBsCXPAqep"
   },
   "outputs": [],
   "source": [
    "df.loc[:, [\"a\", \"b\"]]"
   ]
  },
  {
   "cell_type": "markdown",
   "metadata": {
    "id": "5qMf4DPmAqep"
   },
   "source": [
    "`.loc` can contain a mask (Pandas will align it for you):"
   ]
  },
  {
   "cell_type": "code",
   "execution_count": null,
   "metadata": {
    "ExecuteTime": {
     "end_time": "2024-11-22T18:46:36.966536Z",
     "start_time": "2019-11-22T09:18:12.242779Z"
    },
    "id": "7sTSqVJqAqep"
   },
   "outputs": [],
   "source": [
    "df.loc[df['c']>10, 'c']"
   ]
  },
  {
   "cell_type": "code",
   "execution_count": null,
   "metadata": {
    "id": "EPN0MbAqAqeq"
   },
   "outputs": [],
   "source": [
    "df.loc[:, df.columns[2:]]"
   ]
  },
  {
   "cell_type": "code",
   "execution_count": null,
   "metadata": {
    "ExecuteTime": {
     "end_time": "2024-11-22T18:46:36.966604Z",
     "start_time": "2019-11-22T09:18:40.928714Z"
    },
    "id": "m4pHC01PAqeq"
   },
   "outputs": [],
   "source": [
    "df.loc[[1,2], 'c'] # This won't work: .loc cannot use a mix of positional and label indexing"
   ]
  },
  {
   "cell_type": "markdown",
   "metadata": {
    "id": "Eo1UxUueAqeq"
   },
   "source": [
    "## `SettingWithCopyWarning`"
   ]
  },
  {
   "cell_type": "code",
   "execution_count": null,
   "metadata": {
    "ExecuteTime": {
     "end_time": "2024-11-22T18:46:36.966642Z",
     "start_time": "2019-11-22T09:26:00.120865Z"
    },
    "id": "cYqhBOaYAqeq"
   },
   "outputs": [],
   "source": [
    "df"
   ]
  },
  {
   "cell_type": "markdown",
   "metadata": {
    "id": "i4ABz9R_Aqeq"
   },
   "source": [
    "Each indexing operation generates either a copy, or a view to the dataframe and in contrast to NumPy Pandas provides no guarantee."
   ]
  },
  {
   "cell_type": "code",
   "metadata": {
    "id": "bhkzDsv4Aqer",
    "ExecuteTime": {
     "end_time": "2024-11-22T18:46:37.018526Z",
     "start_time": "2024-11-22T18:46:37.015730Z"
    }
   },
   "source": [
    "df.loc[df['a']>10, 'c']"
   ],
   "outputs": [
    {
     "data": {
      "text/plain": [
       "a    14\n",
       "h    18\n",
       "Name: c, dtype: int64"
      ]
     },
     "execution_count": 35,
     "metadata": {},
     "output_type": "execute_result"
    }
   ],
   "execution_count": 35
  },
  {
   "cell_type": "code",
   "metadata": {
    "id": "0Ao9hkeZAqer",
    "ExecuteTime": {
     "end_time": "2024-11-22T18:46:37.184488Z",
     "start_time": "2024-11-22T18:46:37.181368Z"
    }
   },
   "source": [
    "df.__setitem__?"
   ],
   "outputs": [],
   "execution_count": 36
  },
  {
   "cell_type": "markdown",
   "metadata": {
    "id": "nvtgGy1gAqer"
   },
   "source": [
    "An assignment like this works the same way as in NumPy and original dataframe is modified (under the hood it's just a call to `df.__setitem__`):"
   ]
  },
  {
   "cell_type": "code",
   "metadata": {
    "id": "UYLVOuAfAqes",
    "ExecuteTime": {
     "end_time": "2024-11-22T18:46:37.456335Z",
     "start_time": "2024-11-22T18:46:37.454227Z"
    }
   },
   "source": [
    "df.loc[df['a']>10, 'c'] = 10"
   ],
   "outputs": [],
   "execution_count": 37
  },
  {
   "cell_type": "code",
   "metadata": {
    "id": "CWMYOIprAqes",
    "ExecuteTime": {
     "end_time": "2024-11-22T18:46:37.552551Z",
     "start_time": "2024-11-22T18:46:37.549221Z"
    }
   },
   "source": [
    "df"
   ],
   "outputs": [
    {
     "data": {
      "text/plain": [
       "    a   b   c   d\n",
       "e   0   1   2   3\n",
       "d   4   5   6   7\n",
       "p   8   9  10  11\n",
       "a  12  13  10  15\n",
       "h  16  17  10  19"
      ],
      "text/html": [
       "<div>\n",
       "<style scoped>\n",
       "    .dataframe tbody tr th:only-of-type {\n",
       "        vertical-align: middle;\n",
       "    }\n",
       "\n",
       "    .dataframe tbody tr th {\n",
       "        vertical-align: top;\n",
       "    }\n",
       "\n",
       "    .dataframe thead th {\n",
       "        text-align: right;\n",
       "    }\n",
       "</style>\n",
       "<table border=\"1\" class=\"dataframe\">\n",
       "  <thead>\n",
       "    <tr style=\"text-align: right;\">\n",
       "      <th></th>\n",
       "      <th>a</th>\n",
       "      <th>b</th>\n",
       "      <th>c</th>\n",
       "      <th>d</th>\n",
       "    </tr>\n",
       "  </thead>\n",
       "  <tbody>\n",
       "    <tr>\n",
       "      <th>e</th>\n",
       "      <td>0</td>\n",
       "      <td>1</td>\n",
       "      <td>2</td>\n",
       "      <td>3</td>\n",
       "    </tr>\n",
       "    <tr>\n",
       "      <th>d</th>\n",
       "      <td>4</td>\n",
       "      <td>5</td>\n",
       "      <td>6</td>\n",
       "      <td>7</td>\n",
       "    </tr>\n",
       "    <tr>\n",
       "      <th>p</th>\n",
       "      <td>8</td>\n",
       "      <td>9</td>\n",
       "      <td>10</td>\n",
       "      <td>11</td>\n",
       "    </tr>\n",
       "    <tr>\n",
       "      <th>a</th>\n",
       "      <td>12</td>\n",
       "      <td>13</td>\n",
       "      <td>10</td>\n",
       "      <td>15</td>\n",
       "    </tr>\n",
       "    <tr>\n",
       "      <th>h</th>\n",
       "      <td>16</td>\n",
       "      <td>17</td>\n",
       "      <td>10</td>\n",
       "      <td>19</td>\n",
       "    </tr>\n",
       "  </tbody>\n",
       "</table>\n",
       "</div>"
      ]
     },
     "execution_count": 38,
     "metadata": {},
     "output_type": "execute_result"
    }
   ],
   "execution_count": 38
  },
  {
   "cell_type": "markdown",
   "metadata": {
    "id": "5hI0QUuqAqes"
   },
   "source": [
    "This one, however, contains two chained `__getitem__` calls:"
   ]
  },
  {
   "cell_type": "code",
   "metadata": {
    "id": "cvkX-Gg8Aqes",
    "ExecuteTime": {
     "end_time": "2024-11-22T18:46:37.653119Z",
     "start_time": "2024-11-22T18:46:37.650485Z"
    }
   },
   "source": [
    "df.loc[df['a']>10]['c']"
   ],
   "outputs": [
    {
     "data": {
      "text/plain": [
       "a    10\n",
       "h    10\n",
       "Name: c, dtype: int64"
      ]
     },
     "execution_count": 39,
     "metadata": {},
     "output_type": "execute_result"
    }
   ],
   "execution_count": 39
  },
  {
   "cell_type": "markdown",
   "metadata": {
    "id": "YtVd9VY5Aqes"
   },
   "source": [
    "The following assignment generates a warning (it's unknown if `df.loc[df['a']>10]` is a view or a copy):"
   ]
  },
  {
   "cell_type": "code",
   "metadata": {
    "id": "DbD7__k8Aqet",
    "ExecuteTime": {
     "end_time": "2024-11-22T18:46:37.762219Z",
     "start_time": "2024-11-22T18:46:37.759906Z"
    }
   },
   "source": [
    "df.loc[df['a']>10]['c'] = 20."
   ],
   "outputs": [
    {
     "name": "stderr",
     "output_type": "stream",
     "text": [
      "/var/folders/_1/qxsdsmpx3xv0fs_z206_0qt80000gn/T/ipykernel_14953/2579970520.py:1: SettingWithCopyWarning: \n",
      "A value is trying to be set on a copy of a slice from a DataFrame.\n",
      "Try using .loc[row_indexer,col_indexer] = value instead\n",
      "\n",
      "See the caveats in the documentation: https://pandas.pydata.org/pandas-docs/stable/user_guide/indexing.html#returning-a-view-versus-a-copy\n",
      "  df.loc[df['a']>10]['c'] = 20.\n"
     ]
    }
   ],
   "execution_count": 40
  },
  {
   "cell_type": "code",
   "metadata": {
    "id": "9_YTPFNtAqet",
    "ExecuteTime": {
     "end_time": "2024-11-22T18:46:37.881693Z",
     "start_time": "2024-11-22T18:46:37.878664Z"
    }
   },
   "source": [
    "df"
   ],
   "outputs": [
    {
     "data": {
      "text/plain": [
       "    a   b   c   d\n",
       "e   0   1   2   3\n",
       "d   4   5   6   7\n",
       "p   8   9  10  11\n",
       "a  12  13  10  15\n",
       "h  16  17  10  19"
      ],
      "text/html": [
       "<div>\n",
       "<style scoped>\n",
       "    .dataframe tbody tr th:only-of-type {\n",
       "        vertical-align: middle;\n",
       "    }\n",
       "\n",
       "    .dataframe tbody tr th {\n",
       "        vertical-align: top;\n",
       "    }\n",
       "\n",
       "    .dataframe thead th {\n",
       "        text-align: right;\n",
       "    }\n",
       "</style>\n",
       "<table border=\"1\" class=\"dataframe\">\n",
       "  <thead>\n",
       "    <tr style=\"text-align: right;\">\n",
       "      <th></th>\n",
       "      <th>a</th>\n",
       "      <th>b</th>\n",
       "      <th>c</th>\n",
       "      <th>d</th>\n",
       "    </tr>\n",
       "  </thead>\n",
       "  <tbody>\n",
       "    <tr>\n",
       "      <th>e</th>\n",
       "      <td>0</td>\n",
       "      <td>1</td>\n",
       "      <td>2</td>\n",
       "      <td>3</td>\n",
       "    </tr>\n",
       "    <tr>\n",
       "      <th>d</th>\n",
       "      <td>4</td>\n",
       "      <td>5</td>\n",
       "      <td>6</td>\n",
       "      <td>7</td>\n",
       "    </tr>\n",
       "    <tr>\n",
       "      <th>p</th>\n",
       "      <td>8</td>\n",
       "      <td>9</td>\n",
       "      <td>10</td>\n",
       "      <td>11</td>\n",
       "    </tr>\n",
       "    <tr>\n",
       "      <th>a</th>\n",
       "      <td>12</td>\n",
       "      <td>13</td>\n",
       "      <td>10</td>\n",
       "      <td>15</td>\n",
       "    </tr>\n",
       "    <tr>\n",
       "      <th>h</th>\n",
       "      <td>16</td>\n",
       "      <td>17</td>\n",
       "      <td>10</td>\n",
       "      <td>19</td>\n",
       "    </tr>\n",
       "  </tbody>\n",
       "</table>\n",
       "</div>"
      ]
     },
     "execution_count": 41,
     "metadata": {},
     "output_type": "execute_result"
    }
   ],
   "execution_count": 41
  },
  {
   "cell_type": "markdown",
   "metadata": {
    "id": "4FXsl23gAqet"
   },
   "source": [
    "Let's decompose it:"
   ]
  },
  {
   "cell_type": "code",
   "metadata": {
    "id": "Q7SZpCBJAqet",
    "ExecuteTime": {
     "end_time": "2024-11-22T18:46:37.987921Z",
     "start_time": "2024-11-22T18:46:37.985746Z"
    }
   },
   "source": [
    "df_1 = df.loc[df['a']>10]"
   ],
   "outputs": [],
   "execution_count": 42
  },
  {
   "cell_type": "code",
   "metadata": {
    "id": "-Fo-I3D5Aqet",
    "ExecuteTime": {
     "end_time": "2024-11-22T18:46:38.070232Z",
     "start_time": "2024-11-22T18:46:38.067267Z"
    }
   },
   "source": [
    "df_1"
   ],
   "outputs": [
    {
     "data": {
      "text/plain": [
       "    a   b   c   d\n",
       "a  12  13  10  15\n",
       "h  16  17  10  19"
      ],
      "text/html": [
       "<div>\n",
       "<style scoped>\n",
       "    .dataframe tbody tr th:only-of-type {\n",
       "        vertical-align: middle;\n",
       "    }\n",
       "\n",
       "    .dataframe tbody tr th {\n",
       "        vertical-align: top;\n",
       "    }\n",
       "\n",
       "    .dataframe thead th {\n",
       "        text-align: right;\n",
       "    }\n",
       "</style>\n",
       "<table border=\"1\" class=\"dataframe\">\n",
       "  <thead>\n",
       "    <tr style=\"text-align: right;\">\n",
       "      <th></th>\n",
       "      <th>a</th>\n",
       "      <th>b</th>\n",
       "      <th>c</th>\n",
       "      <th>d</th>\n",
       "    </tr>\n",
       "  </thead>\n",
       "  <tbody>\n",
       "    <tr>\n",
       "      <th>a</th>\n",
       "      <td>12</td>\n",
       "      <td>13</td>\n",
       "      <td>10</td>\n",
       "      <td>15</td>\n",
       "    </tr>\n",
       "    <tr>\n",
       "      <th>h</th>\n",
       "      <td>16</td>\n",
       "      <td>17</td>\n",
       "      <td>10</td>\n",
       "      <td>19</td>\n",
       "    </tr>\n",
       "  </tbody>\n",
       "</table>\n",
       "</div>"
      ]
     },
     "execution_count": 43,
     "metadata": {},
     "output_type": "execute_result"
    }
   ],
   "execution_count": 43
  },
  {
   "cell_type": "code",
   "metadata": {
    "id": "zANPGbxBAqet",
    "ExecuteTime": {
     "end_time": "2024-11-22T18:46:38.163135Z",
     "start_time": "2024-11-22T18:46:38.161119Z"
    }
   },
   "source": [
    "df_1['c'] = 25"
   ],
   "outputs": [
    {
     "name": "stderr",
     "output_type": "stream",
     "text": [
      "/var/folders/_1/qxsdsmpx3xv0fs_z206_0qt80000gn/T/ipykernel_14953/1159572811.py:1: SettingWithCopyWarning: \n",
      "A value is trying to be set on a copy of a slice from a DataFrame.\n",
      "Try using .loc[row_indexer,col_indexer] = value instead\n",
      "\n",
      "See the caveats in the documentation: https://pandas.pydata.org/pandas-docs/stable/user_guide/indexing.html#returning-a-view-versus-a-copy\n",
      "  df_1['c'] = 25\n"
     ]
    }
   ],
   "execution_count": 44
  },
  {
   "cell_type": "code",
   "metadata": {
    "id": "9b3uLNOmAqeu",
    "ExecuteTime": {
     "end_time": "2024-11-22T18:46:38.285301Z",
     "start_time": "2024-11-22T18:46:38.282345Z"
    }
   },
   "source": [
    "df_1"
   ],
   "outputs": [
    {
     "data": {
      "text/plain": [
       "    a   b   c   d\n",
       "a  12  13  25  15\n",
       "h  16  17  25  19"
      ],
      "text/html": [
       "<div>\n",
       "<style scoped>\n",
       "    .dataframe tbody tr th:only-of-type {\n",
       "        vertical-align: middle;\n",
       "    }\n",
       "\n",
       "    .dataframe tbody tr th {\n",
       "        vertical-align: top;\n",
       "    }\n",
       "\n",
       "    .dataframe thead th {\n",
       "        text-align: right;\n",
       "    }\n",
       "</style>\n",
       "<table border=\"1\" class=\"dataframe\">\n",
       "  <thead>\n",
       "    <tr style=\"text-align: right;\">\n",
       "      <th></th>\n",
       "      <th>a</th>\n",
       "      <th>b</th>\n",
       "      <th>c</th>\n",
       "      <th>d</th>\n",
       "    </tr>\n",
       "  </thead>\n",
       "  <tbody>\n",
       "    <tr>\n",
       "      <th>a</th>\n",
       "      <td>12</td>\n",
       "      <td>13</td>\n",
       "      <td>25</td>\n",
       "      <td>15</td>\n",
       "    </tr>\n",
       "    <tr>\n",
       "      <th>h</th>\n",
       "      <td>16</td>\n",
       "      <td>17</td>\n",
       "      <td>25</td>\n",
       "      <td>19</td>\n",
       "    </tr>\n",
       "  </tbody>\n",
       "</table>\n",
       "</div>"
      ]
     },
     "execution_count": 45,
     "metadata": {},
     "output_type": "execute_result"
    }
   ],
   "execution_count": 45
  },
  {
   "cell_type": "code",
   "metadata": {
    "id": "NqSjTAbVAqeu",
    "ExecuteTime": {
     "end_time": "2024-11-22T18:46:38.398735Z",
     "start_time": "2024-11-22T18:46:38.395334Z"
    }
   },
   "source": [
    "df"
   ],
   "outputs": [
    {
     "data": {
      "text/plain": [
       "    a   b   c   d\n",
       "e   0   1   2   3\n",
       "d   4   5   6   7\n",
       "p   8   9  10  11\n",
       "a  12  13  10  15\n",
       "h  16  17  10  19"
      ],
      "text/html": [
       "<div>\n",
       "<style scoped>\n",
       "    .dataframe tbody tr th:only-of-type {\n",
       "        vertical-align: middle;\n",
       "    }\n",
       "\n",
       "    .dataframe tbody tr th {\n",
       "        vertical-align: top;\n",
       "    }\n",
       "\n",
       "    .dataframe thead th {\n",
       "        text-align: right;\n",
       "    }\n",
       "</style>\n",
       "<table border=\"1\" class=\"dataframe\">\n",
       "  <thead>\n",
       "    <tr style=\"text-align: right;\">\n",
       "      <th></th>\n",
       "      <th>a</th>\n",
       "      <th>b</th>\n",
       "      <th>c</th>\n",
       "      <th>d</th>\n",
       "    </tr>\n",
       "  </thead>\n",
       "  <tbody>\n",
       "    <tr>\n",
       "      <th>e</th>\n",
       "      <td>0</td>\n",
       "      <td>1</td>\n",
       "      <td>2</td>\n",
       "      <td>3</td>\n",
       "    </tr>\n",
       "    <tr>\n",
       "      <th>d</th>\n",
       "      <td>4</td>\n",
       "      <td>5</td>\n",
       "      <td>6</td>\n",
       "      <td>7</td>\n",
       "    </tr>\n",
       "    <tr>\n",
       "      <th>p</th>\n",
       "      <td>8</td>\n",
       "      <td>9</td>\n",
       "      <td>10</td>\n",
       "      <td>11</td>\n",
       "    </tr>\n",
       "    <tr>\n",
       "      <th>a</th>\n",
       "      <td>12</td>\n",
       "      <td>13</td>\n",
       "      <td>10</td>\n",
       "      <td>15</td>\n",
       "    </tr>\n",
       "    <tr>\n",
       "      <th>h</th>\n",
       "      <td>16</td>\n",
       "      <td>17</td>\n",
       "      <td>10</td>\n",
       "      <td>19</td>\n",
       "    </tr>\n",
       "  </tbody>\n",
       "</table>\n",
       "</div>"
      ]
     },
     "execution_count": 46,
     "metadata": {},
     "output_type": "execute_result"
    }
   ],
   "execution_count": 46
  },
  {
   "cell_type": "markdown",
   "metadata": {
    "id": "XoQjBaT_Aqeu"
   },
   "source": [
    "# Dataframe arithmetic"
   ]
  },
  {
   "cell_type": "code",
   "metadata": {
    "id": "acdTN_5QAqeu",
    "ExecuteTime": {
     "end_time": "2024-11-22T18:46:38.489274Z",
     "start_time": "2024-11-22T18:46:38.485849Z"
    }
   },
   "source": [
    "df_1 = pd.DataFrame(np.arange(40).reshape(10,4),\n",
    "                    columns=['a', 'b', 'c', 'd'],\n",
    "                    index=np.random.choice(list(string.ascii_lowercase), 10, replace=False))\n",
    "df_1"
   ],
   "outputs": [
    {
     "data": {
      "text/plain": [
       "    a   b   c   d\n",
       "o   0   1   2   3\n",
       "h   4   5   6   7\n",
       "e   8   9  10  11\n",
       "a  12  13  14  15\n",
       "j  16  17  18  19\n",
       "s  20  21  22  23\n",
       "f  24  25  26  27\n",
       "b  28  29  30  31\n",
       "r  32  33  34  35\n",
       "w  36  37  38  39"
      ],
      "text/html": [
       "<div>\n",
       "<style scoped>\n",
       "    .dataframe tbody tr th:only-of-type {\n",
       "        vertical-align: middle;\n",
       "    }\n",
       "\n",
       "    .dataframe tbody tr th {\n",
       "        vertical-align: top;\n",
       "    }\n",
       "\n",
       "    .dataframe thead th {\n",
       "        text-align: right;\n",
       "    }\n",
       "</style>\n",
       "<table border=\"1\" class=\"dataframe\">\n",
       "  <thead>\n",
       "    <tr style=\"text-align: right;\">\n",
       "      <th></th>\n",
       "      <th>a</th>\n",
       "      <th>b</th>\n",
       "      <th>c</th>\n",
       "      <th>d</th>\n",
       "    </tr>\n",
       "  </thead>\n",
       "  <tbody>\n",
       "    <tr>\n",
       "      <th>o</th>\n",
       "      <td>0</td>\n",
       "      <td>1</td>\n",
       "      <td>2</td>\n",
       "      <td>3</td>\n",
       "    </tr>\n",
       "    <tr>\n",
       "      <th>h</th>\n",
       "      <td>4</td>\n",
       "      <td>5</td>\n",
       "      <td>6</td>\n",
       "      <td>7</td>\n",
       "    </tr>\n",
       "    <tr>\n",
       "      <th>e</th>\n",
       "      <td>8</td>\n",
       "      <td>9</td>\n",
       "      <td>10</td>\n",
       "      <td>11</td>\n",
       "    </tr>\n",
       "    <tr>\n",
       "      <th>a</th>\n",
       "      <td>12</td>\n",
       "      <td>13</td>\n",
       "      <td>14</td>\n",
       "      <td>15</td>\n",
       "    </tr>\n",
       "    <tr>\n",
       "      <th>j</th>\n",
       "      <td>16</td>\n",
       "      <td>17</td>\n",
       "      <td>18</td>\n",
       "      <td>19</td>\n",
       "    </tr>\n",
       "    <tr>\n",
       "      <th>s</th>\n",
       "      <td>20</td>\n",
       "      <td>21</td>\n",
       "      <td>22</td>\n",
       "      <td>23</td>\n",
       "    </tr>\n",
       "    <tr>\n",
       "      <th>f</th>\n",
       "      <td>24</td>\n",
       "      <td>25</td>\n",
       "      <td>26</td>\n",
       "      <td>27</td>\n",
       "    </tr>\n",
       "    <tr>\n",
       "      <th>b</th>\n",
       "      <td>28</td>\n",
       "      <td>29</td>\n",
       "      <td>30</td>\n",
       "      <td>31</td>\n",
       "    </tr>\n",
       "    <tr>\n",
       "      <th>r</th>\n",
       "      <td>32</td>\n",
       "      <td>33</td>\n",
       "      <td>34</td>\n",
       "      <td>35</td>\n",
       "    </tr>\n",
       "    <tr>\n",
       "      <th>w</th>\n",
       "      <td>36</td>\n",
       "      <td>37</td>\n",
       "      <td>38</td>\n",
       "      <td>39</td>\n",
       "    </tr>\n",
       "  </tbody>\n",
       "</table>\n",
       "</div>"
      ]
     },
     "execution_count": 47,
     "metadata": {},
     "output_type": "execute_result"
    }
   ],
   "execution_count": 47
  },
  {
   "cell_type": "code",
   "metadata": {
    "id": "EwA8evs4Aqeu",
    "ExecuteTime": {
     "end_time": "2024-11-22T18:46:38.633209Z",
     "start_time": "2024-11-22T18:46:38.629592Z"
    }
   },
   "source": [
    "df_2 = pd.DataFrame(np.arange(40).reshape(10,4),\n",
    "                    columns=['a', 'e', 'c', 'd'],\n",
    "                    index=np.random.choice(list(string.ascii_lowercase), 10, replace=False))\n",
    "df_2"
   ],
   "outputs": [
    {
     "data": {
      "text/plain": [
       "    a   e   c   d\n",
       "s   0   1   2   3\n",
       "m   4   5   6   7\n",
       "u   8   9  10  11\n",
       "t  12  13  14  15\n",
       "f  16  17  18  19\n",
       "v  20  21  22  23\n",
       "q  24  25  26  27\n",
       "b  28  29  30  31\n",
       "k  32  33  34  35\n",
       "y  36  37  38  39"
      ],
      "text/html": [
       "<div>\n",
       "<style scoped>\n",
       "    .dataframe tbody tr th:only-of-type {\n",
       "        vertical-align: middle;\n",
       "    }\n",
       "\n",
       "    .dataframe tbody tr th {\n",
       "        vertical-align: top;\n",
       "    }\n",
       "\n",
       "    .dataframe thead th {\n",
       "        text-align: right;\n",
       "    }\n",
       "</style>\n",
       "<table border=\"1\" class=\"dataframe\">\n",
       "  <thead>\n",
       "    <tr style=\"text-align: right;\">\n",
       "      <th></th>\n",
       "      <th>a</th>\n",
       "      <th>e</th>\n",
       "      <th>c</th>\n",
       "      <th>d</th>\n",
       "    </tr>\n",
       "  </thead>\n",
       "  <tbody>\n",
       "    <tr>\n",
       "      <th>s</th>\n",
       "      <td>0</td>\n",
       "      <td>1</td>\n",
       "      <td>2</td>\n",
       "      <td>3</td>\n",
       "    </tr>\n",
       "    <tr>\n",
       "      <th>m</th>\n",
       "      <td>4</td>\n",
       "      <td>5</td>\n",
       "      <td>6</td>\n",
       "      <td>7</td>\n",
       "    </tr>\n",
       "    <tr>\n",
       "      <th>u</th>\n",
       "      <td>8</td>\n",
       "      <td>9</td>\n",
       "      <td>10</td>\n",
       "      <td>11</td>\n",
       "    </tr>\n",
       "    <tr>\n",
       "      <th>t</th>\n",
       "      <td>12</td>\n",
       "      <td>13</td>\n",
       "      <td>14</td>\n",
       "      <td>15</td>\n",
       "    </tr>\n",
       "    <tr>\n",
       "      <th>f</th>\n",
       "      <td>16</td>\n",
       "      <td>17</td>\n",
       "      <td>18</td>\n",
       "      <td>19</td>\n",
       "    </tr>\n",
       "    <tr>\n",
       "      <th>v</th>\n",
       "      <td>20</td>\n",
       "      <td>21</td>\n",
       "      <td>22</td>\n",
       "      <td>23</td>\n",
       "    </tr>\n",
       "    <tr>\n",
       "      <th>q</th>\n",
       "      <td>24</td>\n",
       "      <td>25</td>\n",
       "      <td>26</td>\n",
       "      <td>27</td>\n",
       "    </tr>\n",
       "    <tr>\n",
       "      <th>b</th>\n",
       "      <td>28</td>\n",
       "      <td>29</td>\n",
       "      <td>30</td>\n",
       "      <td>31</td>\n",
       "    </tr>\n",
       "    <tr>\n",
       "      <th>k</th>\n",
       "      <td>32</td>\n",
       "      <td>33</td>\n",
       "      <td>34</td>\n",
       "      <td>35</td>\n",
       "    </tr>\n",
       "    <tr>\n",
       "      <th>y</th>\n",
       "      <td>36</td>\n",
       "      <td>37</td>\n",
       "      <td>38</td>\n",
       "      <td>39</td>\n",
       "    </tr>\n",
       "  </tbody>\n",
       "</table>\n",
       "</div>"
      ]
     },
     "execution_count": 48,
     "metadata": {},
     "output_type": "execute_result"
    }
   ],
   "execution_count": 48
  },
  {
   "cell_type": "code",
   "metadata": {
    "id": "-IWabShlAqeu",
    "ExecuteTime": {
     "end_time": "2024-11-22T18:46:38.766144Z",
     "start_time": "2024-11-22T18:46:38.759237Z"
    }
   },
   "source": [
    "# A lot of missing values\n",
    "df_1 + df_2"
   ],
   "outputs": [
    {
     "data": {
      "text/plain": [
       "      a   b     c     d   e\n",
       "a   NaN NaN   NaN   NaN NaN\n",
       "b  56.0 NaN  60.0  62.0 NaN\n",
       "e   NaN NaN   NaN   NaN NaN\n",
       "f  40.0 NaN  44.0  46.0 NaN\n",
       "h   NaN NaN   NaN   NaN NaN\n",
       "j   NaN NaN   NaN   NaN NaN\n",
       "k   NaN NaN   NaN   NaN NaN\n",
       "m   NaN NaN   NaN   NaN NaN\n",
       "o   NaN NaN   NaN   NaN NaN\n",
       "q   NaN NaN   NaN   NaN NaN\n",
       "r   NaN NaN   NaN   NaN NaN\n",
       "s  20.0 NaN  24.0  26.0 NaN\n",
       "t   NaN NaN   NaN   NaN NaN\n",
       "u   NaN NaN   NaN   NaN NaN\n",
       "v   NaN NaN   NaN   NaN NaN\n",
       "w   NaN NaN   NaN   NaN NaN\n",
       "y   NaN NaN   NaN   NaN NaN"
      ],
      "text/html": [
       "<div>\n",
       "<style scoped>\n",
       "    .dataframe tbody tr th:only-of-type {\n",
       "        vertical-align: middle;\n",
       "    }\n",
       "\n",
       "    .dataframe tbody tr th {\n",
       "        vertical-align: top;\n",
       "    }\n",
       "\n",
       "    .dataframe thead th {\n",
       "        text-align: right;\n",
       "    }\n",
       "</style>\n",
       "<table border=\"1\" class=\"dataframe\">\n",
       "  <thead>\n",
       "    <tr style=\"text-align: right;\">\n",
       "      <th></th>\n",
       "      <th>a</th>\n",
       "      <th>b</th>\n",
       "      <th>c</th>\n",
       "      <th>d</th>\n",
       "      <th>e</th>\n",
       "    </tr>\n",
       "  </thead>\n",
       "  <tbody>\n",
       "    <tr>\n",
       "      <th>a</th>\n",
       "      <td>NaN</td>\n",
       "      <td>NaN</td>\n",
       "      <td>NaN</td>\n",
       "      <td>NaN</td>\n",
       "      <td>NaN</td>\n",
       "    </tr>\n",
       "    <tr>\n",
       "      <th>b</th>\n",
       "      <td>56.0</td>\n",
       "      <td>NaN</td>\n",
       "      <td>60.0</td>\n",
       "      <td>62.0</td>\n",
       "      <td>NaN</td>\n",
       "    </tr>\n",
       "    <tr>\n",
       "      <th>e</th>\n",
       "      <td>NaN</td>\n",
       "      <td>NaN</td>\n",
       "      <td>NaN</td>\n",
       "      <td>NaN</td>\n",
       "      <td>NaN</td>\n",
       "    </tr>\n",
       "    <tr>\n",
       "      <th>f</th>\n",
       "      <td>40.0</td>\n",
       "      <td>NaN</td>\n",
       "      <td>44.0</td>\n",
       "      <td>46.0</td>\n",
       "      <td>NaN</td>\n",
       "    </tr>\n",
       "    <tr>\n",
       "      <th>h</th>\n",
       "      <td>NaN</td>\n",
       "      <td>NaN</td>\n",
       "      <td>NaN</td>\n",
       "      <td>NaN</td>\n",
       "      <td>NaN</td>\n",
       "    </tr>\n",
       "    <tr>\n",
       "      <th>j</th>\n",
       "      <td>NaN</td>\n",
       "      <td>NaN</td>\n",
       "      <td>NaN</td>\n",
       "      <td>NaN</td>\n",
       "      <td>NaN</td>\n",
       "    </tr>\n",
       "    <tr>\n",
       "      <th>k</th>\n",
       "      <td>NaN</td>\n",
       "      <td>NaN</td>\n",
       "      <td>NaN</td>\n",
       "      <td>NaN</td>\n",
       "      <td>NaN</td>\n",
       "    </tr>\n",
       "    <tr>\n",
       "      <th>m</th>\n",
       "      <td>NaN</td>\n",
       "      <td>NaN</td>\n",
       "      <td>NaN</td>\n",
       "      <td>NaN</td>\n",
       "      <td>NaN</td>\n",
       "    </tr>\n",
       "    <tr>\n",
       "      <th>o</th>\n",
       "      <td>NaN</td>\n",
       "      <td>NaN</td>\n",
       "      <td>NaN</td>\n",
       "      <td>NaN</td>\n",
       "      <td>NaN</td>\n",
       "    </tr>\n",
       "    <tr>\n",
       "      <th>q</th>\n",
       "      <td>NaN</td>\n",
       "      <td>NaN</td>\n",
       "      <td>NaN</td>\n",
       "      <td>NaN</td>\n",
       "      <td>NaN</td>\n",
       "    </tr>\n",
       "    <tr>\n",
       "      <th>r</th>\n",
       "      <td>NaN</td>\n",
       "      <td>NaN</td>\n",
       "      <td>NaN</td>\n",
       "      <td>NaN</td>\n",
       "      <td>NaN</td>\n",
       "    </tr>\n",
       "    <tr>\n",
       "      <th>s</th>\n",
       "      <td>20.0</td>\n",
       "      <td>NaN</td>\n",
       "      <td>24.0</td>\n",
       "      <td>26.0</td>\n",
       "      <td>NaN</td>\n",
       "    </tr>\n",
       "    <tr>\n",
       "      <th>t</th>\n",
       "      <td>NaN</td>\n",
       "      <td>NaN</td>\n",
       "      <td>NaN</td>\n",
       "      <td>NaN</td>\n",
       "      <td>NaN</td>\n",
       "    </tr>\n",
       "    <tr>\n",
       "      <th>u</th>\n",
       "      <td>NaN</td>\n",
       "      <td>NaN</td>\n",
       "      <td>NaN</td>\n",
       "      <td>NaN</td>\n",
       "      <td>NaN</td>\n",
       "    </tr>\n",
       "    <tr>\n",
       "      <th>v</th>\n",
       "      <td>NaN</td>\n",
       "      <td>NaN</td>\n",
       "      <td>NaN</td>\n",
       "      <td>NaN</td>\n",
       "      <td>NaN</td>\n",
       "    </tr>\n",
       "    <tr>\n",
       "      <th>w</th>\n",
       "      <td>NaN</td>\n",
       "      <td>NaN</td>\n",
       "      <td>NaN</td>\n",
       "      <td>NaN</td>\n",
       "      <td>NaN</td>\n",
       "    </tr>\n",
       "    <tr>\n",
       "      <th>y</th>\n",
       "      <td>NaN</td>\n",
       "      <td>NaN</td>\n",
       "      <td>NaN</td>\n",
       "      <td>NaN</td>\n",
       "      <td>NaN</td>\n",
       "    </tr>\n",
       "  </tbody>\n",
       "</table>\n",
       "</div>"
      ]
     },
     "execution_count": 49,
     "metadata": {},
     "output_type": "execute_result"
    }
   ],
   "execution_count": 49
  },
  {
   "cell_type": "markdown",
   "metadata": {
    "id": "YG-HocYAAqev"
   },
   "source": [
    "We can provide a fill value for missing **operands**:"
   ]
  },
  {
   "cell_type": "code",
   "metadata": {
    "id": "HoHcujtxAqev",
    "ExecuteTime": {
     "end_time": "2024-11-22T18:46:38.911918Z",
     "start_time": "2024-11-22T18:46:38.905139Z"
    }
   },
   "source": [
    "df_1.add(df_2, fill_value=0)"
   ],
   "outputs": [
    {
     "data": {
      "text/plain": [
       "      a     b     c     d     e\n",
       "a  12.0  13.0  14.0  15.0   NaN\n",
       "b  56.0  29.0  60.0  62.0  29.0\n",
       "e   8.0   9.0  10.0  11.0   NaN\n",
       "f  40.0  25.0  44.0  46.0  17.0\n",
       "h   4.0   5.0   6.0   7.0   NaN\n",
       "j  16.0  17.0  18.0  19.0   NaN\n",
       "k  32.0   NaN  34.0  35.0  33.0\n",
       "m   4.0   NaN   6.0   7.0   5.0\n",
       "o   0.0   1.0   2.0   3.0   NaN\n",
       "q  24.0   NaN  26.0  27.0  25.0\n",
       "r  32.0  33.0  34.0  35.0   NaN\n",
       "s  20.0  21.0  24.0  26.0   1.0\n",
       "t  12.0   NaN  14.0  15.0  13.0\n",
       "u   8.0   NaN  10.0  11.0   9.0\n",
       "v  20.0   NaN  22.0  23.0  21.0\n",
       "w  36.0  37.0  38.0  39.0   NaN\n",
       "y  36.0   NaN  38.0  39.0  37.0"
      ],
      "text/html": [
       "<div>\n",
       "<style scoped>\n",
       "    .dataframe tbody tr th:only-of-type {\n",
       "        vertical-align: middle;\n",
       "    }\n",
       "\n",
       "    .dataframe tbody tr th {\n",
       "        vertical-align: top;\n",
       "    }\n",
       "\n",
       "    .dataframe thead th {\n",
       "        text-align: right;\n",
       "    }\n",
       "</style>\n",
       "<table border=\"1\" class=\"dataframe\">\n",
       "  <thead>\n",
       "    <tr style=\"text-align: right;\">\n",
       "      <th></th>\n",
       "      <th>a</th>\n",
       "      <th>b</th>\n",
       "      <th>c</th>\n",
       "      <th>d</th>\n",
       "      <th>e</th>\n",
       "    </tr>\n",
       "  </thead>\n",
       "  <tbody>\n",
       "    <tr>\n",
       "      <th>a</th>\n",
       "      <td>12.0</td>\n",
       "      <td>13.0</td>\n",
       "      <td>14.0</td>\n",
       "      <td>15.0</td>\n",
       "      <td>NaN</td>\n",
       "    </tr>\n",
       "    <tr>\n",
       "      <th>b</th>\n",
       "      <td>56.0</td>\n",
       "      <td>29.0</td>\n",
       "      <td>60.0</td>\n",
       "      <td>62.0</td>\n",
       "      <td>29.0</td>\n",
       "    </tr>\n",
       "    <tr>\n",
       "      <th>e</th>\n",
       "      <td>8.0</td>\n",
       "      <td>9.0</td>\n",
       "      <td>10.0</td>\n",
       "      <td>11.0</td>\n",
       "      <td>NaN</td>\n",
       "    </tr>\n",
       "    <tr>\n",
       "      <th>f</th>\n",
       "      <td>40.0</td>\n",
       "      <td>25.0</td>\n",
       "      <td>44.0</td>\n",
       "      <td>46.0</td>\n",
       "      <td>17.0</td>\n",
       "    </tr>\n",
       "    <tr>\n",
       "      <th>h</th>\n",
       "      <td>4.0</td>\n",
       "      <td>5.0</td>\n",
       "      <td>6.0</td>\n",
       "      <td>7.0</td>\n",
       "      <td>NaN</td>\n",
       "    </tr>\n",
       "    <tr>\n",
       "      <th>j</th>\n",
       "      <td>16.0</td>\n",
       "      <td>17.0</td>\n",
       "      <td>18.0</td>\n",
       "      <td>19.0</td>\n",
       "      <td>NaN</td>\n",
       "    </tr>\n",
       "    <tr>\n",
       "      <th>k</th>\n",
       "      <td>32.0</td>\n",
       "      <td>NaN</td>\n",
       "      <td>34.0</td>\n",
       "      <td>35.0</td>\n",
       "      <td>33.0</td>\n",
       "    </tr>\n",
       "    <tr>\n",
       "      <th>m</th>\n",
       "      <td>4.0</td>\n",
       "      <td>NaN</td>\n",
       "      <td>6.0</td>\n",
       "      <td>7.0</td>\n",
       "      <td>5.0</td>\n",
       "    </tr>\n",
       "    <tr>\n",
       "      <th>o</th>\n",
       "      <td>0.0</td>\n",
       "      <td>1.0</td>\n",
       "      <td>2.0</td>\n",
       "      <td>3.0</td>\n",
       "      <td>NaN</td>\n",
       "    </tr>\n",
       "    <tr>\n",
       "      <th>q</th>\n",
       "      <td>24.0</td>\n",
       "      <td>NaN</td>\n",
       "      <td>26.0</td>\n",
       "      <td>27.0</td>\n",
       "      <td>25.0</td>\n",
       "    </tr>\n",
       "    <tr>\n",
       "      <th>r</th>\n",
       "      <td>32.0</td>\n",
       "      <td>33.0</td>\n",
       "      <td>34.0</td>\n",
       "      <td>35.0</td>\n",
       "      <td>NaN</td>\n",
       "    </tr>\n",
       "    <tr>\n",
       "      <th>s</th>\n",
       "      <td>20.0</td>\n",
       "      <td>21.0</td>\n",
       "      <td>24.0</td>\n",
       "      <td>26.0</td>\n",
       "      <td>1.0</td>\n",
       "    </tr>\n",
       "    <tr>\n",
       "      <th>t</th>\n",
       "      <td>12.0</td>\n",
       "      <td>NaN</td>\n",
       "      <td>14.0</td>\n",
       "      <td>15.0</td>\n",
       "      <td>13.0</td>\n",
       "    </tr>\n",
       "    <tr>\n",
       "      <th>u</th>\n",
       "      <td>8.0</td>\n",
       "      <td>NaN</td>\n",
       "      <td>10.0</td>\n",
       "      <td>11.0</td>\n",
       "      <td>9.0</td>\n",
       "    </tr>\n",
       "    <tr>\n",
       "      <th>v</th>\n",
       "      <td>20.0</td>\n",
       "      <td>NaN</td>\n",
       "      <td>22.0</td>\n",
       "      <td>23.0</td>\n",
       "      <td>21.0</td>\n",
       "    </tr>\n",
       "    <tr>\n",
       "      <th>w</th>\n",
       "      <td>36.0</td>\n",
       "      <td>37.0</td>\n",
       "      <td>38.0</td>\n",
       "      <td>39.0</td>\n",
       "      <td>NaN</td>\n",
       "    </tr>\n",
       "    <tr>\n",
       "      <th>y</th>\n",
       "      <td>36.0</td>\n",
       "      <td>NaN</td>\n",
       "      <td>38.0</td>\n",
       "      <td>39.0</td>\n",
       "      <td>37.0</td>\n",
       "    </tr>\n",
       "  </tbody>\n",
       "</table>\n",
       "</div>"
      ]
     },
     "execution_count": 50,
     "metadata": {},
     "output_type": "execute_result"
    }
   ],
   "execution_count": 50
  },
  {
   "cell_type": "markdown",
   "metadata": {
    "id": "38rUz9hcAqev"
   },
   "source": [
    "Operations between dataframes and series are aligned along column by default:"
   ]
  },
  {
   "cell_type": "code",
   "metadata": {
    "id": "ojerIAewAqev",
    "ExecuteTime": {
     "end_time": "2024-11-22T18:46:39.046997Z",
     "start_time": "2024-11-22T18:46:39.044995Z"
    }
   },
   "source": [
    "s_1 = pd.Series(np.arange(10),\n",
    "                name='f',\n",
    "                index=np.random.choice(list(string.ascii_lowercase), 10, replace=False))"
   ],
   "outputs": [],
   "execution_count": 51
  },
  {
   "cell_type": "code",
   "metadata": {
    "id": "JjFZ5klQAqev",
    "ExecuteTime": {
     "end_time": "2024-11-22T18:46:39.257264Z",
     "start_time": "2024-11-22T18:46:39.253406Z"
    }
   },
   "source": [
    "s_1"
   ],
   "outputs": [
    {
     "data": {
      "text/plain": [
       "f    0\n",
       "t    1\n",
       "r    2\n",
       "g    3\n",
       "q    4\n",
       "e    5\n",
       "s    6\n",
       "n    7\n",
       "w    8\n",
       "l    9\n",
       "Name: f, dtype: int64"
      ]
     },
     "execution_count": 52,
     "metadata": {},
     "output_type": "execute_result"
    }
   ],
   "execution_count": 52
  },
  {
   "cell_type": "code",
   "metadata": {
    "id": "bt808vk1Aqev",
    "ExecuteTime": {
     "end_time": "2024-11-22T18:46:39.329739Z",
     "start_time": "2024-11-22T18:46:39.326217Z"
    }
   },
   "source": [
    "df_1"
   ],
   "outputs": [
    {
     "data": {
      "text/plain": [
       "    a   b   c   d\n",
       "o   0   1   2   3\n",
       "h   4   5   6   7\n",
       "e   8   9  10  11\n",
       "a  12  13  14  15\n",
       "j  16  17  18  19\n",
       "s  20  21  22  23\n",
       "f  24  25  26  27\n",
       "b  28  29  30  31\n",
       "r  32  33  34  35\n",
       "w  36  37  38  39"
      ],
      "text/html": [
       "<div>\n",
       "<style scoped>\n",
       "    .dataframe tbody tr th:only-of-type {\n",
       "        vertical-align: middle;\n",
       "    }\n",
       "\n",
       "    .dataframe tbody tr th {\n",
       "        vertical-align: top;\n",
       "    }\n",
       "\n",
       "    .dataframe thead th {\n",
       "        text-align: right;\n",
       "    }\n",
       "</style>\n",
       "<table border=\"1\" class=\"dataframe\">\n",
       "  <thead>\n",
       "    <tr style=\"text-align: right;\">\n",
       "      <th></th>\n",
       "      <th>a</th>\n",
       "      <th>b</th>\n",
       "      <th>c</th>\n",
       "      <th>d</th>\n",
       "    </tr>\n",
       "  </thead>\n",
       "  <tbody>\n",
       "    <tr>\n",
       "      <th>o</th>\n",
       "      <td>0</td>\n",
       "      <td>1</td>\n",
       "      <td>2</td>\n",
       "      <td>3</td>\n",
       "    </tr>\n",
       "    <tr>\n",
       "      <th>h</th>\n",
       "      <td>4</td>\n",
       "      <td>5</td>\n",
       "      <td>6</td>\n",
       "      <td>7</td>\n",
       "    </tr>\n",
       "    <tr>\n",
       "      <th>e</th>\n",
       "      <td>8</td>\n",
       "      <td>9</td>\n",
       "      <td>10</td>\n",
       "      <td>11</td>\n",
       "    </tr>\n",
       "    <tr>\n",
       "      <th>a</th>\n",
       "      <td>12</td>\n",
       "      <td>13</td>\n",
       "      <td>14</td>\n",
       "      <td>15</td>\n",
       "    </tr>\n",
       "    <tr>\n",
       "      <th>j</th>\n",
       "      <td>16</td>\n",
       "      <td>17</td>\n",
       "      <td>18</td>\n",
       "      <td>19</td>\n",
       "    </tr>\n",
       "    <tr>\n",
       "      <th>s</th>\n",
       "      <td>20</td>\n",
       "      <td>21</td>\n",
       "      <td>22</td>\n",
       "      <td>23</td>\n",
       "    </tr>\n",
       "    <tr>\n",
       "      <th>f</th>\n",
       "      <td>24</td>\n",
       "      <td>25</td>\n",
       "      <td>26</td>\n",
       "      <td>27</td>\n",
       "    </tr>\n",
       "    <tr>\n",
       "      <th>b</th>\n",
       "      <td>28</td>\n",
       "      <td>29</td>\n",
       "      <td>30</td>\n",
       "      <td>31</td>\n",
       "    </tr>\n",
       "    <tr>\n",
       "      <th>r</th>\n",
       "      <td>32</td>\n",
       "      <td>33</td>\n",
       "      <td>34</td>\n",
       "      <td>35</td>\n",
       "    </tr>\n",
       "    <tr>\n",
       "      <th>w</th>\n",
       "      <td>36</td>\n",
       "      <td>37</td>\n",
       "      <td>38</td>\n",
       "      <td>39</td>\n",
       "    </tr>\n",
       "  </tbody>\n",
       "</table>\n",
       "</div>"
      ]
     },
     "execution_count": 53,
     "metadata": {},
     "output_type": "execute_result"
    }
   ],
   "execution_count": 53
  },
  {
   "cell_type": "code",
   "execution_count": null,
   "metadata": {
    "ExecuteTime": {
     "end_time": "2019-11-22T09:44:11.142552Z",
     "start_time": "2019-11-22T09:44:11.043506Z"
    },
    "id": "BSFaI_zCAqew"
   },
   "outputs": [],
   "source": [
    "df_1 + s_1"
   ]
  },
  {
   "cell_type": "code",
   "execution_count": null,
   "metadata": {
    "ExecuteTime": {
     "end_time": "2019-11-22T09:54:08.783369Z",
     "start_time": "2019-11-22T09:54:08.709416Z"
    },
    "id": "csVm2LnqAqew"
   },
   "outputs": [],
   "source": [
    "s_1 + df_1"
   ]
  },
  {
   "cell_type": "markdown",
   "metadata": {
    "id": "Es3tyAr7Aqew"
   },
   "source": [
    "The default can be changed:"
   ]
  },
  {
   "cell_type": "code",
   "execution_count": null,
   "metadata": {
    "ExecuteTime": {
     "end_time": "2019-11-22T09:54:55.120735Z",
     "start_time": "2019-11-22T09:54:55.085559Z"
    },
    "id": "yohRJj8oAqew"
   },
   "outputs": [],
   "source": [
    "df_1.add(s_1, axis='index')"
   ]
  },
  {
   "cell_type": "markdown",
   "metadata": {
    "id": "H-kCi-Q3Aqew"
   },
   "source": [
    "Such an alignment (along columns) allows for many common operation to be written in a short form. For example, to normalize each row, we just do"
   ]
  },
  {
   "cell_type": "code",
   "execution_count": null,
   "metadata": {},
   "outputs": [],
   "source": [
    "df_1.mean()"
   ]
  },
  {
   "cell_type": "code",
   "execution_count": null,
   "metadata": {},
   "outputs": [],
   "source": [
    "df_1"
   ]
  },
  {
   "cell_type": "code",
   "execution_count": null,
   "metadata": {},
   "outputs": [],
   "source": [
    "df_1 - df_1.mean()"
   ]
  },
  {
   "cell_type": "code",
   "execution_count": null,
   "metadata": {
    "ExecuteTime": {
     "end_time": "2019-11-22T09:59:11.889372Z",
     "start_time": "2019-11-22T09:59:11.850245Z"
    },
    "id": "nEzx2pnZAqew"
   },
   "outputs": [],
   "source": [
    "(df_1 - df_1.mean()) / df_1.std()"
   ]
  },
  {
   "cell_type": "code",
   "execution_count": null,
   "metadata": {},
   "outputs": [],
   "source": [
    "# If df incldues both numeric and non-numeric columns, how to apply mathematical operations only on numeric ones?\n",
    "df_1.select_dtypes(include=np.number).mean()"
   ]
  },
  {
   "cell_type": "code",
   "execution_count": null,
   "metadata": {},
   "outputs": [],
   "source": [
    "df_1['newcol'] = 'kosta'\n",
    "df_1"
   ]
  },
  {
   "cell_type": "code",
   "execution_count": null,
   "metadata": {},
   "outputs": [],
   "source": [
    "df_1.mean()"
   ]
  },
  {
   "cell_type": "code",
   "execution_count": null,
   "metadata": {},
   "outputs": [],
   "source": [
    "# If df incldues both numeric and non-numeric columns, how to apply mathematical operations only on numeric ones?\n",
    "df_1.select_dtypes(include=np.number).mean()"
   ]
  },
  {
   "cell_type": "markdown",
   "metadata": {
    "id": "3zVIHJuuAqex"
   },
   "source": [
    "# Applying functions to dataframes"
   ]
  },
  {
   "cell_type": "code",
   "execution_count": null,
   "metadata": {
    "ExecuteTime": {
     "end_time": "2019-11-22T10:15:00.470279Z",
     "start_time": "2019-11-22T10:15:00.441711Z"
    },
    "id": "FV6WtC-mAqex"
   },
   "outputs": [],
   "source": [
    "df"
   ]
  },
  {
   "cell_type": "markdown",
   "metadata": {
    "id": "pnE1izfPAqex"
   },
   "source": [
    "Main entry method to apply a function over rows or columns:"
   ]
  },
  {
   "cell_type": "code",
   "execution_count": null,
   "metadata": {},
   "outputs": [],
   "source": [
    "%timeit np.sqrt(df)"
   ]
  },
  {
   "cell_type": "code",
   "execution_count": null,
   "metadata": {},
   "outputs": [],
   "source": [
    "np.mean(df, axis=1)"
   ]
  },
  {
   "cell_type": "code",
   "execution_count": null,
   "metadata": {
    "ExecuteTime": {
     "end_time": "2019-11-22T10:15:56.669091Z",
     "start_time": "2019-11-22T10:15:56.635493Z"
    },
    "id": "F6fez0vlAqex"
   },
   "outputs": [],
   "source": [
    "%timeit df.apply(lambda row: np.sqrt(row))"
   ]
  },
  {
   "cell_type": "markdown",
   "metadata": {
    "id": "kYQnJ98KAqey"
   },
   "source": [
    "This one is faster, though:"
   ]
  },
  {
   "cell_type": "code",
   "execution_count": null,
   "metadata": {},
   "outputs": [],
   "source": [
    "def plus1(x):\n",
    "    return x+1"
   ]
  },
  {
   "cell_type": "code",
   "execution_count": null,
   "metadata": {},
   "outputs": [],
   "source": [
    "%timeit df['d'].apply(plus1)"
   ]
  },
  {
   "cell_type": "code",
   "execution_count": null,
   "metadata": {},
   "outputs": [],
   "source": [
    "%timeit plus1(df)"
   ]
  },
  {
   "cell_type": "code",
   "execution_count": null,
   "metadata": {
    "ExecuteTime": {
     "end_time": "2019-11-22T10:17:15.784527Z",
     "start_time": "2019-11-22T10:17:09.104517Z"
    },
    "id": "rx5AHhOxAqey"
   },
   "outputs": [],
   "source": [
    "%timeit df['d'].apply(lambda x: np.sqrt(x))"
   ]
  },
  {
   "cell_type": "code",
   "execution_count": null,
   "metadata": {},
   "outputs": [],
   "source": [
    "df['k'] = df.d + 2*df.a\n",
    "df"
   ]
  },
  {
   "cell_type": "markdown",
   "metadata": {
    "id": "5_eOhR2zAqey"
   },
   "source": [
    "Pandas allows to use NumPy functions directly:"
   ]
  },
  {
   "cell_type": "code",
   "execution_count": null,
   "metadata": {
    "ExecuteTime": {
     "end_time": "2019-11-22T10:18:49.294579Z",
     "start_time": "2019-11-22T10:18:49.281772Z"
    },
    "id": "UlWTTkC_Aqey"
   },
   "outputs": [],
   "source": [
    "np.sqrt(df['d'])"
   ]
  },
  {
   "cell_type": "markdown",
   "metadata": {
    "id": "IoTleQkHAqey"
   },
   "source": [
    "Which is faster:"
   ]
  },
  {
   "cell_type": "code",
   "execution_count": null,
   "metadata": {
    "ExecuteTime": {
     "end_time": "2019-11-22T10:17:24.039917Z",
     "start_time": "2019-11-22T10:17:21.402214Z"
    },
    "id": "5iIdaNMEAqey"
   },
   "outputs": [],
   "source": [
    "%timeit np.sqrt(df['d'])"
   ]
  },
  {
   "cell_type": "code",
   "execution_count": null,
   "metadata": {
    "ExecuteTime": {
     "end_time": "2019-11-19T17:30:42.541827Z",
     "start_time": "2019-11-19T17:30:38.406769Z"
    },
    "id": "fVXgmocdAqey"
   },
   "outputs": [],
   "source": [
    "# Better way\n",
    "%timeit np.sqrt(df['d'].values)"
   ]
  },
  {
   "cell_type": "code",
   "execution_count": null,
   "metadata": {
    "id": "v9P_UXrKAqey"
   },
   "outputs": [],
   "source": [
    "np.sqrt(df['d'].values)"
   ]
  },
  {
   "cell_type": "markdown",
   "metadata": {
    "id": "UIeOgKasAqez"
   },
   "source": [
    "Often replacing `apply` altogether is the best option:"
   ]
  },
  {
   "cell_type": "code",
   "execution_count": null,
   "metadata": {
    "id": "W9BSFvkDAqez"
   },
   "outputs": [],
   "source": [
    "df_copy = df.copy()\n",
    "df_copy[\"d_sqrt\"] = np.sqrt(df['d'].values)"
   ]
  },
  {
   "cell_type": "code",
   "execution_count": null,
   "metadata": {},
   "outputs": [],
   "source": [
    "df_copy"
   ]
  },
  {
   "cell_type": "markdown",
   "metadata": {
    "id": "LytP96U_Aqez"
   },
   "source": [
    "Note, that we often can mix Pandas and NumPy:"
   ]
  },
  {
   "cell_type": "code",
   "execution_count": null,
   "metadata": {
    "ExecuteTime": {
     "end_time": "2019-11-22T10:19:46.216982Z",
     "start_time": "2019-11-22T10:19:46.185123Z"
    },
    "id": "5FCrf0mNAqez"
   },
   "outputs": [],
   "source": [
    "df"
   ]
  },
  {
   "cell_type": "code",
   "execution_count": null,
   "metadata": {
    "ExecuteTime": {
     "end_time": "2019-11-22T10:19:53.952393Z",
     "start_time": "2019-11-22T10:19:53.931984Z"
    },
    "id": "yZAzhVJ7Aqez"
   },
   "outputs": [],
   "source": [
    "df.values"
   ]
  },
  {
   "cell_type": "code",
   "execution_count": null,
   "metadata": {
    "ExecuteTime": {
     "end_time": "2019-11-22T10:20:06.430801Z",
     "start_time": "2019-11-22T10:20:06.422498Z"
    },
    "id": "hmVoQRbGAqez"
   },
   "outputs": [],
   "source": [
    "df.values.sum(axis=1)"
   ]
  },
  {
   "cell_type": "code",
   "execution_count": null,
   "metadata": {
    "ExecuteTime": {
     "end_time": "2019-11-22T10:20:18.147876Z",
     "start_time": "2019-11-22T10:20:18.126223Z"
    },
    "id": "uMJmKjC2Aqez"
   },
   "outputs": [],
   "source": [
    "df.apply(lambda x: x.sum(), axis=1)"
   ]
  },
  {
   "cell_type": "code",
   "execution_count": null,
   "metadata": {
    "ExecuteTime": {
     "end_time": "2019-11-22T10:20:36.092386Z",
     "start_time": "2019-11-22T10:20:36.078213Z"
    },
    "id": "nvCSHrUZAqez"
   },
   "outputs": [],
   "source": [
    "np.sum(df, axis=1)"
   ]
  },
  {
   "cell_type": "code",
   "execution_count": null,
   "metadata": {
    "id": "JeFomSlaAqez"
   },
   "outputs": [],
   "source": [
    "df.sum(axis=1)"
   ]
  },
  {
   "cell_type": "markdown",
   "metadata": {
    "id": "kxzdskwUAqe0"
   },
   "source": [
    "Pandas is smart enough to combine the result in a proper manner:"
   ]
  },
  {
   "cell_type": "code",
   "execution_count": null,
   "metadata": {
    "ExecuteTime": {
     "end_time": "2019-11-22T10:21:59.786504Z",
     "start_time": "2019-11-22T10:21:59.752228Z"
    },
    "id": "TGOe0N2OAqe0"
   },
   "outputs": [],
   "source": [
    "dfm = df.apply(lambda x: pd.Series({'sum': x.sum(),\n",
    "                                    'sqrt': np.sqrt(x['d'])}),\n",
    "               axis=1)"
   ]
  },
  {
   "cell_type": "code",
   "execution_count": null,
   "metadata": {
    "ExecuteTime": {
     "end_time": "2019-11-22T10:22:05.922288Z",
     "start_time": "2019-11-22T10:22:05.897324Z"
    },
    "id": "Av1xgR0_Aqe0"
   },
   "outputs": [],
   "source": [
    "dfm"
   ]
  },
  {
   "cell_type": "markdown",
   "metadata": {
    "id": "QS2x1BITAqe0"
   },
   "source": [
    "# Dataframe statistics"
   ]
  },
  {
   "cell_type": "code",
   "execution_count": null,
   "metadata": {
    "ExecuteTime": {
     "end_time": "2019-11-22T10:40:42.559595Z",
     "start_time": "2019-11-22T10:40:42.543410Z"
    },
    "id": "wNR3haQRAqe0"
   },
   "outputs": [],
   "source": [
    "titanic['Cabin'].value_counts(dropna=False)"
   ]
  },
  {
   "cell_type": "code",
   "execution_count": null,
   "metadata": {
    "ExecuteTime": {
     "end_time": "2019-11-22T10:45:09.725652Z",
     "start_time": "2019-11-22T10:45:09.709780Z"
    },
    "id": "qnBraODkAqe0"
   },
   "outputs": [],
   "source": [
    "titanic.SibSp.value_counts()"
   ]
  },
  {
   "cell_type": "code",
   "execution_count": null,
   "metadata": {
    "ExecuteTime": {
     "end_time": "2019-11-22T10:46:47.602139Z",
     "start_time": "2019-11-22T10:46:47.587653Z"
    },
    "id": "S-Efs_Q-Aqe0"
   },
   "outputs": [],
   "source": [
    "titanic.Embarked.value_counts() # S = Southampton, C = Cherbourg, Q = Queens Town"
   ]
  },
  {
   "cell_type": "code",
   "execution_count": null,
   "metadata": {
    "ExecuteTime": {
     "end_time": "2019-11-22T10:47:28.887267Z",
     "start_time": "2019-11-22T10:47:28.871328Z"
    },
    "id": "EziolECBAqe0"
   },
   "outputs": [],
   "source": [
    "titanic.Sex.value_counts()"
   ]
  },
  {
   "cell_type": "code",
   "execution_count": null,
   "metadata": {
    "ExecuteTime": {
     "end_time": "2019-11-22T10:48:47.494717Z",
     "start_time": "2019-11-22T10:48:47.458104Z"
    },
    "id": "mhodIEFCAqe0"
   },
   "outputs": [],
   "source": [
    "print(\"Average age: %2.2f\" % titanic['Age'].mean())\n",
    "print(\"STD of age: %2.2f\" % titanic['Age'].std())\n",
    "print(\"Minimum age: %2.2f\" % titanic['Age'].min())\n",
    "print(\"Maximum age: %2.2f\" % titanic['Age'].max())"
   ]
  },
  {
   "cell_type": "code",
   "execution_count": null,
   "metadata": {
    "ExecuteTime": {
     "end_time": "2019-11-22T10:49:45.273882Z",
     "start_time": "2019-11-22T10:49:45.249774Z"
    },
    "id": "ImTcA93nAqe1"
   },
   "outputs": [],
   "source": [
    "print(\"Average number of siblings/spouse: %2.2f\" % titanic['SibSp'].mean())\n",
    "print(\"Average number of siblings/spouse in class 1: %2.2f\" % titanic.loc[titanic.Pclass==1, 'SibSp'].mean())\n",
    "print(\"Average number of siblings/spouse in class 2: %2.2f\" % titanic.loc[titanic.Pclass==2, 'SibSp'].mean())\n",
    "print(\"Average number of siblings/spouse in class 3: %2.2f\" % titanic.loc[titanic.Pclass==3, 'SibSp'].mean())"
   ]
  },
  {
   "cell_type": "code",
   "execution_count": null,
   "metadata": {
    "ExecuteTime": {
     "end_time": "2019-11-22T10:50:44.216051Z",
     "start_time": "2019-11-22T10:50:44.184828Z"
    },
    "id": "_YektI85Aqe1"
   },
   "outputs": [],
   "source": [
    "print(\"Minimum age (not survived): %2.2f\" % titanic.loc[titanic.Survived==0, 'Age'].min())\n",
    "print(\"Maximum age (not survived): %2.2f\" % titanic.loc[titanic.Survived==0, 'Age'].max())\n",
    "print(\"Mean age (not survived): %2.2f\" % titanic.loc[titanic.Survived==0, 'Age'].mean())"
   ]
  },
  {
   "cell_type": "code",
   "execution_count": null,
   "metadata": {
    "ExecuteTime": {
     "end_time": "2019-11-22T10:50:59.214958Z",
     "start_time": "2019-11-22T10:50:59.201228Z"
    },
    "id": "bUV2-LBPAqe1"
   },
   "outputs": [],
   "source": [
    "print(\"Minimum age (survived): %2.2f\" % titanic.loc[titanic.Survived==1, 'Age'].min())\n",
    "print(\"Maximum age (survived): %2.2f\" % titanic.loc[titanic.Survived==1, 'Age'].max())\n",
    "print(\"Mean age (survived): %2.2f\" % titanic.loc[titanic.Survived==1, 'Age'].mean())"
   ]
  },
  {
   "cell_type": "markdown",
   "metadata": {
    "id": "zK0Bk6p7Aqe1"
   },
   "source": [
    "# Replacing and renaming"
   ]
  },
  {
   "cell_type": "code",
   "execution_count": null,
   "metadata": {
    "id": "LOuwu2aUAqe1"
   },
   "outputs": [],
   "source": [
    "titanic.replace(22, 122).head()"
   ]
  },
  {
   "cell_type": "code",
   "execution_count": null,
   "metadata": {},
   "outputs": [],
   "source": [
    "titanic.head()"
   ]
  },
  {
   "cell_type": "code",
   "execution_count": null,
   "metadata": {
    "id": "fQfzuE7WAqe1"
   },
   "outputs": [],
   "source": [
    "import re\n",
    "titanic.replace(re.compile(r'\\(.*\\)'), '').head()"
   ]
  },
  {
   "cell_type": "code",
   "execution_count": null,
   "metadata": {
    "id": "WZ_e7A8YAqe1"
   },
   "outputs": [],
   "source": [
    "titanic.rename(lambda x: x.lower(), axis=1).head()"
   ]
  },
  {
   "cell_type": "code",
   "execution_count": null,
   "metadata": {},
   "outputs": [],
   "source": [
    "titanic.head()"
   ]
  },
  {
   "cell_type": "code",
   "execution_count": null,
   "metadata": {
    "id": "rINJb7nVAqe1"
   },
   "outputs": [],
   "source": [
    "titanic.rename({'SibSp':'siblings_spouses','Pclass':'class'}, axis=1).head()"
   ]
  },
  {
   "cell_type": "markdown",
   "metadata": {
    "id": "oCGuzR4XAqe1"
   },
   "source": [
    "# String operations"
   ]
  },
  {
   "cell_type": "code",
   "execution_count": null,
   "metadata": {
    "id": "vSlELUIlAqe2"
   },
   "outputs": [],
   "source": [
    "titanic.head()"
   ]
  },
  {
   "cell_type": "code",
   "execution_count": null,
   "metadata": {
    "id": "9x0ZPw3zAqe2"
   },
   "outputs": [],
   "source": [
    "titanic.replace(re.compile(r'\\(.*\\)'), '').Name.str.split(\",\", expand=True)"
   ]
  },
  {
   "cell_type": "code",
   "execution_count": null,
   "metadata": {
    "id": "YgYB2L6KAqe2"
   },
   "outputs": [],
   "source": [
    "(titanic\n",
    " .replace(re.compile(r'\\(.*\\)'), '')\n",
    " .Name.str\n",
    " .split(',', expand=True)\n",
    " .rename({0:'family_name', 1:'first_name'}, axis=1)\n",
    " .head())"
   ]
  },
  {
   "cell_type": "markdown",
   "metadata": {
    "id": "a1-5G92WAqe2"
   },
   "source": [
    "# Cleaning data"
   ]
  },
  {
   "cell_type": "markdown",
   "metadata": {
    "id": "gsyAhFS4Aqe2"
   },
   "source": [
    "`isnull` is very convenient method:"
   ]
  },
  {
   "cell_type": "code",
   "execution_count": null,
   "metadata": {
    "ExecuteTime": {
     "end_time": "2019-11-19T12:00:42.710118Z",
     "start_time": "2019-11-19T12:00:42.675794Z"
    },
    "id": "GCG1FAE3Aqe2"
   },
   "outputs": [],
   "source": [
    "titanic.isnull().head()"
   ]
  },
  {
   "cell_type": "markdown",
   "metadata": {
    "id": "OCGTA4uyAqe2"
   },
   "source": [
    "Resulting dataframe can now be used to determine if there any missing values (by column or by row):"
   ]
  },
  {
   "cell_type": "code",
   "execution_count": null,
   "metadata": {
    "ExecuteTime": {
     "end_time": "2019-11-19T12:00:45.967577Z",
     "start_time": "2019-11-19T12:00:45.956190Z"
    },
    "id": "Q5lwvb-OAqe2"
   },
   "outputs": [],
   "source": [
    "titanic.isnull().any()"
   ]
  },
  {
   "cell_type": "code",
   "execution_count": null,
   "metadata": {
    "ExecuteTime": {
     "end_time": "2019-11-19T12:00:49.495136Z",
     "start_time": "2019-11-19T12:00:49.487337Z"
    },
    "id": "sgzQMoO4Aqe2"
   },
   "outputs": [],
   "source": [
    "titanic.isnull().any(axis=1).head()"
   ]
  },
  {
   "cell_type": "markdown",
   "metadata": {
    "id": "u0tJbf9FAqe3"
   },
   "source": [
    "Or calculate how many missing values are in a dataframe (by row or by column):"
   ]
  },
  {
   "cell_type": "code",
   "execution_count": null,
   "metadata": {
    "ExecuteTime": {
     "end_time": "2019-11-19T12:00:52.858752Z",
     "start_time": "2019-11-19T12:00:52.850950Z"
    },
    "id": "DW6ik0KGAqe3"
   },
   "outputs": [],
   "source": [
    "titanic.isnull().sum()"
   ]
  },
  {
   "cell_type": "code",
   "execution_count": null,
   "metadata": {
    "ExecuteTime": {
     "end_time": "2019-11-19T12:00:56.350334Z",
     "start_time": "2019-11-19T12:00:56.325248Z"
    },
    "id": "fk_LqXMMAqe3"
   },
   "outputs": [],
   "source": [
    "titanic.head(15)"
   ]
  },
  {
   "cell_type": "markdown",
   "metadata": {
    "id": "Ul_s6ibyAqe3"
   },
   "source": [
    "Pandas is smart enough to fill missing values by column:"
   ]
  },
  {
   "cell_type": "code",
   "execution_count": null,
   "metadata": {
    "ExecuteTime": {
     "end_time": "2019-11-19T12:01:00.465120Z",
     "start_time": "2019-11-19T12:01:00.454884Z"
    },
    "id": "m_iytPG5Aqe3"
   },
   "outputs": [],
   "source": [
    "fill_values = titanic[['Age', 'Fare']].mean()\n",
    "fill_values"
   ]
  },
  {
   "cell_type": "code",
   "execution_count": null,
   "metadata": {
    "ExecuteTime": {
     "end_time": "2019-11-19T12:01:03.491097Z",
     "start_time": "2019-11-19T12:01:03.458050Z"
    },
    "id": "JkIEPD23Aqe4"
   },
   "outputs": [],
   "source": [
    "titanic[titanic.Fare.isnull()]"
   ]
  },
  {
   "cell_type": "code",
   "execution_count": null,
   "metadata": {
    "ExecuteTime": {
     "end_time": "2019-11-19T12:01:21.568586Z",
     "start_time": "2019-11-19T12:01:21.531789Z"
    },
    "id": "6IauK2cGAqe4"
   },
   "outputs": [],
   "source": [
    "titanic.fillna(fill_values).head(15)"
   ]
  },
  {
   "cell_type": "markdown",
   "metadata": {
    "id": "IcVXXj-tAqe4"
   },
   "source": [
    "# Getting indicators and dummy variables"
   ]
  },
  {
   "cell_type": "code",
   "execution_count": null,
   "metadata": {
    "ExecuteTime": {
     "end_time": "2019-11-19T12:01:36.511785Z",
     "start_time": "2019-11-19T12:01:36.466950Z"
    },
    "id": "4WpNRKY-Aqe4"
   },
   "outputs": [],
   "source": [
    "pd.get_dummies(titanic, columns=['Pclass', 'Sex', 'Embarked']).head()"
   ]
  }
 ],
 "metadata": {
  "@webio": {
   "lastCommId": null,
   "lastKernelId": null
  },
  "colab": {
   "collapsed_sections": [
    "wDcM-wrCAqd2",
    "3Gips6HJAqd6",
    "NvPiKYiUAqd-",
    "nQ23Ya3dAqeH",
    "GPcudjLEAqeH",
    "BIraTipdAqeI",
    "FP_-iuHwAqeI",
    "dVz4xMKeAqeO",
    "W6TDB0RfAqeS",
    "rXH02x1cAqee",
    "Eo1UxUueAqeq",
    "XoQjBaT_Aqeu",
    "3zVIHJuuAqex",
    "oCGuzR4XAqe1",
    "a1-5G92WAqe2",
    "IcVXXj-tAqe4"
   ],
   "provenance": []
  },
  "kernelspec": {
   "display_name": "Python 3 (ipykernel)",
   "language": "python",
   "name": "python3"
  },
  "language_info": {
   "codemirror_mode": {
    "name": "ipython",
    "version": 3
   },
   "file_extension": ".py",
   "mimetype": "text/x-python",
   "name": "python",
   "nbconvert_exporter": "python",
   "pygments_lexer": "ipython3",
   "version": "3.8.8"
  }
 },
 "nbformat": 4,
 "nbformat_minor": 4
}
