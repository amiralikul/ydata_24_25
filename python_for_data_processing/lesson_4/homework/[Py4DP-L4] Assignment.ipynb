{
 "cells": [
  {
   "cell_type": "markdown",
   "metadata": {
    "id": "OSNalI24GyjT"
   },
   "source": [
    "# Notes\n",
    "\n",
    "This assignment is devoted to `pandas`. It covers indexing and filtering, and some `groupby` and `join` operations. The assignment roughly corresponds to Week 4 and the beginning of Week 5 of the course.\n",
    "\n",
    "The main dataset you'll be using is [Titanic](https://www.kaggle.com/c/titanic). Please, note, that you must not rely on any specific location for the dataset, hence, any code like\n",
    "\n",
    "```python\n",
    "titanic_train = pd.read_csv(\"<location>/train.csv\")\n",
    "```\n",
    "\n",
    "will fail and your notebook won't be validated and graded. Inputs to the functions are described explicitly in each case, and that's the only thing you can rely on."
   ]
  },
  {
   "cell_type": "code",
   "metadata": {
    "id": "FhY3Y4Z4GyjX",
    "scrolled": true,
    "ExecuteTime": {
     "end_time": "2024-11-22T12:40:24.196674Z",
     "start_time": "2024-11-22T12:40:24.193395Z"
    }
   },
   "source": [
    "from matplotlib import pyplot as plt\n",
    "%pylab inline\n",
    "plt.style.use(\"bmh\")"
   ],
   "outputs": [
    {
     "name": "stdout",
     "output_type": "stream",
     "text": [
      "%pylab is deprecated, use %matplotlib inline and import the required libraries.\n",
      "Populating the interactive namespace from numpy and matplotlib\n"
     ]
    }
   ],
   "execution_count": 4
  },
  {
   "cell_type": "code",
   "metadata": {
    "id": "r5cLFNRTGyjY",
    "ExecuteTime": {
     "end_time": "2024-11-22T12:40:08.912848Z",
     "start_time": "2024-11-22T12:40:08.910686Z"
    }
   },
   "source": [
    "plt.rcParams[\"figure.figsize\"] = (6,6)"
   ],
   "outputs": [],
   "execution_count": 2
  },
  {
   "cell_type": "code",
   "metadata": {
    "id": "3CDZ-awAGyjZ",
    "scrolled": true,
    "ExecuteTime": {
     "end_time": "2024-11-22T12:40:44.573765Z",
     "start_time": "2024-11-22T12:40:44.571329Z"
    }
   },
   "source": [
    "import numpy as np\n",
    "import pandas as pd"
   ],
   "outputs": [],
   "execution_count": 5
  },
  {
   "cell_type": "code",
   "metadata": {
    "id": "DsH4M7OhGyjZ",
    "tags": [
     "parameters"
    ],
    "ExecuteTime": {
     "end_time": "2024-11-22T12:41:26.943683Z",
     "start_time": "2024-11-22T12:41:26.941402Z"
    }
   },
   "source": [
    "STUDENT = \"Amir Alikulov and Ruslan Shuvalov \"\n",
    "ASSIGNMENT = 4\n",
    "TEST = False"
   ],
   "outputs": [],
   "execution_count": 7
  },
  {
   "cell_type": "code",
   "metadata": {
    "id": "9ml9ljtgGyja",
    "tags": [
     "validation"
    ],
    "ExecuteTime": {
     "end_time": "2024-11-22T12:41:27.353635Z",
     "start_time": "2024-11-22T12:41:27.351475Z"
    }
   },
   "source": [
    "if TEST:\n",
    "    import solutions\n",
    "    total_grade = 0\n",
    "    MAX_POINTS = 21"
   ],
   "outputs": [],
   "execution_count": 8
  },
  {
   "cell_type": "markdown",
   "metadata": {
    "id": "K0CJ107MGyja"
   },
   "source": [
    "# Indexing and filtering"
   ]
  },
  {
   "cell_type": "markdown",
   "metadata": {
    "id": "jX-hTMhZGyjb",
    "tags": [
     "problem"
    ]
   },
   "source": [
    "### 1. Fixing age (1 point).\n",
    "\n",
    "There are several known mistakes in the Titanic dataset.\n",
    "\n",
    "Namely, [Julia Florence Siegel](https://www.encyclopedia-titanica.org/titanic-survivor/julia-florence-cavendish.html) (Mrs. Tyrell William Cavendish) is mistakenly marked as being 76 years old (the age she actually died, but many years after Titanic).\n",
    "\n",
    "You must **replace the corresponding age value in the dataframe with her actual age at the time** (25) and return the dataset. Input is **indexed** with `PassengerId` and is a **concatenation of train and test sets**. You must return a copy of the input dataframe, and not perform replacement in the original dataframe. Structure and indexing must be the same as in input."
   ]
  },
  {
   "cell_type": "code",
   "execution_count": null,
   "metadata": {
    "ExecuteTime": {
     "end_time": "2019-12-12T07:45:36.685351Z",
     "start_time": "2019-12-12T07:45:36.675825Z"
    },
    "id": "wQYXONuXGyjb",
    "tags": [
     "solution"
    ]
   },
   "outputs": [],
   "source": [
    "def fix_age(df):\n",
    "    \"\"\"Fix age for Julia Florence Siegel.\"\"\"\n",
    "    df = df.copy()\n",
    "    df.loc[df['Name'].str.contains('Julia Florence Siegel'), 'Age'] = 25\n",
    "    return df"
   ]
  },
  {
   "cell_type": "code",
   "execution_count": null,
   "metadata": {
    "id": "0M6SASH8Gyjc",
    "tags": [
     "validation"
    ]
   },
   "outputs": [],
   "source": [
    "PROBLEM_ID = 1\n",
    "\n",
    "if TEST:\n",
    "    total_grade += solutions.check(STUDENT, PROBLEM_ID, fix_age)"
   ]
  },
  {
   "cell_type": "markdown",
   "metadata": {
    "id": "7DSLP24ZGyjc",
    "tags": [
     "problem"
    ]
   },
   "source": [
    "### 2. Embarkment port distribution (1 point).\n",
    "\n",
    "You must find the value counts for embarkment port (`Embarked` column) for the passengers, who travelled in 3-d class, were male and between 20 and 30 years old (both inclusive). No need to treat missing values separately.\n",
    "\n",
    "Input is **indexed** with `PassengerId` and is a **concatenation of train and test sets**. You must return **series**, indexed with values from `Embarked`, according to `.value_counts()` method semantics:\n",
    "\n",
    "```\n",
    "S    <number of male passengers in 3-d class, embarked at S, 20<=Age<=30>\n",
    "C    <...>\n",
    "Q    <...>\n",
    "Name: Embarked, dtype: int64\n",
    "```"
   ]
  },
  {
   "cell_type": "code",
   "metadata": {
    "id": "5XODXvFjGyjd",
    "tags": [
     "solution"
    ],
    "ExecuteTime": {
     "end_time": "2024-11-22T20:47:54.054642Z",
     "start_time": "2024-11-22T20:47:54.048429Z"
    }
   },
   "source": [
    "def embarked_stats(df):\n",
    "    \"\"\"Calculate embarkment port statistics.\"\"\"\n",
    "    required_columns = ['Age', 'Pclass', 'Sex', 'Embarked']\n",
    "    if not all(col in df.columns for col in required_columns):\n",
    "        raise ValueError(f\"Missing required columns. Need: {required_columns}\")\n",
    "    filtered_df = df.loc[(df.Age >= 20) & (df.Age <= 30) & (df.Pclass == 3) & (df.Sex == 'male')]\n",
    "    return filtered_df.Embarked.value_counts()"
   ],
   "outputs": [],
   "execution_count": 4
  },
  {
   "cell_type": "code",
   "metadata": {
    "id": "j6tsveo3Gyjd",
    "tags": [
     "validation"
    ],
    "ExecuteTime": {
     "end_time": "2024-11-22T20:48:06.614563Z",
     "start_time": "2024-11-22T20:48:06.605426Z"
    }
   },
   "source": [
    "PROBLEM_ID = 2\n",
    "\n",
    "if TEST:\n",
    "    total_grade += solutions.check(STUDENT, PROBLEM_ID, embarked_stats)"
   ],
   "outputs": [
    {
     "ename": "NameError",
     "evalue": "name 'TEST' is not defined",
     "output_type": "error",
     "traceback": [
      "\u001B[0;31m---------------------------------------------------------------------------\u001B[0m",
      "\u001B[0;31mNameError\u001B[0m                                 Traceback (most recent call last)",
      "Cell \u001B[0;32mIn[6], line 3\u001B[0m\n\u001B[1;32m      1\u001B[0m PROBLEM_ID \u001B[38;5;241m=\u001B[39m \u001B[38;5;241m2\u001B[39m\n\u001B[0;32m----> 3\u001B[0m \u001B[38;5;28;01mif\u001B[39;00m TEST:\n\u001B[1;32m      4\u001B[0m     total_grade \u001B[38;5;241m+\u001B[39m\u001B[38;5;241m=\u001B[39m solutions\u001B[38;5;241m.\u001B[39mcheck(STUDENT, PROBLEM_ID, embarked_stats)\n",
      "\u001B[0;31mNameError\u001B[0m: name 'TEST' is not defined"
     ]
    }
   ],
   "execution_count": 6
  },
  {
   "cell_type": "markdown",
   "metadata": {
    "id": "OD0CRvSxGyje",
    "tags": [
     "problem"
    ]
   },
   "source": [
    "### 3. Fill missing age values (1 point).\n",
    "\n",
    "Some age values are missing in the Titanic dataset. You need to calculate average age over all passengers, and fill missing age values in `Age` column.\n",
    "\n",
    "Input is **indexed** with `PassengerId` and is a **concatenation of train and test sets**. Output must be a **new** dataframe with the same structure, but without missing values in `Age` column."
   ]
  },
  {
   "cell_type": "code",
   "metadata": {
    "id": "1jbA5q8uGyje",
    "tags": [
     "solution"
    ],
    "ExecuteTime": {
     "end_time": "2024-11-22T20:48:08.668581Z",
     "start_time": "2024-11-22T20:48:08.665998Z"
    }
   },
   "source": [
    "def fix_age(df):\n",
    "    \"\"\"Fix missing age values.\"\"\"\n",
    "    data = df.copy()\n",
    "\n",
    "    mean_age = data.Age.mean()\n",
    "    data.Age = data.Age.fillna(mean_age)\n",
    "\n",
    "    print(\"Original missing ages:\", df['Age'].isna().sum())\n",
    "    print(\"New missing ages:\", data['Age'].isna().sum())\n",
    "\n",
    "    return data"
   ],
   "outputs": [],
   "execution_count": 7
  },
  {
   "cell_type": "code",
   "metadata": {
    "id": "sPa1XsuSGyje",
    "tags": [
     "validation"
    ],
    "ExecuteTime": {
     "end_time": "2024-11-22T20:48:09.918730Z",
     "start_time": "2024-11-22T20:48:09.909172Z"
    }
   },
   "source": [
    "PROBLEM_ID = 3\n",
    "\n",
    "if TEST:\n",
    "    total_grade += solutions.check(STUDENT, PROBLEM_ID, fix_age)"
   ],
   "outputs": [
    {
     "ename": "NameError",
     "evalue": "name 'TEST' is not defined",
     "output_type": "error",
     "traceback": [
      "\u001B[0;31m---------------------------------------------------------------------------\u001B[0m",
      "\u001B[0;31mNameError\u001B[0m                                 Traceback (most recent call last)",
      "Cell \u001B[0;32mIn[8], line 3\u001B[0m\n\u001B[1;32m      1\u001B[0m PROBLEM_ID \u001B[38;5;241m=\u001B[39m \u001B[38;5;241m3\u001B[39m\n\u001B[0;32m----> 3\u001B[0m \u001B[38;5;28;01mif\u001B[39;00m TEST:\n\u001B[1;32m      4\u001B[0m     total_grade \u001B[38;5;241m+\u001B[39m\u001B[38;5;241m=\u001B[39m solutions\u001B[38;5;241m.\u001B[39mcheck(STUDENT, PROBLEM_ID, fix_age)\n",
      "\u001B[0;31mNameError\u001B[0m: name 'TEST' is not defined"
     ]
    }
   ],
   "execution_count": 8
  },
  {
   "cell_type": "markdown",
   "metadata": {
    "id": "Q2eW8f3QGyjf",
    "tags": [
     "problem"
    ]
   },
   "source": [
    "### 4. Child travelling alone (1 point).\n",
    "\n",
    "You must find a child (`Age<10`) on-board, who was travelling without siblings or parents and find a name of her nursemaid.\n",
    "\n",
    "Input is **indexed** with `PassengerId` and is a **concatenation of train and test sets**. Output must be a **tuple** of two strings, collected from `Name` column, with one being child's name and second being nursemaid's name. It's known, that there's **only one child** like this."
   ]
  },
  {
   "cell_type": "code",
   "metadata": {
    "id": "ks53WankGyjf",
    "tags": [
     "solution"
    ],
    "ExecuteTime": {
     "end_time": "2024-11-22T20:48:12.024879Z",
     "start_time": "2024-11-22T20:48:12.020692Z"
    }
   },
   "source": [
    "def get_nursemaid(df):\n",
    "    required_cols = ['Age', 'SibSp', 'Parch', 'Name']\n",
    "    if not all(col in df.columns for col in required_cols):\n",
    "        raise ValueError(f\"Missing required columns. Need: {required_cols}\")\n",
    "\n",
    "    data = df.copy()\n",
    "    child = data.loc[(data.Age < 10) & (data.SibSp == 0) & (data.Parch == 0)]\n",
    "    return tuple(child.iloc[0].Name.split(','))\n"
   ],
   "outputs": [],
   "execution_count": 9
  },
  {
   "cell_type": "code",
   "metadata": {
    "id": "Y-A2y1WXGyjf",
    "tags": [
     "validation"
    ],
    "ExecuteTime": {
     "end_time": "2024-11-22T20:48:12.648505Z",
     "start_time": "2024-11-22T20:48:12.638737Z"
    }
   },
   "source": [
    "PROBLEM_ID = 4\n",
    "\n",
    "if TEST:\n",
    "    total_grade += solutions.check(STUDENT, PROBLEM_ID, get_nursemaid)"
   ],
   "outputs": [
    {
     "ename": "NameError",
     "evalue": "name 'TEST' is not defined",
     "output_type": "error",
     "traceback": [
      "\u001B[0;31m---------------------------------------------------------------------------\u001B[0m",
      "\u001B[0;31mNameError\u001B[0m                                 Traceback (most recent call last)",
      "Cell \u001B[0;32mIn[10], line 3\u001B[0m\n\u001B[1;32m      1\u001B[0m PROBLEM_ID \u001B[38;5;241m=\u001B[39m \u001B[38;5;241m4\u001B[39m\n\u001B[0;32m----> 3\u001B[0m \u001B[38;5;28;01mif\u001B[39;00m TEST:\n\u001B[1;32m      4\u001B[0m     total_grade \u001B[38;5;241m+\u001B[39m\u001B[38;5;241m=\u001B[39m solutions\u001B[38;5;241m.\u001B[39mcheck(STUDENT, PROBLEM_ID, get_nursemaid)\n",
      "\u001B[0;31mNameError\u001B[0m: name 'TEST' is not defined"
     ]
    }
   ],
   "execution_count": 10
  },
  {
   "cell_type": "markdown",
   "metadata": {
    "id": "9A1HnOo4Gyjf",
    "tags": [
     "problem"
    ]
   },
   "source": [
    "### 5. Port with the most children embarked (1 point).\n",
    "\n",
    "You must find, which port had the largest percentage of children (`Age<10`) embarked, i.e. number of children divided by total number of passengers embarked.\n",
    "\n",
    "Input is **indexed** with `PassengerId` and is a **concatenation of train and test sets**. Output must be a **single string** with port letter."
   ]
  },
  {
   "cell_type": "code",
   "execution_count": null,
   "metadata": {
    "ExecuteTime": {
     "end_time": "2019-11-25T08:26:56.688466Z",
     "start_time": "2019-11-25T08:26:56.684610Z"
    },
    "id": "MKoxc0aXGyjg",
    "tags": [
     "solution"
    ]
   },
   "outputs": [],
   "source": [
    "def get_port(df):\n",
    "    \"\"\"Get port with the most children embarked.\"\"\"\n",
    "\n",
    "    required_cols = ['Age', 'Embarked']\n",
    "    if not all(col in df.columns for col in required_cols):\n",
    "        raise ValueError(f\"Missing required columns. Need: {required_cols}\")\n",
    "\n",
    "    data = df.copy()\n",
    "    child = data.loc[(data.Age < 10)]\n",
    "    port = (child.groupby(data.Embarked).size() / data.groupby(data.Embarked).size()).idxmax()\n",
    "    return port"
   ]
  },
  {
   "cell_type": "code",
   "execution_count": null,
   "metadata": {
    "ExecuteTime": {
     "end_time": "2019-11-25T08:27:11.838257Z",
     "start_time": "2019-11-25T08:27:11.720830Z"
    },
    "id": "9-Jr8SSuGyjg",
    "tags": [
     "validation"
    ]
   },
   "outputs": [],
   "source": [
    "PROBLEM_ID = 5\n",
    "\n",
    "if TEST:\n",
    "    total_grade += solutions.check(STUDENT, PROBLEM_ID, get_port)"
   ]
  },
  {
   "cell_type": "markdown",
   "metadata": {
    "id": "l6UrEuFFGyjg",
    "tags": [
     "problem"
    ]
   },
   "source": [
    "### 6. Passengers per ticket (2 points).\n",
    "\n",
    "Calculate average and maximum number of passengers per ticket.\n",
    "\n",
    "Input is **indexed** with `PassengerId` and is a **concatenation of train and test sets**. Output must be a **tuple** of two values - average and maximum number of passengers per ticket."
   ]
  },
  {
   "cell_type": "code",
   "execution_count": null,
   "metadata": {
    "ExecuteTime": {
     "end_time": "2019-11-25T08:26:56.688466Z",
     "start_time": "2019-11-25T08:26:56.684610Z"
    },
    "id": "BeejKFJkGyjg",
    "tags": [
     "solution"
    ]
   },
   "outputs": [],
   "source": [
    "def get_ticket_stats(df):\n",
    "    \"\"\"Calculate passenger per ticket statistics.\"\"\"\n",
    "\n",
    "    required_cols = ['Ticket']\n",
    "    if not all(col in df.columns for col in required_cols):\n",
    "        raise ValueError(f\"Missing required columns. Need: {required_cols}\")\n",
    "\n",
    "    data = df.copy()\n",
    "\n",
    "    ticket_size = data.groupby('Ticket').size()\n",
    "    average_passengers_per_ticket = ticket_size.mean()\n",
    "    max_passengers_per_ticket = ticket_size.max()\n",
    "\n",
    "    return average_passengers_per_ticket, max_passengers_per_ticket\n"
   ]
  },
  {
   "cell_type": "code",
   "execution_count": null,
   "metadata": {
    "ExecuteTime": {
     "end_time": "2019-11-25T08:27:11.838257Z",
     "start_time": "2019-11-25T08:27:11.720830Z"
    },
    "id": "BJhXFyymGyjg",
    "tags": [
     "validation"
    ]
   },
   "outputs": [],
   "source": [
    "PROBLEM_ID = 6\n",
    "\n",
    "if TEST:\n",
    "    total_grade += solutions.check(STUDENT, PROBLEM_ID, get_ticket_stats)"
   ]
  },
  {
   "cell_type": "markdown",
   "metadata": {
    "id": "i-mw9DIVGyjh",
    "tags": [
     "problem"
    ]
   },
   "source": [
    "### 7. Fare per passenger (3 points).\n",
    "\n",
    "The column `Fare` shows the Fare for the entire ticket, not price of one particular passenger on that ticket.\n",
    "For each individual ticket, you should calculate **fare per person for that ticket**, and then calculate averages for each class. Note, that you will need to apply `groupby` and you may consider using `.first()` of resulting `DataFrameGroupBy`. Also, caferully consider, in which order calculations are performed.\n",
    "\n",
    "Input is **indexed** with `PassengerId` and is a **concatenation of train and test sets**. Output must be `pd.Series` with three elements, indexed by class:\n",
    "\n",
    "```\n",
    "1    <average per person fare in class 1>\n",
    "2    <...>\n",
    "3    <...>\n",
    "Name: Pclass, dtype: float64\n",
    "```"
   ]
  },
  {
   "cell_type": "code",
   "execution_count": null,
   "metadata": {
    "ExecuteTime": {
     "end_time": "2019-11-25T08:26:56.688466Z",
     "start_time": "2019-11-25T08:26:56.684610Z"
    },
    "id": "IkPBSGhQGyjh",
    "tags": [
     "solution"
    ]
   },
   "outputs": [],
   "source": [
    "def get_fare_per_pass(df):\n",
    "    \"\"\"Calculate fare per passenger for different classes.\"\"\"\n",
    "    data = df.copy()\n",
    "    fare_per_person_per_ticket = data.groupby(data.Ticket).Fare.first() / data.groupby(data.Ticket).size()\n",
    "    data['Fare_per_person'] = data['Ticket'].map(fare_per_person_per_ticket)\n",
    "\n",
    "    return data.groupby(['Pclass'])['Fare_per_person'].mean()\n"
   ]
  },
  {
   "cell_type": "code",
   "execution_count": null,
   "metadata": {
    "ExecuteTime": {
     "end_time": "2019-11-25T08:27:11.838257Z",
     "start_time": "2019-11-25T08:27:11.720830Z"
    },
    "id": "wQrz-9RKGyjh",
    "tags": [
     "validation"
    ]
   },
   "outputs": [],
   "source": [
    "PROBLEM_ID = 7\n",
    "\n",
    "if TEST:\n",
    "    total_grade += solutions.check(STUDENT, PROBLEM_ID, get_fare_per_pass)"
   ]
  },
  {
   "cell_type": "markdown",
   "metadata": {
    "id": "Ga60QNRGGyjh",
    "tags": [
     "problem"
    ]
   },
   "source": [
    "### 8. Fill missing age values (3 points).\n",
    "\n",
    "In problem 3 you filled missing age values with global average over all passengers. Now, you need to fill them **according to class and sex**. For example, for a female passenger from 2d class, missing age value must be filled with average age of females in 2d class.\n",
    "\n",
    "In this problem, you may need joins and `.apply()`, although there are several ways to get the same result.\n",
    "\n",
    "Input is **indexed** with `PassengerId` and is a **concatenation of train and test sets**. Output must be a **new** dataframe with the same structure as input, but without missing values in `Age` column."
   ]
  },
  {
   "cell_type": "code",
   "execution_count": null,
   "metadata": {
    "ExecuteTime": {
     "end_time": "2019-11-25T08:26:56.688466Z",
     "start_time": "2019-11-25T08:26:56.684610Z"
    },
    "id": "GNb5uS3YGyjh",
    "tags": [
     "solution"
    ]
   },
   "outputs": [],
   "source": [
    "def fix_age_groupped(df):\n",
    "    \"\"\"Fill missing age values.\"\"\"\n",
    "    data = df.copy()\n",
    "    data.groupby(['Pclass', 'Sex'])['Age'].mean()\n",
    "    average_age_per_class_per_sex = data.groupby(['Pclass', 'Sex'])['Age'].mean()\n",
    "    data['Age'] = data.apply(lambda x: average_age_per_class_per_sex.loc[x['Pclass'], x['Sex']] if pd.isnull(x['Age']) else x['Age'], axis=1)\n",
    "    return data"
   ]
  },
  {
   "cell_type": "code",
   "execution_count": null,
   "metadata": {
    "ExecuteTime": {
     "end_time": "2019-11-25T08:27:11.838257Z",
     "start_time": "2019-11-25T08:27:11.720830Z"
    },
    "id": "RLU1W4uuGyjh",
    "tags": [
     "validation"
    ]
   },
   "outputs": [],
   "source": [
    "PROBLEM_ID = 8\n",
    "\n",
    "if TEST:\n",
    "    total_grade += solutions.check(STUDENT, PROBLEM_ID, fix_age_groupped)"
   ]
  },
  {
   "cell_type": "markdown",
   "metadata": {
    "id": "tGE3ggVqGyji",
    "tags": [
     "problem"
    ]
   },
   "source": [
    "### 9. Finding couples (3 points).\n",
    "\n",
    "Based on the code from Lecture 5, build a dataframe of couples. Filter it by survival status: select those couples, in which only one of spouses survived or none of two. Built survival statistics by class, i.e. ratio of the number couples with partial survival or couples which died together, divided by total number of couples in class. If the survival status of one or both of spouses is not known, it must be considered as `0`.\n",
    "\n",
    "Input is **indexed** with `PassengerId` and is a **concatenation of train and test sets**. Output must be `Series` with three elements indexed by values from `Pclass` column (see P7 as a reference)."
   ]
  },
  {
   "cell_type": "code",
   "execution_count": null,
   "metadata": {
    "ExecuteTime": {
     "end_time": "2019-11-25T08:26:56.688466Z",
     "start_time": "2019-11-25T08:26:56.684610Z"
    },
    "id": "T8Cclj30Gyji",
    "tags": [
     "solution"
    ]
   },
   "outputs": [],
   "source": [
    "def find_couples(df):\n",
    "    \"\"\"Your code here.\"\"\"\n",
    "    pass"
   ]
  },
  {
   "cell_type": "code",
   "execution_count": null,
   "metadata": {
    "ExecuteTime": {
     "end_time": "2019-11-25T08:27:11.838257Z",
     "start_time": "2019-11-25T08:27:11.720830Z"
    },
    "id": "l-xTDP21Gyji",
    "tags": [
     "validation"
    ]
   },
   "outputs": [],
   "source": [
    "PROBLEM_ID = 9\n",
    "\n",
    "if TEST:\n",
    "    total_grade += solutions.check(STUDENT, PROBLEM_ID, find_couples)"
   ]
  },
  {
   "cell_type": "markdown",
   "metadata": {
    "tags": [
     "problem"
    ],
    "id": "H7o6qdTkJgSv"
   },
   "source": [
    "### 10. Lonely Passengers (2 points).\n",
    "\n",
    "Extract # of passengers per class who were either traveling alone (no siblings/spouses/parents/children and also bought a ticket for one) or they have a ticket number beginning with \"P\", **but not both**.\n",
    "\n",
    "Note that passenger traveling alone who has a ticket \"PC 1234\" **should NOT be counted**, but a passenger traveling alone with a ticket \"AC 11\" should be counted.\n",
    "\n",
    "Input is **indexed** with `PassengerId` and is a **concatenation of train and test sets**.\\\n",
    "Output must be `Series` with three elements indexed by values from `Pclass` column."
   ]
  },
  {
   "cell_type": "code",
   "execution_count": null,
   "metadata": {
    "ExecuteTime": {
     "end_time": "2019-11-25T08:26:56.688466Z",
     "start_time": "2019-11-25T08:26:56.684610Z"
    },
    "tags": [
     "solution"
    ],
    "id": "bQcHbke8JgSv"
   },
   "outputs": [],
   "source": [
    "def lonely_or_p(df):\n",
    "    \"\"\"Your code here.\"\"\"\n",
    "    pass"
   ]
  },
  {
   "cell_type": "code",
   "execution_count": null,
   "metadata": {
    "ExecuteTime": {
     "end_time": "2019-11-25T08:27:11.838257Z",
     "start_time": "2019-11-25T08:27:11.720830Z"
    },
    "tags": [
     "validation"
    ],
    "id": "yhqcNPfNJgSw"
   },
   "outputs": [],
   "source": [
    "PROBLEM_ID = 10\n",
    "\n",
    "if TEST:\n",
    "    total_grade += solutions.check(STUDENT, PROBLEM_ID, lonely_or_p)"
   ]
  },
  {
   "cell_type": "markdown",
   "metadata": {
    "tags": [
     "problem"
    ],
    "id": "69Am6tyZJgSw"
   },
   "source": [
    "### 11. Family Tickets (3 points).\n",
    "\n",
    "Find for each class a proportion of family tickets - tickets where all passengers have the same last name.\\\n",
    "Note that by that definition, even a 1-passenger ticket is considered a family ticket.\n",
    "\n",
    "Input is **indexed** with `PassengerId` and is a **concatenation of train and test sets**. Output must be `Series` with three elements indexed by values from `Pclass` column, with values between 0 and 1, containing the proportion of family tickets for that class."
   ]
  },
  {
   "cell_type": "code",
   "execution_count": null,
   "metadata": {
    "ExecuteTime": {
     "end_time": "2019-11-25T08:26:56.688466Z",
     "start_time": "2019-11-25T08:26:56.684610Z"
    },
    "tags": [
     "solution"
    ],
    "id": "z570lUgNJgSw"
   },
   "outputs": [],
   "source": [
    "def family_tickets(df):\n",
    "    \"\"\"Your code here.\"\"\"\n",
    "    pass"
   ]
  },
  {
   "cell_type": "code",
   "execution_count": null,
   "metadata": {
    "ExecuteTime": {
     "end_time": "2019-11-25T08:27:11.838257Z",
     "start_time": "2019-11-25T08:27:11.720830Z"
    },
    "tags": [
     "validation"
    ],
    "id": "DMGWMV0fJgTD"
   },
   "outputs": [],
   "source": [
    "PROBLEM_ID = 11\n",
    "\n",
    "if TEST:\n",
    "    total_grade += solutions.check(STUDENT, PROBLEM_ID, family_tickets)"
   ]
  },
  {
   "cell_type": "markdown",
   "metadata": {
    "id": "IxVCNUPbTfxM"
   },
   "source": [
    "# Your grade"
   ]
  },
  {
   "cell_type": "code",
   "execution_count": null,
   "metadata": {
    "id": "38VBoob1Gyji",
    "tags": [
     "validation"
    ]
   },
   "outputs": [],
   "source": [
    "if TEST:\n",
    "    print(f\"{STUDENT}: {int(100 * total_grade / MAX_POINTS)}\")"
   ]
  }
 ],
 "metadata": {
  "@webio": {
   "lastCommId": null,
   "lastKernelId": null
  },
  "colab": {
   "provenance": []
  },
  "kernelspec": {
   "display_name": "Python 3 (ipykernel)",
   "language": "python",
   "name": "python3"
  },
  "language_info": {
   "codemirror_mode": {
    "name": "ipython",
    "version": 3
   },
   "file_extension": ".py",
   "mimetype": "text/x-python",
   "name": "python",
   "nbconvert_exporter": "python",
   "pygments_lexer": "ipython3",
   "version": "3.8.8"
  }
 },
 "nbformat": 4,
 "nbformat_minor": 0
}
