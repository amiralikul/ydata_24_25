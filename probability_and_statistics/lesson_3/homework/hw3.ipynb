{
 "cells": [
  {
   "cell_type": "markdown",
   "id": "83a98b0d70caac57",
   "metadata": {},
   "source": [
    "# Y-DATA PS4DS Homework 3 - Programming\n",
    "#### November 12, 2024"
   ]
  },
  {
   "cell_type": "code",
   "id": "a4bcc959fb4afccf",
   "metadata": {
    "ExecuteTime": {
     "end_time": "2024-11-19T14:34:41.991783Z",
     "start_time": "2024-11-19T14:34:41.988938Z"
    }
   },
   "source": [
    "import random\n",
    "import numpy as np\n",
    "from scipy.stats import norm, multivariate_normal\n",
    "import matplotlib.pyplot as plt"
   ],
   "outputs": [],
   "execution_count": 11
  },
  {
   "metadata": {
    "ExecuteTime": {
     "end_time": "2024-11-19T14:34:42.348696Z",
     "start_time": "2024-11-19T14:34:42.343640Z"
    }
   },
   "cell_type": "code",
   "source": [
    "# Set the seed for reproducibility!\n",
    "random.seed(42)\n",
    "np.random.seed(42)"
   ],
   "id": "cc52778ecb28301d",
   "outputs": [],
   "execution_count": 12
  },
  {
   "cell_type": "markdown",
   "id": "42ccb586df04c791",
   "metadata": {},
   "source": [
    "## Question 1\n",
    "\n",
    "Consider the distribution $N(\\mu, \\sigma^2)$ where $\\mu = 4$ and $\\sigma = 5$.\n",
    "\n",
    "1. Generate 1000 random numbers from this distribution and plot their histogram.\n",
    "2. What is the proportion of the samples that are less than one, two and three standard deviations away from the mean?\n",
    "3. Compute the corresponding probabilities using scipy's `norm.cdf` function.\n",
    "4. Verify whether the proportions change when using different values for the parameters of the distribution, $\\mu$ and $\\sigma$.\n"
   ]
  },
  {
   "cell_type": "code",
   "id": "6e6ad5a6255df1",
   "metadata": {
    "ExecuteTime": {
     "end_time": "2024-11-19T14:38:28.442997Z",
     "start_time": "2024-11-19T14:38:28.268279Z"
    }
   },
   "source": [
    "mu = 4  \n",
    "sigma = 5  \n",
    "\n",
    "samples = np.random.normal(mu, sigma, 1000)\n",
    "plt.hist(samples, bins=30, density=True)\n",
    "plt.show()\n",
    "\n",
    "#2 \n",
    "std_less_1 = np.mean(np.abs(samples - mu) < sigma)\n",
    "std_less_2 = np.mean(np.abs(samples - mu) < 2*sigma)\n",
    "std_less_3 = np.mean(np.abs(samples - mu) < 3*sigma)\n",
    "print(std_less_1, std_less_2, std_less_3)\n",
    " \n",
    "#3. Compute the corresponding probabilities using scipy's norm.cdf function.\n",
    "cdf1 = norm.cdf(mu + sigma, mu, sigma) - norm.cdf(mu - sigma, mu, sigma)\n",
    "cdf2 = norm.cdf(mu + 2*sigma, mu, sigma) - norm.cdf(mu - 2*sigma, mu, sigma)\n",
    "cdf3 = norm.cdf(mu + 3*sigma, mu, sigma) - norm.cdf(mu - 3*sigma, mu, sigma)\n",
    "\n",
    "#4\n",
    "mu = 10\n",
    "sigma = 2\n",
    " \n",
    "samples = np.random.normal(mu, sigma, 1000)\n",
    "std_less_1_2 = np.mean(np.abs(samples - mu) < sigma)\n",
    "std_less_2_2 = np.mean(np.abs(samples - mu) < 2*sigma)\n",
    "std_less_3_2 = np.mean(np.abs(samples - mu) < 3*sigma)\n",
    "\n",
    "print(std_less_1 == std_less_1_2)\n",
    "print(std_less_2 == std_less_2_2)\n",
    "print(std_less_3 == std_less_3_2)\n",
    "\n",
    "\n",
    "\n",
    "\n"
   ],
   "outputs": [
    {
     "data": {
      "text/plain": [
       "<Figure size 640x480 with 1 Axes>"
      ],
      "image/png": "[encoded data removed]"
     },
     "metadata": {},
     "output_type": "display_data"
    },
    {
     "name": "stdout",
     "output_type": "stream",
     "text": [
      "0.661 0.952 0.999\n",
      "0.661\n",
      "0.67\n",
      "False\n",
      "False\n",
      "False\n"
     ]
    }
   ],
   "execution_count": 17
  },
  {
   "cell_type": "markdown",
   "id": "eed8eb03907cf181",
   "metadata": {},
   "source": [
    "## Question 2\n",
    "\n",
    "For an explanation on the multivariate normal distribution, please watch [this YouTube video](https://www.youtube.com/watch?v=azrTdjrA2bU).\n",
    "\n",
    "In this question, we consider weight and height data for a fictional population,\n",
    " which we model as i.i.d. samples from a bivariate normal distribution.\n",
    "Assume that we know that in our population:\n",
    "- The average height is 170 cm with a standard deviation of 10 cm.\n",
    "- The average weight is 70 kg with a standard deviation of 15 kg.\n",
    "- The Pearson correlation coefficient between height and weight is 0.5.\n",
    "\n",
    "Your task is to:\n",
    "1. Generate 1000 random samples from this distribution (each sample consisting of two numbers, a height and a weight).\n",
    "2. Plot a scatter plot for height vs. weight.\n",
    "3. Plot histograms for the marginal distributions of height and weight.\n",
    "4. Compute the probability of a person from that population being shorter than 160 cm and having weight less than 50 kg.\n",
    "5. In other fictional populations where the correlation coefficient is instead $0.9$, $0$ and $-0.5$, how would your answers change? Repeat the above for these cases.\n",
    "HINT: You can simply write a function (or functions) that solve the above given the Pearson correlation coefficient, and use it for the different cases.\n",
    "\n",
    "HINT: You can use the `np.random.multivariate_normal` function to generate samples from a multivariate normal distribution,\n",
    "given the mean vector and the covariance matrix. To compute probabilities, you can use `multivariate_normal` from `scipy.stats`."
   ]
  },
  {
   "cell_type": "code",
   "id": "87e43c60723b9b3b",
   "metadata": {
    "ExecuteTime": {
     "end_time": "2024-11-12T10:08:29.847480Z",
     "start_time": "2024-11-12T10:08:29.845938Z"
    }
   },
   "source": "# Your code here",
   "outputs": [],
   "execution_count": 4
  }
 ],
 "metadata": {
  "kernelspec": {
   "display_name": "Python 3 (ipykernel)",
   "language": "python",
   "name": "python3"
  },
  "language_info": {
   "codemirror_mode": {
    "name": "ipython",
    "version": 3
   },
   "file_extension": ".py",
   "mimetype": "text/x-python",
   "name": "python",
   "nbconvert_exporter": "python",
   "pygments_lexer": "ipython3",
   "version": "3.11.9"
  }
 },
 "nbformat": 4,
 "nbformat_minor": 5
}
