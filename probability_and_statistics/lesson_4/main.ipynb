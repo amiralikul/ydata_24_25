{
 "cells": [
  {
   "metadata": {
    "ExecuteTime": {
     "end_time": "2024-11-26T10:19:51.518200Z",
     "start_time": "2024-11-26T10:19:51.482041Z"
    }
   },
   "cell_type": "code",
   "source": [
    "#import tips dataset\n",
    "import seaborn as sns\n",
    "import numpy as np\n",
    "tips = sns.load_dataset(\"tips\")\n",
    "\n",
    "# Estimate the probability of tipping more than 5\n",
    "p = (tips[\"tip\"] > 5).mean()\n",
    "print('Probability of tipping more than $5: ', round(p, 3))\n",
    "\n",
    "# Now estimate the same probability using a normal model\n",
    "from scipy.stats import norm\n",
    "\n",
    "mean_tip = tips[\"tip\"].mean()\n",
    "std_tip = tips[\"tip\"].std()\n",
    "\n",
    "print('Mean tip: ', round(mean_tip, 2))\n",
    "\n",
    "print('Standard deviation of tip: ', round(std_tip, 2))\n",
    "\n",
    "p_normal = 1 - norm.cdf(5, mean_tip, std_tip)\n",
    "print('Probability of tipping more than $5 using normal model: ', round(p_normal, 3))\n",
    "\n"
   ],
   "id": "15ad5357fc4b2a02",
   "outputs": [
    {
     "name": "stdout",
     "output_type": "stream",
     "text": [
      "Probability of tipping more than $5:  0.074\n",
      "Mean tip:  3.0\n",
      "Standard deviation of tip:  1.38\n",
      "Probability of tipping more than $5 using normal model:  0.074\n"
     ]
    }
   ],
   "execution_count": 12
  },
  {
   "metadata": {
    "ExecuteTime": {
     "end_time": "2024-11-24T18:22:24.050794Z",
     "start_time": "2024-11-24T18:22:24.041836Z"
    }
   },
   "cell_type": "code",
   "source": "tips",
   "id": "1fa2c681181b5463",
   "outputs": [
    {
     "data": {
      "text/plain": [
       "     total_bill   tip     sex smoker   day    time  size\n",
       "0         16.99  1.01  Female     No   Sun  Dinner     2\n",
       "1         10.34  1.66    Male     No   Sun  Dinner     3\n",
       "2         21.01  3.50    Male     No   Sun  Dinner     3\n",
       "3         23.68  3.31    Male     No   Sun  Dinner     2\n",
       "4         24.59  3.61  Female     No   Sun  Dinner     4\n",
       "..          ...   ...     ...    ...   ...     ...   ...\n",
       "239       29.03  5.92    Male     No   Sat  Dinner     3\n",
       "240       27.18  2.00  Female    Yes   Sat  Dinner     2\n",
       "241       22.67  2.00    Male    Yes   Sat  Dinner     2\n",
       "242       17.82  1.75    Male     No   Sat  Dinner     2\n",
       "243       18.78  3.00  Female     No  Thur  Dinner     2\n",
       "\n",
       "[244 rows x 7 columns]"
      ],
      "text/html": [
       "<div>\n",
       "<style scoped>\n",
       "    .dataframe tbody tr th:only-of-type {\n",
       "        vertical-align: middle;\n",
       "    }\n",
       "\n",
       "    .dataframe tbody tr th {\n",
       "        vertical-align: top;\n",
       "    }\n",
       "\n",
       "    .dataframe thead th {\n",
       "        text-align: right;\n",
       "    }\n",
       "</style>\n",
       "<table border=\"1\" class=\"dataframe\">\n",
       "  <thead>\n",
       "    <tr style=\"text-align: right;\">\n",
       "      <th></th>\n",
       "      <th>total_bill</th>\n",
       "      <th>tip</th>\n",
       "      <th>sex</th>\n",
       "      <th>smoker</th>\n",
       "      <th>day</th>\n",
       "      <th>time</th>\n",
       "      <th>size</th>\n",
       "    </tr>\n",
       "  </thead>\n",
       "  <tbody>\n",
       "    <tr>\n",
       "      <th>0</th>\n",
       "      <td>16.99</td>\n",
       "      <td>1.01</td>\n",
       "      <td>Female</td>\n",
       "      <td>No</td>\n",
       "      <td>Sun</td>\n",
       "      <td>Dinner</td>\n",
       "      <td>2</td>\n",
       "    </tr>\n",
       "    <tr>\n",
       "      <th>1</th>\n",
       "      <td>10.34</td>\n",
       "      <td>1.66</td>\n",
       "      <td>Male</td>\n",
       "      <td>No</td>\n",
       "      <td>Sun</td>\n",
       "      <td>Dinner</td>\n",
       "      <td>3</td>\n",
       "    </tr>\n",
       "    <tr>\n",
       "      <th>2</th>\n",
       "      <td>21.01</td>\n",
       "      <td>3.50</td>\n",
       "      <td>Male</td>\n",
       "      <td>No</td>\n",
       "      <td>Sun</td>\n",
       "      <td>Dinner</td>\n",
       "      <td>3</td>\n",
       "    </tr>\n",
       "    <tr>\n",
       "      <th>3</th>\n",
       "      <td>23.68</td>\n",
       "      <td>3.31</td>\n",
       "      <td>Male</td>\n",
       "      <td>No</td>\n",
       "      <td>Sun</td>\n",
       "      <td>Dinner</td>\n",
       "      <td>2</td>\n",
       "    </tr>\n",
       "    <tr>\n",
       "      <th>4</th>\n",
       "      <td>24.59</td>\n",
       "      <td>3.61</td>\n",
       "      <td>Female</td>\n",
       "      <td>No</td>\n",
       "      <td>Sun</td>\n",
       "      <td>Dinner</td>\n",
       "      <td>4</td>\n",
       "    </tr>\n",
       "    <tr>\n",
       "      <th>...</th>\n",
       "      <td>...</td>\n",
       "      <td>...</td>\n",
       "      <td>...</td>\n",
       "      <td>...</td>\n",
       "      <td>...</td>\n",
       "      <td>...</td>\n",
       "      <td>...</td>\n",
       "    </tr>\n",
       "    <tr>\n",
       "      <th>239</th>\n",
       "      <td>29.03</td>\n",
       "      <td>5.92</td>\n",
       "      <td>Male</td>\n",
       "      <td>No</td>\n",
       "      <td>Sat</td>\n",
       "      <td>Dinner</td>\n",
       "      <td>3</td>\n",
       "    </tr>\n",
       "    <tr>\n",
       "      <th>240</th>\n",
       "      <td>27.18</td>\n",
       "      <td>2.00</td>\n",
       "      <td>Female</td>\n",
       "      <td>Yes</td>\n",
       "      <td>Sat</td>\n",
       "      <td>Dinner</td>\n",
       "      <td>2</td>\n",
       "    </tr>\n",
       "    <tr>\n",
       "      <th>241</th>\n",
       "      <td>22.67</td>\n",
       "      <td>2.00</td>\n",
       "      <td>Male</td>\n",
       "      <td>Yes</td>\n",
       "      <td>Sat</td>\n",
       "      <td>Dinner</td>\n",
       "      <td>2</td>\n",
       "    </tr>\n",
       "    <tr>\n",
       "      <th>242</th>\n",
       "      <td>17.82</td>\n",
       "      <td>1.75</td>\n",
       "      <td>Male</td>\n",
       "      <td>No</td>\n",
       "      <td>Sat</td>\n",
       "      <td>Dinner</td>\n",
       "      <td>2</td>\n",
       "    </tr>\n",
       "    <tr>\n",
       "      <th>243</th>\n",
       "      <td>18.78</td>\n",
       "      <td>3.00</td>\n",
       "      <td>Female</td>\n",
       "      <td>No</td>\n",
       "      <td>Thur</td>\n",
       "      <td>Dinner</td>\n",
       "      <td>2</td>\n",
       "    </tr>\n",
       "  </tbody>\n",
       "</table>\n",
       "<p>244 rows × 7 columns</p>\n",
       "</div>"
      ]
     },
     "execution_count": 2,
     "metadata": {},
     "output_type": "execute_result"
    }
   ],
   "execution_count": 2
  },
  {
   "metadata": {
    "ExecuteTime": {
     "end_time": "2024-11-24T18:46:38.954222Z",
     "start_time": "2024-11-24T18:46:38.936108Z"
    }
   },
   "cell_type": "code",
   "source": [
    "# Repeat the same for the probability of tipping less than 2\n",
    "p = (tips[\"tip\"] < 2).mean()\n",
    "print('Probability of tipping less than $2:', round(p, 3))\n",
    "p_normal = norm.cdf(2, mean_tip, std_tip)\n",
    "print('Probability of tipping less than $2 using normal model:',round(p_normal, 3))"
   ],
   "id": "fb53a75fc8f80072",
   "outputs": [
    {
     "name": "stdout",
     "output_type": "stream",
     "text": [
      "Probability of tipping less than $2: 0.184\n",
      "Probability of tipping less than $2 using normal model: 0.235\n"
     ]
    }
   ],
   "execution_count": 8
  },
  {
   "metadata": {
    "ExecuteTime": {
     "end_time": "2024-11-26T10:36:23.096747Z",
     "start_time": "2024-11-26T10:36:23.086875Z"
    }
   },
   "cell_type": "code",
   "source": [
    "mean_tip = tips[\"tip\"].mean()\n",
    "# Estimate the SE of our estimator of the mean tip\n",
    "n = tips.shape[0]\n",
    "var_mean_tip = tips[\"tip\"].var() / n\n",
    "SE_mean_tip = var_mean_tip ** 0.5\n",
    "# Print mean tip and standard error\n",
    "print('Estimate of the expected tip amount: ', round(mean_tip, 2))\n",
    "print('Standard error of the estimate: ', round(SE_mean_tip, 3))"
   ],
   "id": "d4e0bfbf9f8768fc",
   "outputs": [
    {
     "name": "stdout",
     "output_type": "stream",
     "text": [
      "Estimate of the expected tip amount:  3.0\n",
      "Standard error of the estimate:  0.089\n"
     ]
    }
   ],
   "execution_count": 14
  },
  {
   "metadata": {},
   "cell_type": "code",
   "outputs": [],
   "execution_count": null,
   "source": "",
   "id": "86625bbd75d08dff"
  },
  {
   "metadata": {
    "ExecuteTime": {
     "end_time": "2024-11-26T10:20:02.266143Z",
     "start_time": "2024-11-26T10:20:02.260466Z"
    }
   },
   "cell_type": "code",
   "source": [
    "# Calculate 95% confidence interval for the mean tip using\n",
    "#the normal distribution\n",
    "\n",
    "SE_mean_tip = std_tip / np.sqrt(tips.shape[0])\n",
    "\n",
    "alpha = 0.05\n",
    "z = norm.ppf(1 - alpha / 2)\n",
    "CI95 = (mean_tip - z * SE_mean_tip, mean_tip + z * SE_mean_tip)\n",
    "print(\"95% confidence interval for the mean tip:\", (round(CI95[0], 2), round(CI95[1], 2)))"
   ],
   "id": "8c26f3a98b082e89",
   "outputs": [
    {
     "name": "stdout",
     "output_type": "stream",
     "text": [
      "95% confidence interval for the mean tip: (2.82, 3.17)\n"
     ]
    }
   ],
   "execution_count": 13
  },
  {
   "metadata": {},
   "cell_type": "code",
   "outputs": [],
   "execution_count": null,
   "source": "",
   "id": "5531ef6cd5206440"
  },
  {
   "metadata": {
    "ExecuteTime": {
     "end_time": "2024-11-26T12:46:04.239670Z",
     "start_time": "2024-11-26T12:46:04.227875Z"
    }
   },
   "cell_type": "code",
   "source": [
    "# Calculate 95% confidence interval for the mean tip using\n",
    "#the normal distribution\n",
    "alpha = 0.05\n",
    "z = norm.ppf(1 - alpha / 2)\n",
    "CI95 = (mean_tip - z * SE_mean_tip, mean_tip + z * SE_mean_tip)\n",
    "print('95% confidence interval for the mean tip: ',\n",
    "(round(CI95[0], 2), round(CI95[1], 2)))"
   ],
   "id": "a4e6929dcb0606be",
   "outputs": [
    {
     "name": "stdout",
     "output_type": "stream",
     "text": [
      "95% confidence interval for the mean tip:  (2.82, 3.17)\n"
     ]
    }
   ],
   "execution_count": 15
  },
  {
   "metadata": {
    "ExecuteTime": {
     "end_time": "2024-11-26T12:47:25.695279Z",
     "start_time": "2024-11-26T12:47:25.684248Z"
    }
   },
   "cell_type": "code",
   "source": [
    "# Calculate 90% confidence interval for the mean tip\n",
    "#using the normal distribution\n",
    "alpha = 0.1\n",
    "z = norm.ppf(1 - alpha / 2)\n",
    "CI90 = (mean_tip - z * SE_mean_tip, mean_tip + z * SE_mean_tip)\n",
    "# Calculate 99% confidence interval for the mean tip\n",
    "#using the normal distribution\n",
    "alpha = 0.01\n",
    "z = norm.ppf(1 - alpha / 2)\n",
    "CI99 = (mean_tip - z * SE_mean_tip, mean_tip + z * SE_mean_tip)\n",
    "print('90% confidence interval for the mean tip: ',\n",
    "(round(CI90[0], 2), round(CI90[1], 2)))\n",
    "print('95% confidence interval for the mean tip: ',\n",
    "(round(CI95[0], 2), round(CI95[1], 2)))\n",
    "print('99% confidence interval for the mean tip: ',\n",
    "(round(CI99[0], 2), round(CI99[1], 2)))"
   ],
   "id": "8c94ea75d6cfff68",
   "outputs": [
    {
     "name": "stdout",
     "output_type": "stream",
     "text": [
      "90% confidence interval for the mean tip:  (2.85, 3.14)\n",
      "95% confidence interval for the mean tip:  (2.82, 3.17)\n",
      "99% confidence interval for the mean tip:  (2.77, 3.23)\n"
     ]
    }
   ],
   "execution_count": 16
  },
  {
   "metadata": {
    "ExecuteTime": {
     "end_time": "2024-11-26T13:04:22.221361Z",
     "start_time": "2024-11-26T13:04:22.199415Z"
    }
   },
   "cell_type": "code",
   "source": [
    "# 95% Confidence interval for the probablity of tipping more than 5\n",
    "alpha = 0.05\n",
    "z = norm.ppf(1 - alpha / 2)\n",
    "n = tips.shape[0]\n",
    "p_hat = (tips[\"tip\"] > 5).mean()\n",
    "SE_p = (p_hat * (1 - p_hat) / n) ** 0.5\n",
    "CI = (p_hat - z * SE_p, p_hat + z * SE_p)\n",
    "print('95% confidence interval for the probability of tipping more than $5: ',\n",
    "(round(CI[0], 3), round(CI[1], 3)))\n",
    "# Now for the probability of smoker\n",
    "p_hat = (tips[\"smoker\"] == 'Yes').mean()\n",
    "SE_p = (p_hat * (1 - p_hat) / n) ** 0.5\n",
    "CI = (p_hat - z * SE_p, p_hat + z * SE_p)\n",
    "print('95% confidence interval for the probability of being a smoker: ',\n",
    "(round(CI[0], 3), round(CI[1], 3)))\n",
    "# Now for the probability of being a smoker given that the tip is more than 5\n",
    "p_hat = (tips[tips[\"tip\"] > 5][\"smoker\"] == 'Yes').mean()\n",
    "SE_p = (p_hat * (1 - p_hat) / n) ** 0.5\n",
    "CI = (p_hat - z * SE_p, p_hat + z * SE_p)\n",
    "print('95% confidence interval for the probability of being a smoker given that the tip is more than $5:',\n",
    "(round(CI[0], 3), round(CI[1], 3)))"
   ],
   "id": "2b445dd987bc0d1a",
   "outputs": [
    {
     "name": "stdout",
     "output_type": "stream",
     "text": [
      "95% confidence interval for the probability of tipping more than $5:  (0.041, 0.107)\n",
      "95% confidence interval for the probability of being a smoker:  (0.32, 0.442)\n",
      "95% confidence interval for the probability of being a smoker given that the tip is more than $5: (0.274, 0.392)\n"
     ]
    }
   ],
   "execution_count": 17
  },
  {
   "metadata": {
    "ExecuteTime": {
     "end_time": "2024-11-26T18:59:47.839195Z",
     "start_time": "2024-11-26T18:59:47.833868Z"
    }
   },
   "cell_type": "code",
   "source": "(53.8+ 67.34+51.7+52+58.9+74+45.3+53+62.5+48.87+49+55.6) / 12\n",
   "id": "25c9b8c08be71dd0",
   "outputs": [
    {
     "data": {
      "text/plain": [
       "56.00083333333333"
      ]
     },
     "execution_count": 20,
     "metadata": {},
     "output_type": "execute_result"
    }
   ],
   "execution_count": 20
  },
  {
   "metadata": {
    "ExecuteTime": {
     "end_time": "2024-11-26T19:27:40.347796Z",
     "start_time": "2024-11-26T19:27:40.340532Z"
    }
   },
   "cell_type": "code",
   "source": "confidence_interval = 56 + 1.645 * 2 / np.sqrt(12), 56 - 1.645 * 2 / np.sqrt(12)",
   "id": "656b89de4ce89fae",
   "outputs": [],
   "execution_count": 43
  },
  {
   "metadata": {
    "ExecuteTime": {
     "end_time": "2024-11-26T19:27:41.168559Z",
     "start_time": "2024-11-26T19:27:41.162854Z"
    }
   },
   "cell_type": "code",
   "source": "confidence_interval",
   "id": "4818cf6ffaa68f79",
   "outputs": [
    {
     "data": {
      "text/plain": [
       "(56.94974119281694, 55.05025880718306)"
      ]
     },
     "execution_count": 44,
     "metadata": {},
     "output_type": "execute_result"
    }
   ],
   "execution_count": 44
  },
  {
   "metadata": {
    "ExecuteTime": {
     "end_time": "2024-11-26T19:27:45.641935Z",
     "start_time": "2024-11-26T19:27:45.637004Z"
    }
   },
   "cell_type": "code",
   "source": "confidence_interval[0] - confidence_interval[1]",
   "id": "c5b0d043eafdc9ef",
   "outputs": [
    {
     "data": {
      "text/plain": [
       "1.899482385633874"
      ]
     },
     "execution_count": 45,
     "metadata": {},
     "output_type": "execute_result"
    }
   ],
   "execution_count": 45
  },
  {
   "metadata": {
    "ExecuteTime": {
     "end_time": "2024-11-26T19:24:50.128461Z",
     "start_time": "2024-11-26T19:24:50.126729Z"
    }
   },
   "cell_type": "code",
   "source": "confidence_interval = 56 + 1.96 * 1.5 / np.sqrt(12), 56 - 1.96 * 1.5 / np.sqrt(12)",
   "id": "85ab281480961153",
   "outputs": [],
   "execution_count": 40
  },
  {
   "metadata": {
    "ExecuteTime": {
     "end_time": "2024-11-26T19:24:50.290647Z",
     "start_time": "2024-11-26T19:24:50.287626Z"
    }
   },
   "cell_type": "code",
   "source": "confidence_interval",
   "id": "4aee87f85f44efcd",
   "outputs": [
    {
     "data": {
      "text/plain": [
       "(56.84870489570875, 55.15129510429125)"
      ]
     },
     "execution_count": 41,
     "metadata": {},
     "output_type": "execute_result"
    }
   ],
   "execution_count": 41
  },
  {
   "metadata": {
    "ExecuteTime": {
     "end_time": "2024-11-26T19:24:50.437185Z",
     "start_time": "2024-11-26T19:24:50.434497Z"
    }
   },
   "cell_type": "code",
   "source": "confidence_interval[0] - confidence_interval[1]",
   "id": "202a9c3a6a412118",
   "outputs": [
    {
     "data": {
      "text/plain": [
       "1.697409791417499"
      ]
     },
     "execution_count": 42,
     "metadata": {},
     "output_type": "execute_result"
    }
   ],
   "execution_count": 42
  },
  {
   "metadata": {
    "ExecuteTime": {
     "end_time": "2024-11-26T19:24:50.608627Z",
     "start_time": "2024-11-26T19:24:50.607140Z"
    }
   },
   "cell_type": "code",
   "source": "confidence_interval = 56 + 1.96 * 8.35 / np.sqrt(12), 56 - 1.96 * 8.35 / np.sqrt(12)",
   "id": "be7711864082746f",
   "outputs": [],
   "execution_count": null
  },
  {
   "metadata": {
    "ExecuteTime": {
     "end_time": "2024-11-26T19:41:33.604474Z",
     "start_time": "2024-11-26T19:41:33.598629Z"
    }
   },
   "cell_type": "code",
   "source": "confidence_interval_for_t_distribution_95_percent_confidence = 56 + 2.201 * 8.35 / np.sqrt(12), 56 - 2.201 * 8.35 / np.sqrt(12)",
   "id": "1e9c0f4f8e7f170a",
   "outputs": [],
   "execution_count": 46
  },
  {
   "metadata": {
    "ExecuteTime": {
     "end_time": "2024-11-26T19:41:35.394354Z",
     "start_time": "2024-11-26T19:41:35.391598Z"
    }
   },
   "cell_type": "code",
   "source": "confidence_interval_for_t_distribution_95_percent_confidence",
   "id": "51cc7a93c3276bb7",
   "outputs": [
    {
     "data": {
      "text/plain": [
       "(61.30537265988058, 50.69462734011942)"
      ]
     },
     "execution_count": 47,
     "metadata": {},
     "output_type": "execute_result"
    }
   ],
   "execution_count": 47
  },
  {
   "metadata": {
    "ExecuteTime": {
     "end_time": "2024-11-27T13:50:12.369150Z",
     "start_time": "2024-11-27T13:50:12.345864Z"
    }
   },
   "cell_type": "code",
   "source": [
    "import numpy as np\n",
    "import matplotlib.pyplot as plt\n",
    "\n",
    "# Parameters\n",
    "n_sim = 10000  # Number of Monte Carlo simulations\n",
    "lambda_W = 0.2  # Rate parameter for exponential loading time\n",
    "distance_min, distance_max = 10, 50  # Uniform range for distance (km)\n",
    "speed_min, speed_max = 20, 60  # Uniform range for speed (km/h)\n",
    "\n",
    "# Simulate random inputs\n",
    "distance = np.random.uniform(distance_min, distance_max, n_sim)\n",
    "loading_time = np.random.exponential(1 / lambda_W, n_sim)\n",
    "speed = np.random.uniform(speed_min, speed_max, n_sim)\n",
    "\n",
    "# Compute delivery time\n",
    "delivery_time = distance / speed + loading_time\n",
    "\n",
    "# Estimate the mean delivery time\n",
    "mean_delivery_time = np.mean(delivery_time)\n",
    "print(f\"Estimated Mean Delivery Time: {mean_delivery_time:.2f} hours\")\n",
    "\n",
    "# Estimate the probability of delivery time less than 2 hours\n",
    "prob_delivery_time_lt_2 = np.mean(delivery_time < 2)\n",
    "print(f\"Estimated Probability of Delivery Time < 2 hours: {prob_delivery_time_lt_2:.2f}\")\n",
    "\n",
    "# Estimate the probability of delivery time more than 24 hours\n",
    "prob_delivery_time_gt_24 = np.mean(delivery_time > 24)\n",
    "print(f\"Estimated Probability of Delivery Time > 24 hours: {prob_delivery_time_gt_24:.2f}\")"
   ],
   "id": "7d51477bc36cb7d4",
   "outputs": [
    {
     "name": "stdout",
     "output_type": "stream",
     "text": [
      "Estimated Mean Delivery Time: 5.84 hours\n",
      "Estimated Probability of Delivery Time < 2 hours: 0.21\n",
      "Estimated Probability of Delivery Time > 24 hours: 0.01\n"
     ]
    }
   ],
   "execution_count": 48
  },
  {
   "metadata": {
    "ExecuteTime": {
     "end_time": "2024-11-27T13:50:28.005643Z",
     "start_time": "2024-11-27T13:50:28.000482Z"
    }
   },
   "cell_type": "code",
   "source": "distance",
   "id": "cac95285cce38efc",
   "outputs": [
    {
     "data": {
      "text/plain": [
       "array([42.09324186, 31.09318976, 37.10672647, ..., 11.09757389,\n",
       "       40.54661042, 17.65387416])"
      ]
     },
     "execution_count": 49,
     "metadata": {},
     "output_type": "execute_result"
    }
   ],
   "execution_count": 49
  },
  {
   "metadata": {
    "ExecuteTime": {
     "end_time": "2024-11-27T13:50:49.325551Z",
     "start_time": "2024-11-27T13:50:48.931392Z"
    }
   },
   "cell_type": "code",
   "source": [
    "#plot distance histogram\n",
    "plt.hist(distance, bins=30)\n",
    "plt.xlabel('Distance (km)')\n",
    "plt.ylabel('Frequency')\n",
    "plt.title('Histogram of Delivery Distance')\n",
    "plt.show()\n"
   ],
   "id": "83a832415006ecd8",
   "outputs": [
    {
     "data": {
      "text/plain": [
       "<Figure size 640x480 with 1 Axes>"
      ],
      "image/png": "[encoded data removed]"
     },
     "metadata": {},
     "output_type": "display_data"
    }
   ],
   "execution_count": 50
  },
  {
   "metadata": {
    "ExecuteTime": {
     "end_time": "2024-11-27T21:25:49.366931Z",
     "start_time": "2024-11-27T21:25:49.291121Z"
    }
   },
   "cell_type": "code",
   "source": [
    "import numpy as np\n",
    "import matplotlib.pyplot as plt\n",
    "from scipy.stats import binom\n",
    "\n",
    "# Parameters for the binomial distribution\n",
    "n = 10  # Number people in the sample\n",
    "p = 0.08  # Probability of a colorblind person\n",
    "\n",
    "# Define the range of possible outcomes\n",
    "# Possible values of k (number of colorblind individuals)\n",
    "k = np.arange(0, n + 1)\n",
    "\n",
    "pmf = binom.pmf(k, n, p)\n",
    "# x is list of possible outcomes (number of colorblind people) from 0 to n [0, 1, 2, ..., n]\n",
    "# n is the number of trials (people in the sample)\n",
    "# p is the probability of success (colorblind person)\n",
    "\n",
    "\n",
    "# Plot the binomial distribution\n",
    "plt.bar(k, pmf)\n",
    "plt.xlabel('Number of Colorblind People')\n",
    "plt.ylabel('Probability')\n",
    "plt.title('Binomial Distribution of Colorblind People in a Sample')\n",
    "plt.show()\n",
    "\n"
   ],
   "id": "c2f32d7f9ae56a70",
   "outputs": [
    {
     "data": {
      "text/plain": [
       "<Figure size 640x480 with 1 Axes>"
      ],
      "image/png": "[encoded data removed]"
     },
     "metadata": {},
     "output_type": "display_data"
    }
   ],
   "execution_count": 62
  },
  {
   "metadata": {
    "ExecuteTime": {
     "end_time": "2024-11-27T14:22:59.709990Z",
     "start_time": "2024-11-27T14:22:59.646188Z"
    }
   },
   "cell_type": "code",
   "source": "#plot the binomial distribution\n",
   "id": "28280831b97a905d",
   "outputs": [
    {
     "data": {
      "text/plain": [
       "<Figure size 640x480 with 1 Axes>"
      ],
      "image/png": "[encoded data removed]"
     },
     "metadata": {},
     "output_type": "display_data"
    }
   ],
   "execution_count": 57
  },
  {
   "metadata": {},
   "cell_type": "code",
   "outputs": [],
   "execution_count": null,
   "source": "",
   "id": "67f1a66f02f34a99"
  }
 ],
 "metadata": {
  "kernelspec": {
   "name": "python3",
   "language": "python",
   "display_name": "Python 3 (ipykernel)"
  }
 },
 "nbformat": 5,
 "nbformat_minor": 9
}
