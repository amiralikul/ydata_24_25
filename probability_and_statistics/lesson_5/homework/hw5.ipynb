{
 "cells": [
  {
   "cell_type": "markdown",
   "id": "83a98b0d70caac57",
   "metadata": {},
   "source": [
    "# Y-DATA PS4DS Homework 5 - Programming\n",
    "#### November 27, 2024"
   ]
  },
  {
   "cell_type": "code",
   "id": "a4bcc959fb4afccf",
   "metadata": {
    "ExecuteTime": {
     "end_time": "2024-11-27T10:49:20.107300Z",
     "start_time": "2024-11-27T10:49:19.257986Z"
    }
   },
   "source": [
    "import random\n",
    "import numpy as np\n",
    "from scipy.stats import t, norm\n",
    "import matplotlib.pyplot as plt"
   ],
   "outputs": [],
   "execution_count": 1
  },
  {
   "metadata": {
    "ExecuteTime": {
     "end_time": "2024-11-27T10:49:20.116723Z",
     "start_time": "2024-11-27T10:49:20.114716Z"
    }
   },
   "cell_type": "code",
   "source": [
    "# Set the seed for reproducibility!\n",
    "random.seed(42)\n",
    "np.random.seed(42)"
   ],
   "id": "cc52778ecb28301d",
   "outputs": [],
   "execution_count": 2
  },
  {
   "cell_type": "markdown",
   "id": "42ccb586df04c791",
   "metadata": {},
   "source": [
    "## Question 1\n",
    "\n",
    "In this assignment, you will evaluate the power of the following test:\n",
    "\n",
    "Assume that $X_1,...,X_n\\sim N(\\mu, \\sigma^2)$ where both parameters are unknown and consider the hypotheses $H_0:\\mu = 0$ vs. $H_1:\\mu >0$.\n",
    "\n",
    "In this case, we reject the null if $\\frac{\\bar{X}_n}{S_n/\\sqrt{n}}>t_{n-1, 1-\\alpha}$ where $S_n^2=\\frac{1}{n-1}\\sum_{i=1}^{n}(X_i-\\bar{X}_n)^2$ and $t_{n-1, 1-\\alpha}$ is the $1-\\alpha$ quantile of t distribution with $n-1$ degrees of freedom.\n",
    "\n",
    "1. Write a function that takes as input $n$, $\\mu$ and $\\alpha$, draws a random sample $X_1,...,X_n\\sim N(\\mu, \\sigma^2)$, computes the test statistic and returns whether the null is rejected or not.\n",
    "2. Write a function that takes as input $n$, $\\mu$, $\\alpha$, and $N$ (the number of repetitions), runs the above $N$ times and returns the proportion of rejections.\n",
    "3. Compute the proportion of rejections for $n=12$, $\\sigma^2=1$, $\\alpha=0.05$, $\\mu=1$, and $N=10000$.\n",
    "4. Repeat the computation for different (positive) values of $\\mu$ and plot the resulting curve. Explain your results.\n",
    "5. Fix again $\\mu = 1$ and repeat the computation for different values of $\\sigma^2$. Plot the resulting curve and explain your results.\n",
    "6. Fix again $\\sigma^2 = 1$ and repeat the computation for different values of $\\alpha$. Plot the resulting curve and explain your results.\n",
    "7. How would the above curves change if you had used a Z-test instead? Repeat the three plots above, adding the relevant curves for the Z-test on each plot.\n"
   ]
  },
  {
   "metadata": {
    "ExecuteTime": {
     "end_time": "2024-11-27T10:49:20.123831Z",
     "start_time": "2024-11-27T10:49:20.121867Z"
    }
   },
   "cell_type": "code",
   "source": "# Your code here",
   "id": "ab3882fdd045c820",
   "outputs": [],
   "execution_count": 3
  }
 ],
 "metadata": {
  "kernelspec": {
   "display_name": "Python 3 (ipykernel)",
   "language": "python",
   "name": "python3"
  },
  "language_info": {
   "codemirror_mode": {
    "name": "ipython",
    "version": 3
   },
   "file_extension": ".py",
   "mimetype": "text/x-python",
   "name": "python",
   "nbconvert_exporter": "python",
   "pygments_lexer": "ipython3",
   "version": "3.11.9"
  }
 },
 "nbformat": 4,
 "nbformat_minor": 5
}
