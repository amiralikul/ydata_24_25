{
 "cells": [
  {
   "cell_type": "markdown",
   "id": "83a98b0d70caac57",
   "metadata": {},
   "source": [
    "# Y-DATA PS4DS Homework 2 - Programming - Version 2\n",
    "#### November 7, 2024"
   ]
  },
  {
   "cell_type": "code",
   "id": "a4bcc959fb4afccf",
   "metadata": {
    "ExecuteTime": {
     "end_time": "2024-11-15T20:05:45.185720Z",
     "start_time": "2024-11-15T20:05:43.977797Z"
    }
   },
   "source": [
    "import random\n",
    "from typing import List\n",
    "import numpy as np\n",
    "from scipy.stats import binom, geom\n",
    "import matplotlib.pyplot as plt"
   ],
   "outputs": [],
   "execution_count": 1
  },
  {
   "metadata": {
    "ExecuteTime": {
     "end_time": "2024-11-15T20:05:45.262665Z",
     "start_time": "2024-11-15T20:05:45.259832Z"
    }
   },
   "cell_type": "code",
   "source": [
    "# Set the seed for reproducibility!\n",
    "random.seed(42)\n",
    "np.random.seed(42)"
   ],
   "id": "cc52778ecb28301d",
   "outputs": [],
   "execution_count": 2
  },
  {
   "cell_type": "markdown",
   "id": "42ccb586df04c791",
   "metadata": {},
   "source": [
    "## Question 1\n",
    "\n",
    "Consider independent Bernoulli trials that each has the same probability $p$ of success.\n",
    "For each of the following questions, create a plot that has $p$ on the x-axis and the required value on the y-axis.\n",
    "* What is the probability of at least $7$ successes in $20$ trials?\n",
    "* What is the probability of exactly $7$ successes in $20$ trials?\n",
    "* Let $X$ be the number of trials until the first success (say, if the first success was on the fourth trial, then $X = 4$). What is the probability that $X = 20$?\n",
    "* What is the expected number of trials until the first success?\n",
    "\n",
    "NOTE: in Version $1$ of this exercise, $X$ was defined as the number of trials until the $7$th success,\n",
    "and in the last part of this question you were asked to calculate the expected number of trials until the seventh success.\n",
    "Answering the questions in Version $1$ is also acceptable.\n",
    "\n",
    "HINT: You can use [scipy.stats.binom](https://docs.scipy.org/doc/scipy/reference/generated/scipy.stats.binom.html)\n",
    "and [scipy.stats.geom](https://docs.scipy.org/doc/scipy/reference/generated/scipy.stats.geom.html) for the calculations.\n",
    "The plots can be generated using [matplotlib](https://matplotlib.org/stable/users/explain/quick_start.html#a-simple-example).\n",
    "The following is an example code snippet to generate a plot:\n",
    "```python\n",
    "x_values = [1, 2, 3, 4, 5]\n",
    "y_values = [1, 4, 9, 16, 25]\n",
    "plt.title(\"Example title\")\n",
    "plt.xlabel(\"Example X-axis label\")\n",
    "plt.ylabel(\"Example Y-axis label\")\n",
    "plt.plot(x_values, y_values)\n",
    "plt.show()\n",
    "```\n"
   ]
  },
  {
   "metadata": {
    "ExecuteTime": {
     "end_time": "2024-11-16T12:36:28.266142Z",
     "start_time": "2024-11-16T12:36:28.012933Z"
    }
   },
   "cell_type": "code",
   "source": [
    "# 7 successes in 20 trials where p is the probability of success\n",
    "get_binom_pmf = lambda p: binom.pmf(7, 20, p)\n",
    "\n",
    "# at least 7 successes in 20 trials\n",
    "get_binom_cdf = lambda p: 1 - binom.cdf(6, 20, p)\n",
    "\n",
    "#what is the probability that X = 20\n",
    "get_geom_pmf = lambda p: geom.pmf(20, p)\n",
    "\n",
    "#expected number of trials until the first success\n",
    "get_geom_mean = lambda p: geom.mean(p)\n",
    "\n",
    "\n"
   ],
   "id": "f9a83b18616fd0dd",
   "outputs": [
    {
     "ename": "NameError",
     "evalue": "name 'p' is not defined",
     "output_type": "error",
     "traceback": [
      "\u001B[0;31m---------------------------------------------------------------------------\u001B[0m",
      "\u001B[0;31mNameError\u001B[0m                                 Traceback (most recent call last)",
      "Cell \u001B[0;32mIn[4], line 1\u001B[0m\n\u001B[0;32m----> 1\u001B[0m binom\u001B[38;5;241m.\u001B[39mpmf(\u001B[38;5;241m7\u001B[39m, \u001B[38;5;241m20\u001B[39m, p)\n",
      "\u001B[0;31mNameError\u001B[0m: name 'p' is not defined"
     ]
    }
   ],
   "execution_count": 4
  },
  {
   "cell_type": "code",
   "id": "6e6ad5a6255df1",
   "metadata": {
    "ExecuteTime": {
     "end_time": "2024-11-15T20:11:39.983472Z",
     "start_time": "2024-11-15T20:11:39.875610Z"
    }
   },
   "source": [
    "    x_values = [1, 2, 3, 4, 5]\n",
    "    y_values = [1, 4, 9, 16, 25]\n",
    "    plt.title(\"Example title\")\n",
    "    plt.xlabel(\"Example X-axis label\")\n",
    "    plt.ylabel(\"Example Y-axis label\")\n",
    "    plt.plot(x_values, y_values)\n",
    "    plt.show()\n",
    "\n",
    "\n"
   ],
   "outputs": [
    {
     "data": {
      "text/plain": [
       "<Figure size 640x480 with 1 Axes>"
      ],
      "image/png": "[encoded data removed]"
     },
     "metadata": {},
     "output_type": "display_data"
    }
   ],
   "execution_count": 3
  },
  {
   "cell_type": "markdown",
   "id": "eed8eb03907cf181",
   "metadata": {},
   "source": [
    "## Question 2\n",
    "\n",
    "In this task you will simulate a simple slot machine.\n",
    "Each time the slot machine is played, an outcome is chosen and some payout is awarded.\n",
    "Given two `lists` representing the probabilities of each outcome and the payouts for each outcome, write a class `SlotMachine` that has the following methods:\n",
    "- `play()`: returns the payout for the outcome.\n",
    "- `expected_payout()`: returns the expected payout of the slot machine.\n",
    "- `variance()`: returns the variance of the payout of the slot machine.\n"
   ]
  },
  {
   "cell_type": "code",
   "id": "884530cc2e22626e",
   "metadata": {
    "ExecuteTime": {
     "end_time": "2024-11-07T13:17:10.658494Z",
     "start_time": "2024-11-07T13:17:10.656317Z"
    }
   },
   "source": [
    "class SlotMachine:\n",
    "    def __init__(self, probs: List[float], payouts: List[float]):\n",
    "        \"\"\"\n",
    "        Initialize the slot machine.\n",
    "\n",
    "        Parameters\n",
    "        ----------\n",
    "            probs : List[float]\n",
    "                List of probabilities for each outcome.\n",
    "            payouts : List[float]\n",
    "                List of payouts for each outcome.\n",
    "        \"\"\"\n",
    "        # It can be reasonable to check that the inputs are all lists of the same length,\n",
    "        # that the probabilities are all positive and sum to 1, etc.\n",
    "        # That is omitted for this exercise.\n",
    "        self.probs = probs\n",
    "        self.payouts = payouts\n",
    "        \n",
    "    \n",
    "    def play(self) -> float:\n",
    "        \"\"\"\n",
    "        Play the slot machine.\n",
    "\n",
    "        Returns\n",
    "        -------\n",
    "            float\n",
    "                Payout for the outcome.\n",
    "        \"\"\"\n",
    "        result = random.choices(self.payouts, weights=self.probs, k=1)    \n",
    "        \n",
    "    \n",
    "    def expected_payout(self) -> float:\n",
    "        \"\"\"\n",
    "        Calculate the expected payout of the slot machine.\n",
    "\n",
    "        Returns\n",
    "        -------\n",
    "            float\n",
    "                Expected payout.\n",
    "        \"\"\"\n",
    "        # Your code here\n",
    "        pass\n",
    "    \n",
    "    def variance(self) -> float:\n",
    "        \"\"\"\n",
    "        Calculate the variance of the payout of the slot machine.\n",
    "\n",
    "        Returns\n",
    "        -------\n",
    "            float\n",
    "                Variance of the payout.\n",
    "        \"\"\"\n",
    "        # Your code here\n",
    "        pass"
   ],
   "outputs": [],
   "execution_count": 4
  },
  {
   "metadata": {
    "ExecuteTime": {
     "end_time": "2024-11-07T13:17:10.665723Z",
     "start_time": "2024-11-07T13:17:10.663075Z"
    }
   },
   "cell_type": "code",
   "source": [
    "# Example usage\n",
    "slot_machine = SlotMachine(probs=[0.5, 0.3, 0.2], payouts=[10, 5, 0])\n",
    "print(slot_machine.play())\n",
    "print(slot_machine.expected_payout())\n",
    "print(slot_machine.variance())"
   ],
   "id": "505c343fd4600b5a",
   "outputs": [
    {
     "name": "stdout",
     "output_type": "stream",
     "text": [
      "None\n",
      "None\n",
      "None\n"
     ]
    }
   ],
   "execution_count": 5
  },
  {
   "cell_type": "markdown",
   "id": "78d0c3062c631829",
   "metadata": {},
   "source": "For the slot machine with probabilities `[0.5, 0.3, 0.2]` and payouts `[10, 5, 0]`, run the `play()` method 10000 times and print the average payout:"
  },
  {
   "cell_type": "code",
   "id": "87e43c60723b9b3b",
   "metadata": {
    "ExecuteTime": {
     "end_time": "2024-11-07T13:17:10.697987Z",
     "start_time": "2024-11-07T13:17:10.696537Z"
    }
   },
   "source": "# Your code here",
   "outputs": [],
   "execution_count": 6
  },
  {
   "metadata": {},
   "cell_type": "markdown",
   "source": [
    "## Question 3\n",
    "\n",
    "Reproduce the two plots from slide 68 of the lecture notes: plot the CDF and PDF of the continuous uniform distributions $U(-2, 2)$, $U(0, 1)$, $U(1, 3)$ and $U(-1, 1)$. For each one of the distributions, what is the probability of drawing a number equal or less than $0$?\n",
    " "
   ],
   "id": "6bdd58f6c8c8e7da"
  },
  {
   "metadata": {
    "ExecuteTime": {
     "end_time": "2024-11-07T13:17:10.709647Z",
     "start_time": "2024-11-07T13:17:10.708301Z"
    }
   },
   "cell_type": "code",
   "source": "# Your code here",
   "id": "e704a1b0f9b646a2",
   "outputs": [],
   "execution_count": 7
  }
 ],
 "metadata": {
  "kernelspec": {
   "display_name": "Python 3 (ipykernel)",
   "language": "python",
   "name": "python3"
  },
  "language_info": {
   "codemirror_mode": {
    "name": "ipython",
    "version": 3
   },
   "file_extension": ".py",
   "mimetype": "text/x-python",
   "name": "python",
   "nbconvert_exporter": "python",
   "pygments_lexer": "ipython3",
   "version": "3.11.9"
  }
 },
 "nbformat": 4,
 "nbformat_minor": 5
}
