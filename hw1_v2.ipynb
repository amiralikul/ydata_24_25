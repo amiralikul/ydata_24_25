{
  "cells": [
    {
      "cell_type": "markdown",
      "id": "83a98b0d70caac57",
      "metadata": {
        "id": "83a98b0d70caac57"
      },
      "source": [
        "# Y-DATA PS4DS Homework 1 - Programming\n",
        "#### Version 2\n",
        "#### October 30, 2024"
      ]
    },
    {
      "cell_type": "code",
      "id": "a4bcc959fb4afccf",
      "metadata": {
        "ExecuteTime": {
          "end_time": "2024-10-30T12:28:58.597047Z",
          "start_time": "2024-10-30T12:28:58.593555Z"
        },
        "id": "a4bcc959fb4afccf"
      },
      "source": [
        "import random"
      ],
      "outputs": [],
      "execution_count": null
    },
    {
      "cell_type": "markdown",
      "id": "42ccb586df04c791",
      "metadata": {
        "id": "42ccb586df04c791"
      },
      "source": [
        "## Question 1\n",
        "\n",
        "Write two Python functions that implement the union and intersection set operations, respectively.\n",
        "\n",
        "Each function should take two `list`s as input, and return a single `list`.\n",
        "You may assume that the input lists represent sets (that there are no duplicate elements within each list),\n",
        "and your output should also represent a set.\n",
        "Don't use Python's `set` operations - the idea is for you to implement them yourself."
      ]
    },
    {
      "cell_type": "code",
      "id": "6e6ad5a6255df1",
      "metadata": {
        "ExecuteTime": {
          "end_time": "2024-10-30T12:28:58.622656Z",
          "start_time": "2024-10-30T12:28:58.620399Z"
        },
        "id": "6e6ad5a6255df1"
      },
      "source": [
        "def set_union(a, b):\n",
        "    \"\"\"\n",
        "    Compute the union of two sets.\n",
        "\n",
        "    Parameters\n",
        "    ----------\n",
        "        a : list\n",
        "            List representing a set.\n",
        "        b : list\n",
        "            List representing a set.\n",
        "\n",
        "    Returns\n",
        "    -------\n",
        "        list\n",
        "            The union of the two sets.\n",
        "    \"\"\"\n",
        "\n",
        "    result = a.copy()\n",
        "\n",
        "    for element in b:\n",
        "            result.append(element)\n",
        "    return result\n",
        "\n",
        "    pass"
      ],
      "outputs": [],
      "execution_count": null
    },
    {
      "cell_type": "code",
      "id": "initial_id",
      "metadata": {
        "collapsed": true,
        "jupyter": {
          "outputs_hidden": true
        },
        "ExecuteTime": {
          "end_time": "2024-10-30T12:28:58.742143Z",
          "start_time": "2024-10-30T12:28:58.740075Z"
        },
        "id": "initial_id"
      },
      "source": [
        "def set_intersection(a, b):\n",
        "    \"\"\"\n",
        "    Compute the intersection of two sets.\n",
        "\n",
        "    Parameters\n",
        "    ----------\n",
        "        a : list\n",
        "            List representing a set.\n",
        "        b : list\n",
        "            List representing a set.\n",
        "\n",
        "    Returns\n",
        "    -------\n",
        "        list\n",
        "            The intersection of the two sets.\n",
        "    \"\"\"\n",
        "    result = a.copy()\n",
        "\n",
        "    for element in b:\n",
        "      if element not in result:\n",
        "            result.append(element)\n",
        "    return result\n",
        "    pass"
      ],
      "outputs": [],
      "execution_count": null
    },
    {
      "cell_type": "markdown",
      "id": "eed8eb03907cf181",
      "metadata": {
        "id": "eed8eb03907cf181"
      },
      "source": [
        "## Question 2\n",
        "\n",
        "In this and the following questions we illustrate the Monte Carlo method.\n",
        "This is a common technique in data science, where one uses random sampling to approximate solutions to problems that may be hard to solve analytically. See the [Wikipedia page](https://en.wikipedia.org/wiki/Monte_Carlo_method) for more information.\n",
        "\n",
        "Two players, Alice and Bob, are competing in a simple game: they each roll two six-sided dice. Alice wins if the sum of her dice is exactly 7. Bob wins if the sum of his dice is exactly 8. If neither or both reach their target, the round is a draw.\n",
        "\n",
        "First, calculate the probabilities for Alice winning the game, Bob winning the game, and the game being a draw:\n",
        "\n",
        "\\[YOUR ANSWER HERE\\]\n",
        "\n",
        "Next, write a Python function that simulates the game and returns the result. The function should take no arguments and return a string: 'Alice', 'Bob', or 'Draw'.\n"
      ]
    },
    {
      "cell_type": "code",
      "id": "884530cc2e22626e",
      "metadata": {
        "ExecuteTime": {
          "end_time": "2024-10-30T12:28:58.749478Z",
          "start_time": "2024-10-30T12:28:58.747557Z"
        },
        "id": "884530cc2e22626e"
      },
      "source": [
        "import random\n",
        "\n",
        "def dice_game_simulation():\n",
        "\n",
        "    \"\"\"\n",
        "    Simulate the dice game.\n",
        "\n",
        "    Returns\n",
        "    -------\n",
        "    str\n",
        "        The winner of the game: 'Alice', 'Bob', or 'Draw'.\n",
        "    \"\"\"\n",
        "    alice_roll = random.randint(1, 6) + random.randint(1, 6)\n",
        "\n",
        "    bob_roll = random.randint(1, 6) + random.randint(1, 6)\n",
        "\n",
        "    if alice_roll == 7:\n",
        "        return 'Alice'\n",
        "    elif bob_roll == 8:\n",
        "        return 'Bob'\n",
        "    else:\n",
        "        return 'Draw'\n",
        "    pass"
      ],
      "outputs": [],
      "execution_count": null
    },
    {
      "cell_type": "markdown",
      "id": "3f2e26460e28019",
      "metadata": {
        "id": "3f2e26460e28019"
      },
      "source": [
        "Finally, write a function that runs the game multiple times and returns the proportion of wins for each player and the proportion of draws."
      ]
    },
    {
      "cell_type": "code",
      "id": "505c343fd4600b5a",
      "metadata": {
        "ExecuteTime": {
          "end_time": "2024-10-30T12:28:58.755020Z",
          "start_time": "2024-10-30T12:28:58.753374Z"
        },
        "id": "505c343fd4600b5a"
      },
      "source": [
        "def dice_game_multiple_simulation(n):\n",
        "    \"\"\"\n",
        "    Simulate the dice game multiple times.\n",
        "\n",
        "    Parameters\n",
        "    ----------\n",
        "    n : int\n",
        "        Number of times to simulate the game.\n",
        "\n",
        "    Returns\n",
        "    -------\n",
        "    tuple\n",
        "        Proportion of wins for Alice, Bob, and draws.\n",
        "    \"\"\"\n",
        "    alice_wins = 0\n",
        "    bob_wins = 0\n",
        "    draws = 0\n",
        "\n",
        "    for _ in range(n):\n",
        "        result = dice_game_simulation()\n",
        "        if result == 'Alice':\n",
        "            alice_wins += 1\n",
        "        elif result == 'Bob':\n",
        "            bob_wins += 1\n",
        "        else:\n",
        "            draws += 1\n",
        "\n",
        "    alice_proportion = alice_wins / n\n",
        "    bob_proportion = bob_wins / n\n",
        "    draw_proportion = draws / n\n",
        "\n",
        "    return (alice_proportion, bob_proportion, draw_proportion)\n",
        "\n",
        "    pass"
      ],
      "outputs": [],
      "execution_count": null
    },
    {
      "cell_type": "markdown",
      "id": "78d0c3062c631829",
      "metadata": {
        "id": "78d0c3062c631829"
      },
      "source": [
        "\n",
        "Run the simulation with `n=10000` and print the results."
      ]
    },
    {
      "cell_type": "code",
      "id": "87e43c60723b9b3b",
      "metadata": {
        "ExecuteTime": {
          "end_time": "2024-10-30T12:28:58.783849Z",
          "start_time": "2024-10-30T12:28:58.782120Z"
        },
        "id": "87e43c60723b9b3b",
        "outputId": "b2ad36e4-76c7-4661-b4a7-de893f5f3e6c",
        "colab": {
          "base_uri": "https://localhost:8080/"
        }
      },
      "source": [
        "print(dice_game_multiple_simulation(10000))"
      ],
      "outputs": [
        {
          "output_type": "stream",
          "name": "stdout",
          "text": [
            "(0.1662, 0.1149, 0.7189)\n"
          ]
        }
      ],
      "execution_count": null
    },
    {
      "cell_type": "markdown",
      "id": "c5344159f06a1327",
      "metadata": {
        "id": "c5344159f06a1327"
      },
      "source": [
        "## Question 3\n",
        "\n",
        "The Monty Hall problem is a famous statistical puzzle. There are three doors, behind one of which is a car and behind the others, goats.\n",
        "After the contestant picks a door, the host, who knows what's behind each door, opens one of the remaining doors to reveal a goat.\n",
        "The contestant can then switch their choice to the other unopened door or stick with their original choice.\n",
        "The problem to solve is whether the contestant should switch or stay to have the highest probability of winning the car.\n",
        "\n",
        "Write a Python function that simulates the Monty Hall problem:"
      ]
    },
    {
      "cell_type": "code",
      "id": "9ea8d579e10c57b3",
      "metadata": {
        "ExecuteTime": {
          "end_time": "2024-10-30T12:28:58.875105Z",
          "start_time": "2024-10-30T12:28:58.872459Z"
        },
        "id": "9ea8d579e10c57b3"
      },
      "source": [
        "import random\n",
        "\n",
        "def monty_hall_simulation(strategy):\n",
        "    \"\"\"\n",
        "    Simulate the Monty Hall problem.\n",
        "\n",
        "    Parameters\n",
        "    ----------\n",
        "    strategy : str\n",
        "        Strategy of the player. Either 'keep' or 'switch'.\n",
        "\n",
        "    Returns\n",
        "    -------\n",
        "    bool\n",
        "        Whether the player wins the car.\n",
        "    \"\"\"\n",
        "\n",
        "    car_door = random.randint(0, 2)\n",
        "\n",
        "    contestant_choice = random.randint(0, 2)\n",
        "\n",
        "    remaining_doors = [door for door in range(3) if door != contestant_choice and door != car_door]\n",
        "    host_opens = random.choice(remaining_doors)\n",
        "\n",
        "\n",
        "    if strategy == 'keep':\n",
        "        final_choice = contestant_choice\n",
        "    elif strategy == 'switch':\n",
        "        final_choice = [door for door in range(3) if door != contestant_choice and door != host_opens][0]\n",
        "\n",
        "    return final_choice == car_door\n",
        "\n",
        "    pass"
      ],
      "outputs": [],
      "execution_count": null
    },
    {
      "metadata": {
        "ExecuteTime": {
          "end_time": "2024-10-30T12:28:58.908645Z",
          "start_time": "2024-10-30T12:28:58.906211Z"
        },
        "id": "a7b9d870d71eb8c0",
        "outputId": "3f4abb6e-155c-4719-f21b-7c579ef1ec94",
        "colab": {
          "base_uri": "https://localhost:8080/"
        }
      },
      "cell_type": "code",
      "source": [
        "print(monty_hall_simulation('keep'))\n",
        "print(monty_hall_simulation('switch'))"
      ],
      "id": "a7b9d870d71eb8c0",
      "outputs": [
        {
          "output_type": "stream",
          "name": "stdout",
          "text": [
            "False\n",
            "True\n"
          ]
        }
      ],
      "execution_count": null
    },
    {
      "cell_type": "markdown",
      "id": "55b4867c656445c6",
      "metadata": {
        "id": "55b4867c656445c6"
      },
      "source": [
        "Now write a function that runs the Monty Hall game multiple times using the same strategy each time.\n",
        "This function will simulate playing the game `n` times and will return the number of times the contestant wins the car.\n",
        "The goal is to use this function to gather evidence on which strategy is more successful over many trials.\n"
      ]
    },
    {
      "cell_type": "code",
      "id": "f6b633b231d0e9ca",
      "metadata": {
        "ExecuteTime": {
          "end_time": "2024-10-30T12:28:58.926385Z",
          "start_time": "2024-10-30T12:28:58.924577Z"
        },
        "id": "f6b633b231d0e9ca"
      },
      "source": [
        "def monty_hall_multiple_simulation(n, strategy):\n",
        "    \"\"\"\n",
        "    Simulate the Monty Hall problem multiple times.\n",
        "\n",
        "    Parameters\n",
        "    ----------\n",
        "    n : int\n",
        "        Number of times to simulate the game.\n",
        "    strategy : str\n",
        "        Strategy of the player. Either 'keep' or 'switch'.\n",
        "\n",
        "    Returns\n",
        "    -------\n",
        "    int\n",
        "        Number of times the player wins the car.\n",
        "    \"\"\"\n",
        "    wins = 0\n",
        "    for _ in range(n):\n",
        "        if monty_hall_simulation(strategy):\n",
        "            wins += 1\n",
        "    return wins\n",
        "\n",
        "    pass"
      ],
      "outputs": [],
      "execution_count": null
    },
    {
      "cell_type": "markdown",
      "id": "79226a7347e1cb9e",
      "metadata": {
        "id": "79226a7347e1cb9e"
      },
      "source": [
        "Run the simulation with `n=10000` for both strategies and print the results."
      ]
    },
    {
      "cell_type": "code",
      "id": "138d9d5c59f9512d",
      "metadata": {
        "ExecuteTime": {
          "end_time": "2024-10-30T12:28:58.937221Z",
          "start_time": "2024-10-30T12:28:58.935190Z"
        },
        "id": "138d9d5c59f9512d",
        "outputId": "f04762fd-fba9-4255-d585-c4099043058b",
        "colab": {
          "base_uri": "https://localhost:8080/"
        }
      },
      "source": [
        "print(monty_hall_multiple_simulation(10000, 'keep'))\n",
        "print(monty_hall_multiple_simulation(10000, 'switch'))"
      ],
      "outputs": [
        {
          "output_type": "stream",
          "name": "stdout",
          "text": [
            "3289\n",
            "6775\n"
          ]
        }
      ],
      "execution_count": null
    }
  ],
  "metadata": {
    "kernelspec": {
      "display_name": "Python 3 (ipykernel)",
      "language": "python",
      "name": "python3"
    },
    "language_info": {
      "codemirror_mode": {
        "name": "ipython",
        "version": 3
      },
      "file_extension": ".py",
      "mimetype": "text/x-python",
      "name": "python",
      "nbconvert_exporter": "python",
      "pygments_lexer": "ipython3",
      "version": "3.11.9"
    },
    "colab": {
      "provenance": []
    }
  },
  "nbformat": 4,
  "nbformat_minor": 5
}