{
 "cells": [
  {
   "cell_type": "markdown",
   "id": "83a98b0d70caac57",
   "metadata": {},
   "source": [
    "# Y-DATA PS4DS Homework 1 - Programming\n",
    "#### October 29, 2024"
   ]
  },
  {
   "cell_type": "code",
   "execution_count": 40,
   "id": "a4bcc959fb4afccf",
   "metadata": {
    "ExecuteTime": {
     "end_time": "2024-10-29T22:01:32.454010Z",
     "start_time": "2024-10-29T22:01:32.449310Z"
    }
   },
   "outputs": [],
   "source": [
    "import random"
   ]
  },
  {
   "cell_type": "markdown",
   "id": "42ccb586df04c791",
   "metadata": {},
   "source": [
    "## Question 1\n",
    "\n",
    "Write two Python functions that implement the union and intersection set operations, respectively.\n",
    "\n",
    "Each function should take two `list`s as input, and return a single `list`.\n",
    "You may assume that the input lists represent sets (that there are no duplicate elements within each list),\n",
    "and your output should also represent a set.\n",
    "Don't use Python's `set` operations - the idea is for you to implement them yourself."
   ]
  },
  {
   "cell_type": "code",
   "execution_count": 24,
   "id": "6e6ad5a6255df1",
   "metadata": {
    "ExecuteTime": {
     "end_time": "2024-10-29T22:01:32.460121Z",
     "start_time": "2024-10-29T22:01:32.458310Z"
    }
   },
   "outputs": [],
   "source": [
    "def set_union(a, b):\n",
    "    \"\"\"\n",
    "    Compute the union of two sets.\n",
    "    \n",
    "    Parameters\n",
    "    ----------\n",
    "        a : list\n",
    "            List representing a set.\n",
    "        b : list\n",
    "            List representing a set.\n",
    "            \n",
    "    Returns\n",
    "    -------\n",
    "        list\n",
    "            The union of the two sets.\n",
    "    \"\"\"\n",
    "    # Your code here\n",
    "    c = []\n",
    "    for element in a:\n",
    "        if element in b:\n",
    "            continue\n",
    "        c.append(element)\n",
    "    c.extend(b)\n",
    "    return c"
   ]
  },
  {
   "cell_type": "code",
   "execution_count": 32,
   "id": "initial_id",
   "metadata": {
    "ExecuteTime": {
     "end_time": "2024-10-29T22:01:32.557251Z",
     "start_time": "2024-10-29T22:01:32.555633Z"
    }
   },
   "outputs": [],
   "source": [
    "def set_intersection(a, b):\n",
    "    \"\"\"\n",
    "    Compute the intersection of two sets.\n",
    "    \n",
    "    Parameters\n",
    "    ----------\n",
    "        a : list\n",
    "            List representing a set.\n",
    "        b : list\n",
    "            List representing a set.\n",
    "            \n",
    "    Returns\n",
    "    -------\n",
    "        list\n",
    "            The intersection of the two sets.\n",
    "    \"\"\"\n",
    "    # Your code here\n",
    "    c = []\n",
    "    for element in a:\n",
    "        if element in b:\n",
    "            c.append(element)\n",
    "    return c"
   ]
  },
  {
   "cell_type": "markdown",
   "id": "eed8eb03907cf181",
   "metadata": {},
   "source": [
    "## Question 2\n",
    "\n",
    "Two players, Alice and Bob, are competing in a simple game: they each roll two six-sided dice. Alice wins if the sum of her dice is exactly 7. Bob wins if the sum of his dice is exactly 8. If neither reaches their target, the round is a draw.\n",
    "\n",
    "First, calculate the probabilities for Alice winning the game, Bob winning the game, and the game being a draw:\n",
    "\n",
    "P['Alice'] = 6/36,\n",
    "P['Bob'] = 5/36,\n",
    "P['Draw'] = 25/36\n",
    "\n",
    "Next, write a Python function that simulates the game and returns the result. The function should take no arguments and return a string: 'Alice', 'Bob', or 'Draw'.\n"
   ]
  },
  {
   "cell_type": "code",
   "execution_count": 43,
   "id": "884530cc2e22626e",
   "metadata": {
    "ExecuteTime": {
     "end_time": "2024-10-29T22:01:32.563282Z",
     "start_time": "2024-10-29T22:01:32.561533Z"
    }
   },
   "outputs": [],
   "source": [
    "def dice_game_simulation():\n",
    "    \"\"\"\n",
    "    Simulate the dice game.\n",
    "\n",
    "    Returns\n",
    "    -------\n",
    "        str\n",
    "            The winner of the game: 'Alice', 'Bob', or 'Draw'.\n",
    "    \"\"\"\n",
    "    # Your code here\n",
    "    first_dice = random.randint(1,6)\n",
    "    second_dice = random.randint(1,6)\n",
    "    if first_dice + second_dice == 7:\n",
    "        return 'Alice'\n",
    "    elif first_dice + second_dice == 8:\n",
    "        return 'Bob'\n",
    "    return 'Draw'"
   ]
  },
  {
   "cell_type": "markdown",
   "id": "3f2e26460e28019",
   "metadata": {},
   "source": [
    "Finally, write a function that runs the game multiple times and returns the proportion of wins for each player and the proportion of draws."
   ]
  },
  {
   "cell_type": "code",
   "execution_count": 133,
   "id": "505c343fd4600b5a",
   "metadata": {
    "ExecuteTime": {
     "end_time": "2024-10-29T22:01:32.568647Z",
     "start_time": "2024-10-29T22:01:32.566871Z"
    }
   },
   "outputs": [],
   "source": [
    "def dice_game_multiple_simulation(n):\n",
    "    \"\"\"\n",
    "    Simulate the dice game multiple times.\n",
    "\n",
    "    Parameters\n",
    "    ----------\n",
    "        n : int\n",
    "            Number of times to simulate the game.\n",
    "\n",
    "    Returns\n",
    "    -------\n",
    "        tuple\n",
    "            Proportion of wins for Alice, Bob, and draws.\n",
    "    \"\"\"\n",
    "    # Your code here\n",
    "    results = {}\n",
    "    for i in range(n):\n",
    "        first_dice = random.randint(1,6)\n",
    "        second_dice = random.randint(1,6)\n",
    "        if first_dice + second_dice == 7:\n",
    "            if 'Alice' in results:\n",
    "                results['Alice'] +=1\n",
    "                continue\n",
    "            results['Alice'] = 1\n",
    "            continue\n",
    "        elif first_dice + second_dice == 8:\n",
    "            if 'Bob' in results:\n",
    "                results['Bob'] +=1\n",
    "                continue\n",
    "            results['Bob'] = 1\n",
    "            continue\n",
    "        else:\n",
    "            if 'Draw' in results:\n",
    "                results['Draw'] +=1\n",
    "                continue\n",
    "            results['Draw'] = 1\n",
    "    return 'Alice\\'s proportion of wins: '+f'{results[\"Alice\"]/n}'+'\\n'+'Bob\\'s proportion of wins: '+f'{results[\"Bob\"]/n}'+'\\n'+'Proportion of draws: '+f'{results[\"Draw\"]/n}'"
   ]
  },
  {
   "cell_type": "markdown",
   "id": "78d0c3062c631829",
   "metadata": {},
   "source": [
    "\n",
    "Run the simulation with `n=10000` and print the results."
   ]
  },
  {
   "cell_type": "code",
   "execution_count": 138,
   "id": "87e43c60723b9b3b",
   "metadata": {
    "ExecuteTime": {
     "end_time": "2024-10-29T22:01:32.574834Z",
     "start_time": "2024-10-29T22:01:32.573132Z"
    }
   },
   "outputs": [
    {
     "name": "stdout",
     "output_type": "stream",
     "text": [
      "Alice's proportion of wins: 0.1667\n",
      "Bob's proportion of wins: 0.1396\n",
      "Proportion of draws: 0.6937\n"
     ]
    }
   ],
   "source": [
    "print(dice_game_multiple_simulation(10000))"
   ]
  },
  {
   "cell_type": "markdown",
   "id": "c5344159f06a1327",
   "metadata": {},
   "source": [
    "## Question 3\n",
    "\n",
    "The Monty Hall problem is a famous statistical puzzle. There are three doors, behind one of which is a car and behind the others, goats.\n",
    "After the contestant picks a door, the host, who knows what's behind each door, opens one of the remaining doors to reveal a goat.\n",
    "The contestant can then switch their choice to the other unopened door or stick with their original choice.\n",
    "The problem to solve is whether the contestant should switch or stay to have the highest probability of winning the car.\n",
    "\n",
    "Write a Python function that simulates the Monty Hall problem:"
   ]
  },
  {
   "cell_type": "code",
   "execution_count": 201,
   "id": "9ea8d579e10c57b3",
   "metadata": {
    "ExecuteTime": {
     "end_time": "2024-10-29T22:01:32.585392Z",
     "start_time": "2024-10-29T22:01:32.583800Z"
    }
   },
   "outputs": [],
   "source": [
    "def monty_hall_simulation(strategy):\n",
    "    \"\"\"\n",
    "    Simulate the Monty Hall problem.\n",
    "\n",
    "    Parameters\n",
    "    ----------\n",
    "        strategy : str\n",
    "            Strategy of the player. Either 'keep' or 'switch'.\n",
    "\n",
    "    Returns\n",
    "    -------\n",
    "        bool\n",
    "            Whether the player wins the car.\n",
    "    \"\"\"\n",
    "    # Your code here\n",
    "    doors = random.sample(range(0, 3), 3)\n",
    "    car = doors[0]\n",
    "    goat1 = doors[1]\n",
    "    goat2 = doors[2]\n",
    "    first_pick = random.randint(0,2)\n",
    "    if first_pick == goat1:\n",
    "        doors.pop(goat2)\n",
    "    if first_pick == goat2:\n",
    "        doors.pop(goat1)\n",
    "    if first_pick == car:\n",
    "        doors.pop(random.choice([goat1, goat2]))\n",
    "    if strategy == 'keep':\n",
    "        if first_pick == car:\n",
    "            return 1\n",
    "        return 0\n",
    "    if first_pick != car:\n",
    "            return 1\n",
    "    return 0"
   ]
  },
  {
   "cell_type": "code",
   "execution_count": 203,
   "id": "a7b9d870d71eb8c0",
   "metadata": {
    "ExecuteTime": {
     "end_time": "2024-10-29T22:01:32.591896Z",
     "start_time": "2024-10-29T22:01:32.590319Z"
    }
   },
   "outputs": [
    {
     "name": "stdout",
     "output_type": "stream",
     "text": [
      "0\n",
      "1\n"
     ]
    }
   ],
   "source": [
    "print(monty_hall_simulation('keep'))\n",
    "print(monty_hall_simulation('switch'))"
   ]
  },
  {
   "cell_type": "markdown",
   "id": "55b4867c656445c6",
   "metadata": {},
   "source": [
    "Now write a function that runs the Monty Hall game multiple times using the same strategy each time.\n",
    "This function will simulate playing the game `n` times and will return the number of times the contestant wins the car.\n",
    "The goal is to use this function to gather evidence on which strategy is more successful over many trials.\n"
   ]
  },
  {
   "cell_type": "code",
   "execution_count": 188,
   "id": "f6b633b231d0e9ca",
   "metadata": {
    "ExecuteTime": {
     "end_time": "2024-10-29T22:01:32.661729Z",
     "start_time": "2024-10-29T22:01:32.659558Z"
    }
   },
   "outputs": [],
   "source": [
    "def monty_hall_multiple_simulation(n, strategy):\n",
    "    \"\"\"\n",
    "    Simulate the Monty Hall problem multiple times.\n",
    "\n",
    "    Parameters\n",
    "    ----------\n",
    "        n : int\n",
    "            Number of times to simulate the game.\n",
    "        strategy : str\n",
    "            Strategy of the player. Either 'keep' or 'switch'.\n",
    "\n",
    "    Returns\n",
    "    -------\n",
    "        int\n",
    "            Number of times the player wins the car.\n",
    "    \"\"\"\n",
    "    # Your code here\n",
    "    wins = 0\n",
    "    for games in range(n):\n",
    "        doors = random.sample(range(0, 3), 3)\n",
    "        car = doors[0]\n",
    "        goat1 = doors[1]\n",
    "        goat2 = doors[2]\n",
    "        first_pick = random.randint(0,2)\n",
    "        if first_pick == goat1:\n",
    "            doors.pop(goat2)\n",
    "        if first_pick == goat2:\n",
    "            doors.pop(goat1)\n",
    "        if first_pick == car:\n",
    "            doors.pop(random.choice([goat1, goat2]))\n",
    "        if strategy == 'keep':\n",
    "            if first_pick == car:\n",
    "                wins+=1\n",
    "                continue\n",
    "            continue\n",
    "        if first_pick != car:\n",
    "            wins+=1\n",
    "    return wins"
   ]
  },
  {
   "cell_type": "markdown",
   "id": "79226a7347e1cb9e",
   "metadata": {},
   "source": [
    "Run the simulation with `n=10000` for both strategies and print the results."
   ]
  },
  {
   "cell_type": "code",
   "execution_count": 199,
   "id": "138d9d5c59f9512d",
   "metadata": {
    "ExecuteTime": {
     "end_time": "2024-10-29T22:01:32.668506Z",
     "start_time": "2024-10-29T22:01:32.666825Z"
    }
   },
   "outputs": [
    {
     "name": "stdout",
     "output_type": "stream",
     "text": [
      "3301\n",
      "6657\n"
     ]
    }
   ],
   "source": [
    "print(monty_hall_multiple_simulation(10000, 'keep'))\n",
    "print(monty_hall_multiple_simulation(10000, 'switch'))"
   ]
  }
 ],
 "metadata": {
  "kernelspec": {
   "display_name": "Python 3 (ipykernel)",
   "language": "python",
   "name": "python3"
  },
  "language_info": {
   "codemirror_mode": {
    "name": "ipython",
    "version": 3
   },
   "file_extension": ".py",
   "mimetype": "text/x-python",
   "name": "python",
   "nbconvert_exporter": "python",
   "pygments_lexer": "ipython3",
   "version": "3.12.4"
  }
 },
 "nbformat": 4,
 "nbformat_minor": 5
}
